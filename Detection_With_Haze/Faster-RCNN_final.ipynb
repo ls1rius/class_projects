{
 "cells": [
  {
   "cell_type": "code",
   "execution_count": 145,
   "metadata": {},
   "outputs": [],
   "source": [
    "import torch\n",
    "import glob\n",
    "import cv2\n",
    "import os\n",
    "import numpy as np\n",
    "import random\n",
    "import time\n",
    "import matplotlib.pyplot as plt\n",
    "from torch.optim.lr_scheduler import ReduceLROnPlateau\n",
    "from xml.dom.minidom import parse\n",
    "from torchvision.models.detection.faster_rcnn import fasterrcnn_resnet50_fpn"
   ]
  },
  {
   "cell_type": "code",
   "execution_count": 146,
   "metadata": {},
   "outputs": [],
   "source": [
    "os.environ[\"CUDA_DEVICE_ORDER\"] = \"PCI_BUS_ID\"\n",
    "os.environ[\"CUDA_VISIBLE_DEVICES\"] = \"2\""
   ]
  },
  {
   "cell_type": "code",
   "execution_count": 147,
   "metadata": {},
   "outputs": [],
   "source": [
    "idx2label = [\"__background__\", \"person\", \"bicycle\", \"car\", \"motorbike\", \"bus\"]\n",
    "label2idx = {label:idx for idx, label in enumerate(idx2label)}"
   ]
  },
  {
   "cell_type": "code",
   "execution_count": 148,
   "metadata": {},
   "outputs": [],
   "source": [
    "def get_image_data(data_dir = \"./data/G3/\"):\n",
    "    image_data = dict()\n",
    "    img_name_list = glob.glob(os.path.join(data_dir, \"*.png\"))\n",
    "    for image_file in img_name_list:\n",
    "        image_file = os.path.basename(image_file).split(\".png\")[0]\n",
    "        image_filename = os.path.join(data_dir, image_file + \".png\")\n",
    "        image_data[image_file] = torch.Tensor(cv2.imread(image_filename)).permute(2,0,1)\n",
    "    return image_data"
   ]
  },
  {
   "cell_type": "code",
   "execution_count": 149,
   "metadata": {},
   "outputs": [],
   "source": [
    "def vis_data(img_name, image, target, data_dir=\"./data/pred/\", isPred = True, show=True):\n",
    "    image = np.array(image).astype(np.uint8)\n",
    "    boxes = target['boxes'].cpu().numpy()\n",
    "    labels = target['labels'].cpu().numpy()\n",
    "    \n",
    "    if isPred:\n",
    "        scores = target[\"scores\"].cpu().numpy()\n",
    "        for i, score in enumerate(scores):\n",
    "            if(score > 0.8):\n",
    "                cv2.putText(image, idx2label[labels[i]], (int(boxes[i][0]), int(boxes[i][1])), cv2.FONT_HERSHEY_COMPLEX, 1.0, (0,0,255), 1)\n",
    "                cv2.rectangle(image, (boxes[i][0], boxes[i][1]), (boxes[i][2], boxes[i][3]), tuple(random.randint(0,255) for _ in range(3)), 2)\n",
    "    else:\n",
    "        for i in range(len(boxes)):\n",
    "            cv2.putText(image, idx2label[labels[i]], (int(boxes[i][0]), int(boxes[i][1])), cv2.FONT_HERSHEY_COMPLEX, 1.0, (0,0,255), 1)\n",
    "            cv2.rectangle(image, (boxes[i][0], boxes[i][1]), (boxes[i][2], boxes[i][3]), tuple(random.randint(0,255) for _ in range(3)), 2)\n",
    "    \n",
    "    cv2.imwrite(os.path.join(data_dir, img_name + \".png\"), image)\n",
    "    \n",
    "    if show:\n",
    "        image = cv2.cvtColor(image, cv2.COLOR_RGB2BGR)\n",
    "        plt.imshow(image)"
   ]
  },
  {
   "cell_type": "code",
   "execution_count": 150,
   "metadata": {},
   "outputs": [],
   "source": [
    "def writelog(img_name, boxes, labels, scores, data_dir = \"./data/pt/\", threshold = 0.8):\n",
    "    data_len = len(scores)\n",
    "    with open(os.path.join(data_dir, img_name + \".txt\"), \"w\") as f:\n",
    "        for i in range(data_len):\n",
    "            if scores[i] > threshold :\n",
    "                f.write(\"{} {} {} {} {}\\n\".format(idx2label[labels[i]], boxes[i][0], boxes[i][1], boxes[i][2], boxes[i][3]))\n",
    "    f.close()"
   ]
  },
  {
   "cell_type": "code",
   "execution_count": 151,
   "metadata": {},
   "outputs": [],
   "source": [
    "def compute_IOU(rec1,rec2):\n",
    "    #rec: rectangle, [xmin ymin xmax ymax]\n",
    "    #return IoU of rec1 and rec2\n",
    "    width=max(0,min(rec1[2],rec2[2])-max(rec1[0],rec2[0]))\n",
    "    hight=max(0,min(rec1[3],rec2[3])-max(rec1[1],rec2[1]))\n",
    "    inter=width*hight\n",
    "    union=(rec1[3]-rec1[1])*(rec1[2]-rec1[0])+(rec2[3]-rec2[1])*(rec2[2]-rec2[0])-inter\n",
    "    return inter/union"
   ]
  },
  {
   "cell_type": "code",
   "execution_count": 152,
   "metadata": {},
   "outputs": [],
   "source": [
    "def evaluate_model_nobatch(image_data):\n",
    "#     model = torch.load(\"best_model.pt\", map_location=torch.device('cpu'))\n",
    "    model.eval()\n",
    "    \n",
    "    for img_name in image_data:\n",
    "\n",
    "        with torch.no_grad():\n",
    "            if use_cuda:\n",
    "                pred_data = model([image_data[img_name].cuda()])\n",
    "            else:\n",
    "                pred_data = model([image_data[img_name].cpu()])\n",
    "        \n",
    "        writelog(img_name = img_name, boxes = pred_data[0][\"boxes\"].cpu(), labels = pred_data[0][\"labels\"].cpu(), scores = pred_data[0][\"scores\"].cpu())\n",
    "        vis_data(img_name = img_name, image = image_data[img_name].permute(1,2,0), target = pred_data[0], data_dir=\"./data/pred/\", isPred = True, show=False)\n",
    "        \n"
   ]
  },
  {
   "cell_type": "code",
   "execution_count": 153,
   "metadata": {},
   "outputs": [],
   "source": [
    "image_data = get_image_data()"
   ]
  },
  {
   "cell_type": "code",
   "execution_count": 154,
   "metadata": {},
   "outputs": [],
   "source": [
    "use_cuda = True"
   ]
  },
  {
   "cell_type": "code",
   "execution_count": 155,
   "metadata": {},
   "outputs": [],
   "source": [
    "if use_cuda:\n",
    "    model = torch.load(\"best_model_0.0211.pt\", map_location=torch.device('cuda'))\n",
    "else:\n",
    "    model = torch.load(\"best_model_0.0211.pt\", map_location=torch.device('cpu'))"
   ]
  },
  {
   "cell_type": "code",
   "execution_count": 156,
   "metadata": {},
   "outputs": [],
   "source": [
    "evaluate_model_nobatch(image_data)"
   ]
  },
  {
   "cell_type": "code",
   "execution_count": null,
   "metadata": {},
   "outputs": [],
   "source": []
  },
  {
   "cell_type": "code",
   "execution_count": null,
   "metadata": {},
   "outputs": [],
   "source": []
  },
  {
   "cell_type": "code",
   "execution_count": 18,
   "metadata": {},
   "outputs": [],
   "source": [
    "torch.cuda.empty_cache()"
   ]
  },
  {
   "cell_type": "code",
   "execution_count": null,
   "metadata": {},
   "outputs": [],
   "source": []
  },
  {
   "cell_type": "code",
   "execution_count": null,
   "metadata": {},
   "outputs": [],
   "source": []
  },
  {
   "cell_type": "code",
   "execution_count": null,
   "metadata": {},
   "outputs": [],
   "source": []
  }
 ],
 "metadata": {
  "kernelspec": {
   "display_name": "python376",
   "language": "python",
   "name": "python376"
  },
  "language_info": {
   "codemirror_mode": {
    "name": "ipython",
    "version": 3
   },
   "file_extension": ".py",
   "mimetype": "text/x-python",
   "name": "python",
   "nbconvert_exporter": "python",
   "pygments_lexer": "ipython3",
   "version": "3.7.6"
  }
 },
 "nbformat": 4,
 "nbformat_minor": 4
}
