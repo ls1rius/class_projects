{
 "cells": [
  {
   "cell_type": "code",
   "execution_count": 118,
   "metadata": {},
   "outputs": [],
   "source": [
    "import numpy as np\n",
    "from matplotlib import pyplot as plt"
   ]
  },
  {
   "cell_type": "code",
   "execution_count": 119,
   "metadata": {},
   "outputs": [],
   "source": [
    "# 计算城市之间欧氏距离\n",
    "def calc_dis(city1, city2):\n",
    "    return np.linalg.norm(np.array(city1) - np.array(city2))\n",
    "\n",
    "# 计算总路线花费\n",
    "def calc_total_cost(path, dis_map):\n",
    "    total_cost = 0.0\n",
    "    len_path = len(path)\n",
    "    for i in range(len_path - 1):\n",
    "        total_cost += dis_map[path[i]][path[i+1]]\n",
    "    return total_cost"
   ]
  },
  {
   "cell_type": "code",
   "execution_count": 120,
   "metadata": {},
   "outputs": [],
   "source": [
    "# 得到城市之间的距离矩阵\n",
    "def get_dis_map(citys):\n",
    "    N = len(citys)\n",
    "    dis_map = np.zeros((N, N))\n",
    "    for i, city_x in enumerate(citys):\n",
    "        single_city = []\n",
    "        for j, city_y in enumerate(citys):\n",
    "            if i!=j:\n",
    "                single_city.append(calc_dis(city_x, city_y))\n",
    "            else:\n",
    "                single_city.append(0.0)\n",
    "        dis_map[i] = single_city\n",
    "    return dis_map"
   ]
  },
  {
   "cell_type": "code",
   "execution_count": 121,
   "metadata": {},
   "outputs": [],
   "source": [
    "# 计算微分方程du\n",
    "def calc_du(V, dis_map):\n",
    "    col_sum = np.sum(V, axis=0) - 1  # 按列相加\n",
    "    row_sum = np.sum(V, axis=1) - 1  # 按行相加\n",
    "    t1 = np.zeros((N, N))\n",
    "    t2 = np.zeros((N, N))\n",
    "    for i in range(N):\n",
    "        for j in range(N):\n",
    "            t1[i, j] = col_sum[j]\n",
    "            t2[j, i] = row_sum[j]\n",
    "    # 将第一列移动到最后一列 后 乘以cost矩阵\n",
    "    t3 = np.dot(dis_map, V[:, [i for i in range(1, N)]+ [0] ])\n",
    "    return -A * (t1 + t2) - D * t3"
   ]
  },
  {
   "cell_type": "code",
   "execution_count": 122,
   "metadata": {},
   "outputs": [],
   "source": [
    "# 更新U\n",
    "def calc_U(U, du, step):\n",
    "    return U + du * step\n",
    "\n",
    "# 更新V\n",
    "def calc_V(U, U0):\n",
    "    return 0.5 * (1 + np.tanh(U / U0))\n",
    "\n",
    "# 计算当前网络总能量\n",
    "def calc_energy(V, dis_map):\n",
    "    t1 = np.sum(np.power(np.sum(V, axis=0) - 1, 2))\n",
    "    t2 = np.sum(np.power(np.sum(V, axis=1) - 1, 2))\n",
    "    # 把第一列挪到最后一列 乘以 cost\n",
    "    t3 = dis_map * (V[:, [i for i in range(1, N)] + [0]])\n",
    "    t3 = np.sum(np.sum(V * t3))\n",
    "    return 0.5 * (A * (t1 + t2) + D * t3)"
   ]
  },
  {
   "cell_type": "code",
   "execution_count": 123,
   "metadata": {},
   "outputs": [],
   "source": [
    "# 获取当前旅游路径\n",
    "def get_cur_route(V):\n",
    "    route = []\n",
    "    for i in range(N):\n",
    "        mm = np.max(V[:, i])\n",
    "        for j in range(N):\n",
    "            if V[j, i] == mm:\n",
    "                route += [j]\n",
    "                break\n",
    "    return route"
   ]
  },
  {
   "cell_type": "code",
   "execution_count": 124,
   "metadata": {},
   "outputs": [],
   "source": [
    "# 可视化画出哈密顿回路和能量趋势\n",
    "def draw_H_and_E(citys, H_path, energys):\n",
    "    fig = plt.figure()\n",
    "    # 绘制哈密顿回路\n",
    "    ax1 = fig.add_subplot(121)\n",
    "    plt.xlim(0, 7)\n",
    "    plt.ylim(0, 7)\n",
    "    for (from_, to_) in H_path:\n",
    "        p1 = plt.Circle(citys[from_], 0.2, color='red')\n",
    "        p2 = plt.Circle(citys[to_], 0.2, color='red')\n",
    "        ax1.add_patch(p1)\n",
    "        ax1.add_patch(p2)\n",
    "        ax1.plot((citys[from_][0], citys[to_][0]), (citys[from_][1], citys[to_][1]), color='red')\n",
    "        ax1.annotate(s=chr(97 + to_), xy=citys[to_], xytext=(-8, -4), textcoords='offset points', fontsize=20)\n",
    "    ax1.axis('equal')\n",
    "    ax1.grid()\n",
    "    # 绘制能量趋势图\n",
    "    ax2 = fig.add_subplot(122)\n",
    "    ax2.plot(np.arange(0, len(energys), 1), energys, color='red')\n",
    "    plt.show()"
   ]
  },
  {
   "cell_type": "code",
   "execution_count": 198,
   "metadata": {},
   "outputs": [],
   "source": [
    "if __name__ == '__main__':\n",
    "    N = 10 # 城市个数\n",
    "    city_loc_range = 10 # 城市坐标范围 0~\n",
    "    citys = np.random.randint(0, city_loc_range, (N,2))\n",
    "    dis_map = get_dis_map(citys)\n",
    "    # 设置初始值\n",
    "    A = N * N\n",
    "    D = N / 2\n",
    "    U0 = 0.0009  # 初始电压\n",
    "    step = 0.0001  # 步长\n",
    "    epoch = 10000  # 迭代次数"
   ]
  },
  {
   "cell_type": "code",
   "execution_count": 199,
   "metadata": {},
   "outputs": [],
   "source": [
    "    energys = []  # 每次迭代的能量\n",
    "    best_distance = np.inf  # 最优距离\n",
    "    best_route = []  # 最优路线\n",
    "    H_path = []  # 哈密顿回路"
   ]
  },
  {
   "cell_type": "code",
   "execution_count": 200,
   "metadata": {},
   "outputs": [],
   "source": [
    "    # 初始化神经网络的输入状态（电路的输入电压U）\n",
    "    U = 1 / 2 * U0 * np.log(N - 1) + (2 * (np.random.random((N, N))) - 1)\n",
    "    # 初始化神经网络的输出状态（电路的输出电压V）\n",
    "    V = calc_V(U, U0)"
   ]
  },
  {
   "cell_type": "code",
   "execution_count": 201,
   "metadata": {},
   "outputs": [
    {
     "name": "stdout",
     "output_type": "stream",
     "text": [
      "第68次迭代找到的次优解距离为：42.93647491416894，能量为：305.7698801892987，路径为：\n",
      "f,d,i,a,g,c,e,b,h,j,f\n",
      "第330次迭代找到的次优解距离为：39.336958791599585，能量为：296.70919730741963，路径为：\n",
      "f,d,i,c,g,e,b,a,h,j,f\n",
      "第826次迭代找到的次优解距离为：36.818230625568646，能量为：839.6400950291868，路径为：\n",
      "f,d,c,g,b,h,e,a,i,j,f\n",
      "第1497次迭代找到的次优解距离为：34.60925047537761，能量为：647.988774495656，路径为：\n",
      "i,c,g,a,b,h,e,f,j,d,i\n",
      "第1747次迭代找到的次优解距离为：31.845318452877393，能量为：233.88207443166877，路径为：\n",
      "c,g,a,h,b,e,i,f,j,d,c\n"
     ]
    },
    {
     "name": "stderr",
     "output_type": "stream",
     "text": [
      "<ipython-input-124-7b6fb46c0e8c>:14: MatplotlibDeprecationWarning: The 's' parameter of annotate() has been renamed 'text' since Matplotlib 3.3; support for the old name will be dropped two minor releases later.\n",
      "  ax1.annotate(s=chr(97 + to_), xy=citys[to_], xytext=(-8, -4), textcoords='offset points', fontsize=20)\n"
     ]
    },
    {
     "data": {
      "image/png": "[encoded data removed]",
      "text/plain": [
       "<Figure size 432x288 with 2 Axes>"
      ]
     },
     "metadata": {
      "needs_background": "light"
     },
     "output_type": "display_data"
    }
   ],
   "source": [
    "    # 开始迭代训练网络\n",
    "    for ite in range(epoch):\n",
    "        # 利用动态方程计算du\n",
    "        du = calc_du(V, dis_map)\n",
    "        # 由一阶欧拉法更新下一个时间的输入状态（电路的输入电压U）\n",
    "        U = calc_U(U, du, step)\n",
    "        # 由sigmoid函数更新下一个时间的输出状态（电路的输出电压V）\n",
    "        V = calc_V(U, U0)\n",
    "        # 计算当前网络的能量E\n",
    "        energys.append(calc_energy(V, dis_map))\n",
    "        # 获取当前路径\n",
    "        route = get_cur_route(V)\n",
    "        if len(np.unique(route)) == N:\n",
    "            route.append(route[0])\n",
    "            total_cost = calc_total_cost(route, dis_map)\n",
    "            if total_cost < best_distance:\n",
    "                H_path = []\n",
    "                best_distance = total_cost\n",
    "                best_route = route\n",
    "                for i in range(len(best_route) - 1):\n",
    "                    H_path.append((route[i], route[i + 1]))\n",
    "                print('第{}次迭代找到的次优解距离为：{}，能量为：{}，路径为：'.format(ite, best_distance, energys[ite]))\n",
    "                for i, v in enumerate(best_route):\n",
    "                    print(chr(97 + v), end=',' if i < len(best_route) - 1 else '\\n')\n",
    "    if len(H_path) > 0:\n",
    "        draw_H_and_E(citys, H_path, energys)\n",
    "    else:\n",
    "        print('没有找到最优解')"
   ]
  },
  {
   "cell_type": "code",
   "execution_count": null,
   "metadata": {},
   "outputs": [],
   "source": []
  },
  {
   "cell_type": "code",
   "execution_count": null,
   "metadata": {},
   "outputs": [],
   "source": []
  },
  {
   "cell_type": "code",
   "execution_count": null,
   "metadata": {},
   "outputs": [],
   "source": []
  },
  {
   "cell_type": "code",
   "execution_count": null,
   "metadata": {},
   "outputs": [],
   "source": []
  }
 ],
 "metadata": {
  "kernelspec": {
   "display_name": "Python 3",
   "language": "python",
   "name": "python3"
  },
  "language_info": {
   "codemirror_mode": {
    "name": "ipython",
    "version": 3
   },
   "file_extension": ".py",
   "mimetype": "text/x-python",
   "name": "python",
   "nbconvert_exporter": "python",
   "pygments_lexer": "ipython3",
   "version": "3.8.5"
  }
 },
 "nbformat": 4,
 "nbformat_minor": 4
}
