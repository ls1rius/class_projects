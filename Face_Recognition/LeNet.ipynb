{
 "cells": [
  {
   "cell_type": "code",
   "execution_count": 5,
   "metadata": {},
   "outputs": [],
   "source": [
    "import tensorflow.keras.backend as K\n",
    "from tensorflow.keras.layers import Dense, Dropout, Activation, Conv2D\n",
    "from tensorflow.keras.layers import AveragePooling2D, MaxPooling2D, GlobalAveragePooling2D\n",
    "from tensorflow.keras.layers import Concatenate, BatchNormalization, Flatten\n",
    "from tensorflow.keras.models import Model\n",
    "from tensorflow.keras import Input\n",
    "from tensorflow.keras.optimizers import RMSprop, Adam, SGD\n",
    "from tensorflow.keras.models import load_model\n",
    "from tensorflow.keras.preprocessing import image\n",
    "from tensorflow.keras.applications.resnet50 import ResNet50\n",
    "import numpy as np"
   ]
  },
  {
   "cell_type": "code",
   "execution_count": 6,
   "metadata": {},
   "outputs": [],
   "source": [
    "from tensorflow.keras.utils import to_categorical\n",
    "num_classes = 15"
   ]
  },
  {
   "cell_type": "code",
   "execution_count": 7,
   "metadata": {},
   "outputs": [],
   "source": [
    "import cv2\n",
    "import matplotlib.pyplot as plt\n",
    "imgDir = './data/'\n",
    "img_list = []\n",
    "img_labels = []\n",
    "for i in range(1, 166):\n",
    "    fileName = 's' + str(i) + '.bmp'\n",
    "    img = cv2.imread(imgDir + fileName)\n",
    "    img_list.append(img)\n",
    "    img_labels.append((i - 1) // 11)\n",
    "\n",
    "img_list = np.array(img_list)/255.0\n",
    "img_labels = np.array(img_labels)\n",
    "# plt.imshow(img_list[0])\n",
    "\n",
    "# convert class vectors to binary class matrices.\n",
    "img_labels = to_categorical(img_labels, num_classes)"
   ]
  },
  {
   "cell_type": "code",
   "execution_count": 8,
   "metadata": {},
   "outputs": [],
   "source": [
    "index = [_ for _ in range(len(img_list))]\n",
    "np.random.shuffle(index)\n",
    " \n",
    "img_list=img_list[index]\n",
    "img_labels=img_labels[index]"
   ]
  },
  {
   "cell_type": "code",
   "execution_count": 9,
   "metadata": {},
   "outputs": [],
   "source": [
    "def LeNet(input_shape = (100,100,3)):\n",
    "    \n",
    "    concat_axis = 1 if K.image_data_format() == 'channels_first' else -1\n",
    "    \n",
    "    x = Conv2D(6, (3,3), kernel_initializer='he_normal', padding='valid', strides=1)(input_shape)\n",
    "    x = Activation('relu')(x)\n",
    "    x = MaxPooling2D(pool_size=(2,2), strides=2, padding='valid')(x)\n",
    "    \n",
    "    x = Conv2D(10, (3,3), kernel_initializer='he_normal', padding='valid', strides=1)(x)\n",
    "    x = Activation('relu')(x)\n",
    "    x = MaxPooling2D(pool_size=(2,2), strides=2, padding='valid')(x)\n",
    "    \n",
    "    x = Conv2D(32, (3,3), kernel_initializer='he_normal', padding='valid', strides=1)(x)\n",
    "    x = Activation('relu')(x)\n",
    "    x = MaxPooling2D(pool_size=(2,2), strides=2, padding='valid')(x)\n",
    "    \n",
    "    \n",
    "    x = Flatten()(x)\n",
    "    \n",
    "    x = Dense(1024, kernel_initializer='he_normal', activation='relu')(x)\n",
    "    x = Dense(512, kernel_initializer='he_normal', activation='relu')(x)\n",
    "    x = Dense(num_classes, kernel_initializer='he_normal', activation='softmax')(x)\n",
    "    \n",
    "    return x"
   ]
  },
  {
   "cell_type": "code",
   "execution_count": null,
   "metadata": {},
   "outputs": [],
   "source": []
  },
  {
   "cell_type": "code",
   "execution_count": 11,
   "metadata": {},
   "outputs": [],
   "source": [
    "# base_model = ResNet50(weights='imagenet', include_top=False, input_shape=img_list[0].shape)\n",
    "# # 添加全局平均池化层\n",
    "# x = base_model.output\n",
    "# x = GlobalAveragePooling2D()(x)\n",
    "\n",
    "# # 添加一个全连接层\n",
    "# x = Dense(1024, activation='relu')(x)\n",
    "# # 添加一个分类器，假设我们有200个类\n",
    "# predictions = Dense(num_classes, activation='softmax')(x)\n",
    "# # 构建我们需要训练的完整模型\n",
    "# model = Model(inputs=base_model.input, outputs=predictions)\n"
   ]
  },
  {
   "cell_type": "code",
   "execution_count": 12,
   "metadata": {},
   "outputs": [],
   "source": [
    "inputs = Input(img_list[0].shape)\n",
    "outputs = LeNet(inputs)\n",
    "model = Model(inputs, outputs, name=\"LeNet\")"
   ]
  },
  {
   "cell_type": "code",
   "execution_count": 13,
   "metadata": {},
   "outputs": [],
   "source": [
    "# model.summary()"
   ]
  },
  {
   "cell_type": "code",
   "execution_count": 14,
   "metadata": {},
   "outputs": [],
   "source": [
    "# 编译模型（一定要在锁层以后操作）\n",
    "model.compile(optimizer=Adam(1e-4), loss='categorical_crossentropy', metrics=['accuracy'])"
   ]
  },
  {
   "cell_type": "code",
   "execution_count": 15,
   "metadata": {},
   "outputs": [
    {
     "name": "stdout",
     "output_type": "stream",
     "text": [
      "Epoch 1/20\n",
      "14/14 [==============================] - 1s 60ms/step - loss: 2.7812 - accuracy: 0.1215 - val_loss: 2.6559 - val_accuracy: 0.0517\n",
      "Epoch 2/20\n",
      "14/14 [==============================] - 1s 44ms/step - loss: 2.1846 - accuracy: 0.3645 - val_loss: 2.3419 - val_accuracy: 0.3448\n",
      "Epoch 3/20\n",
      "14/14 [==============================] - 1s 43ms/step - loss: 1.8635 - accuracy: 0.4393 - val_loss: 2.0644 - val_accuracy: 0.5000\n",
      "Epoch 4/20\n",
      "14/14 [==============================] - 1s 43ms/step - loss: 1.5925 - accuracy: 0.6449 - val_loss: 1.8349 - val_accuracy: 0.6034\n",
      "Epoch 5/20\n",
      "14/14 [==============================] - 1s 43ms/step - loss: 1.3491 - accuracy: 0.6916 - val_loss: 1.6776 - val_accuracy: 0.5690\n",
      "Epoch 6/20\n",
      "14/14 [==============================] - 1s 43ms/step - loss: 1.1443 - accuracy: 0.7850 - val_loss: 1.5243 - val_accuracy: 0.6379\n",
      "Epoch 7/20\n",
      "14/14 [==============================] - 1s 43ms/step - loss: 0.8714 - accuracy: 0.8598 - val_loss: 1.3344 - val_accuracy: 0.6724\n",
      "Epoch 8/20\n",
      "14/14 [==============================] - 1s 43ms/step - loss: 0.7576 - accuracy: 0.8692 - val_loss: 1.1920 - val_accuracy: 0.7069\n",
      "Epoch 9/20\n",
      "14/14 [==============================] - 1s 43ms/step - loss: 0.6208 - accuracy: 0.8692 - val_loss: 1.1289 - val_accuracy: 0.6897\n",
      "Epoch 10/20\n",
      "14/14 [==============================] - 1s 44ms/step - loss: 0.4389 - accuracy: 0.9346 - val_loss: 1.0018 - val_accuracy: 0.7414\n",
      "Epoch 11/20\n",
      "14/14 [==============================] - 1s 44ms/step - loss: 0.3168 - accuracy: 0.9720 - val_loss: 0.8965 - val_accuracy: 0.7759\n",
      "Epoch 12/20\n",
      "14/14 [==============================] - 1s 44ms/step - loss: 0.2112 - accuracy: 0.9813 - val_loss: 0.7442 - val_accuracy: 0.8276\n",
      "Epoch 13/20\n",
      "14/14 [==============================] - 1s 44ms/step - loss: 0.1437 - accuracy: 1.0000 - val_loss: 0.7078 - val_accuracy: 0.8103\n",
      "Epoch 14/20\n",
      "14/14 [==============================] - 1s 43ms/step - loss: 0.1166 - accuracy: 1.0000 - val_loss: 0.6974 - val_accuracy: 0.8448\n",
      "Epoch 15/20\n",
      "14/14 [==============================] - 1s 46ms/step - loss: 0.0851 - accuracy: 1.0000 - val_loss: 0.6353 - val_accuracy: 0.8448\n",
      "Epoch 16/20\n",
      "14/14 [==============================] - 1s 44ms/step - loss: 0.0633 - accuracy: 1.0000 - val_loss: 0.6482 - val_accuracy: 0.8276\n",
      "Epoch 17/20\n",
      "14/14 [==============================] - 1s 44ms/step - loss: 0.0491 - accuracy: 1.0000 - val_loss: 0.6174 - val_accuracy: 0.8448\n",
      "Epoch 18/20\n",
      "14/14 [==============================] - 1s 44ms/step - loss: 0.0366 - accuracy: 1.0000 - val_loss: 0.5701 - val_accuracy: 0.8448\n",
      "Epoch 19/20\n",
      "14/14 [==============================] - 1s 43ms/step - loss: 0.0286 - accuracy: 1.0000 - val_loss: 0.5708 - val_accuracy: 0.8276\n",
      "Epoch 20/20\n",
      "14/14 [==============================] - 1s 44ms/step - loss: 0.0227 - accuracy: 1.0000 - val_loss: 0.5561 - val_accuracy: 0.8448\n"
     ]
    }
   ],
   "source": [
    "history = model.fit(img_list, img_labels, validation_split=0.35, batch_size=8, epochs=20)"
   ]
  },
  {
   "cell_type": "code",
   "execution_count": 16,
   "metadata": {},
   "outputs": [],
   "source": [
    "import matplotlib.pyplot as plt\n",
    "def display_training_curves(training, validation, title, subplot):\n",
    "    ax = plt.subplot(subplot)\n",
    "    ax.plot(training)\n",
    "    ax.plot(validation)\n",
    "    ax.set_title('model '+ title)\n",
    "    ax.set_ylabel(title)\n",
    "    ax.set_xlabel('epoch')\n",
    "    ax.legend(['training', 'validation'])"
   ]
  },
  {
   "cell_type": "code",
   "execution_count": 20,
   "metadata": {},
   "outputs": [
    {
     "data": {
      "image/png": "[encoded data removed]",
      "text/plain": [
       "<Figure size 720x720 with 1 Axes>"
      ]
     },
     "metadata": {
      "needs_background": "light"
     },
     "output_type": "display_data"
    }
   ],
   "source": [
    "plt.subplots(figsize=(10,10))\n",
    "display_training_curves(history.history[\"accuracy\"], history.history[\"val_accuracy\"], 'accuracy', 211)"
   ]
  },
  {
   "cell_type": "code",
   "execution_count": null,
   "metadata": {},
   "outputs": [],
   "source": []
  },
  {
   "cell_type": "code",
   "execution_count": null,
   "metadata": {},
   "outputs": [],
   "source": []
  }
 ],
 "metadata": {
  "kernelspec": {
   "display_name": "Python 3",
   "language": "python",
   "name": "python3"
  },
  "language_info": {
   "codemirror_mode": {
    "name": "ipython",
    "version": 3
   },
   "file_extension": ".py",
   "mimetype": "text/x-python",
   "name": "python",
   "nbconvert_exporter": "python",
   "pygments_lexer": "ipython3",
   "version": "3.8.5"
  }
 },
 "nbformat": 4,
 "nbformat_minor": 4
}
