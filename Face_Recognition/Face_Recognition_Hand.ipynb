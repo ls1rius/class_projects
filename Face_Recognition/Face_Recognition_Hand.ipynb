{
 "cells": [
  {
   "cell_type": "code",
   "execution_count": 139,
   "metadata": {},
   "outputs": [],
   "source": [
    "import glob\n",
    "import re\n",
    "import matplotlib.pyplot as plt\n",
    "import cv2\n",
    "import os\n",
    "import numpy as np\n",
    "from skimage.feature import hog\n",
    "from skimage import exposure\n",
    "from sklearn.linear_model import LogisticRegression\n",
    "import torch"
   ]
  },
  {
   "cell_type": "code",
   "execution_count": 149,
   "metadata": {},
   "outputs": [],
   "source": [
    "# 读数据\n",
    "def readData(pathDir):\n",
    "    file_list = glob.glob(pathDir)\n",
    "    img_list = []\n",
    "    img_labels = []\n",
    "    for filename in file_list:\n",
    "        filename_file = re.search(\"s[0-9]{1,3}.bmp\", filename)[0]\n",
    "        filename_order = re.search(\"[0-9]{1,3}\", filename_file)[0]\n",
    "        img_labels.append(int(filename_order) // 11)\n",
    "        img = cv2.imread(filename)\n",
    "        img_list.append(img)\n",
    "        \n",
    "    img_list = np.array(img_list)\n",
    "    img_labels = np.array(img_labels)\n",
    "\n",
    "    return img_list, img_labels"
   ]
  },
  {
   "cell_type": "code",
   "execution_count": 150,
   "metadata": {},
   "outputs": [],
   "source": [
    "# 洗牌\n",
    "def shuffleData(img_list, img_labels):\n",
    "    index = [_ for _ in range(len(img_list))]\n",
    "    np.random.shuffle(index)\n",
    "    img_list=img_list[index]\n",
    "    img_labels=img_labels[index]\n",
    "    \n",
    "    return img_list, img_labels"
   ]
  },
  {
   "cell_type": "code",
   "execution_count": 151,
   "metadata": {},
   "outputs": [],
   "source": [
    "# 提取数据的HOG特征\n",
    "def getHogFeature(img_list, img_labels):\n",
    "    \n",
    "    hog_func = lambda x:hog(x, orientations=8, pixels_per_cell=(16, 16), block_norm='L2-Hys',\n",
    "                        cells_per_block=(1, 1), visualize=True, multichannel=True)\n",
    "    x_all = np.array([hog_func(img)[0] for img in img_list])\n",
    "    y_all = np.array(img_labels)\n",
    "    \n",
    "    return x_all, y_all"
   ]
  },
  {
   "cell_type": "code",
   "execution_count": 152,
   "metadata": {},
   "outputs": [],
   "source": [
    "# 将数据集划分为训练集、测试集\n",
    "def split_data(x_all, y_all, split_rate = 0.8):\n",
    "    \n",
    "    total_data_len = len(x_all)\n",
    "\n",
    "    x_train = x_all[:int(total_data_len*split_rate)]\n",
    "    y_train = y_all[:int(total_data_len*split_rate)]\n",
    "\n",
    "    x_test = x_all[int(total_data_len*split_rate):]\n",
    "    y_test = y_all[int(total_data_len*split_rate):]\n",
    "\n",
    "    return x_train, y_train, x_test, y_test"
   ]
  },
  {
   "cell_type": "code",
   "execution_count": null,
   "metadata": {},
   "outputs": [],
   "source": []
  },
  {
   "cell_type": "code",
   "execution_count": 153,
   "metadata": {},
   "outputs": [],
   "source": [
    "# 模型评估\n",
    "def evluate_specific(model, x, y):\n",
    "    output = model.predict_proba(x)\n",
    "    for idx, item in enumerate(output):\n",
    "        pre = np.argmax(item)\n",
    "        gt = y[idx]\n",
    "        print(\"prediction:{} groundtruth:{}  {}\".format(pre, gt, \"correct\" if pre==gt else \"wrong\") ) \n",
    "        print(\"---------\")\n",
    "    print(\"scores：{}\".format(model.score(x, y)))"
   ]
  },
  {
   "cell_type": "code",
   "execution_count": 163,
   "metadata": {},
   "outputs": [],
   "source": [
    "def run(x_all, y_all):\n",
    "    \n",
    "    x_train, y_train, x_test, y_test = split_data(x_all, y_all)\n",
    "    \n",
    "    model = LogisticRegression(random_state=1, solver='lbfgs', multi_class='multinomial',max_iter=200)\n",
    "    model.fit(x_train, y_train)\n",
    "    print(\"scores：{}\".format(model.score(x_test, y_test)))\n",
    "    \n",
    "#     evluate_specific(model, x_test, y_test)\n",
    "    \n",
    "    return model"
   ]
  },
  {
   "cell_type": "code",
   "execution_count": 243,
   "metadata": {},
   "outputs": [],
   "source": [
    "# 搜索最优split\n",
    "def search_best_split(x_all, y_all):\n",
    "    acc_list = []\n",
    "    split_rate_list = []\n",
    "    for i in range(100):\n",
    "        split_rate = i/10.0\n",
    "        x_train, y_train, x_test, y_test = split_data(x_all, y_all, split_rate)\n",
    "        \n",
    "        if(len(x_train)==0 or len(x_test)==0):\n",
    "            continue\n",
    "            \n",
    "        model = LogisticRegression(random_state=1, solver='lbfgs', multi_class='multinomial',max_iter=200)\n",
    "        model.fit(x_train, y_train)\n",
    "        print(split_rate)\n",
    "        score = model.score(x_test, y_test)\n",
    "        print(\"scores：{}\".format(score))\n",
    "        print(\"------\")\n",
    "        \n",
    "        acc_list.append(score)\n",
    "        split_rate_list.append(split_rate)\n",
    "    return acc_list, split_rate_list"
   ]
  },
  {
   "cell_type": "code",
   "execution_count": 275,
   "metadata": {},
   "outputs": [],
   "source": [
    "img_list,img_labels = readData(\"./data/*.bmp\")\n",
    "img_list,img_labels = shuffleData(img_list, img_labels)\n",
    "x_all, y_all = getHogFeature(img_list, img_labels)"
   ]
  },
  {
   "cell_type": "code",
   "execution_count": 276,
   "metadata": {},
   "outputs": [
    {
     "name": "stdout",
     "output_type": "stream",
     "text": [
      "scores：0.9090909090909091\n"
     ]
    },
    {
     "data": {
      "text/plain": [
       "LogisticRegression(max_iter=200, multi_class='multinomial', random_state=1)"
      ]
     },
     "execution_count": 276,
     "metadata": {},
     "output_type": "execute_result"
    }
   ],
   "source": [
    "run(x_all, y_all)"
   ]
  },
  {
   "cell_type": "code",
   "execution_count": 277,
   "metadata": {},
   "outputs": [
    {
     "name": "stdout",
     "output_type": "stream",
     "text": [
      "0.1\n",
      "scores：0.3087248322147651\n",
      "------\n",
      "0.2\n",
      "scores：0.4090909090909091\n",
      "------\n",
      "0.3\n",
      "scores：0.603448275862069\n",
      "------\n",
      "0.4\n",
      "scores：0.7676767676767676\n",
      "------\n",
      "0.5\n",
      "scores：0.8192771084337349\n",
      "------\n",
      "0.6\n",
      "scores：0.8939393939393939\n",
      "------\n",
      "0.7\n",
      "scores：0.9\n",
      "------\n",
      "0.8\n",
      "scores：0.9090909090909091\n",
      "------\n",
      "0.9\n",
      "scores：0.9411764705882353\n",
      "------\n"
     ]
    }
   ],
   "source": [
    "acc_list, split_rate_list = search_best_split(x_all, y_all)"
   ]
  },
  {
   "cell_type": "code",
   "execution_count": 278,
   "metadata": {},
   "outputs": [],
   "source": [
    "import matplotlib.pyplot as plt\n",
    "def display_training_curves(acc_list, split_rate_list, title, subplot):\n",
    "    ax = plt.subplot(subplot)\n",
    "    ax.plot(split_rate_list, acc_list)\n",
    "    ax.set_title('model '+ title)\n",
    "    ax.set_ylabel(title)\n",
    "    ax.set_xlabel('split_rate')\n",
    "    ax.legend([title])\n",
    "#     plt.xticks(split_rate_list)"
   ]
  },
  {
   "cell_type": "code",
   "execution_count": 279,
   "metadata": {},
   "outputs": [
    {
     "data": {
      "image/png": "[encoded data removed]",
      "text/plain": [
       "<Figure size 720x720 with 1 Axes>"
      ]
     },
     "metadata": {
      "needs_background": "light"
     },
     "output_type": "display_data"
    }
   ],
   "source": [
    "plt.subplots(figsize=(10,10))\n",
    "display_training_curves(acc_list, split_rate_list, 'test_accuracy', 211)"
   ]
  },
  {
   "cell_type": "code",
   "execution_count": null,
   "metadata": {},
   "outputs": [],
   "source": []
  },
  {
   "cell_type": "code",
   "execution_count": null,
   "metadata": {},
   "outputs": [],
   "source": []
  },
  {
   "cell_type": "code",
   "execution_count": null,
   "metadata": {},
   "outputs": [],
   "source": []
  },
  {
   "cell_type": "markdown",
   "metadata": {},
   "source": [
    "# HOG 特征提取（不调库）"
   ]
  },
  {
   "cell_type": "code",
   "execution_count": 179,
   "metadata": {},
   "outputs": [],
   "source": [
    "import glob\n",
    "import re\n",
    "import matplotlib.pyplot as plt\n",
    "import cv2\n",
    "import os\n",
    "import numpy as np\n",
    "from skimage.feature import hog\n",
    "from skimage import exposure\n",
    "from sklearn.model_selection import RepeatedKFold\n",
    "from sklearn.linear_model import LogisticRegression\n",
    "import torch\n",
    "from skimage import color"
   ]
  },
  {
   "cell_type": "code",
   "execution_count": 180,
   "metadata": {},
   "outputs": [],
   "source": [
    "def conv(img, is_hori = True):\n",
    "    if(is_hori):\n",
    "        conv_kernal = [[-1, 0, 1]]\n",
    "    else:\n",
    "        conv_kernal = [[-1],[0],[1]]\n",
    "    conv_kernal = np.array(conv_kernal, dtype=\"float32\")\n",
    "    return cv2.filter2D(img, -1, conv_kernal)"
   ]
  },
  {
   "cell_type": "code",
   "execution_count": 181,
   "metadata": {},
   "outputs": [],
   "source": [
    "def gamma(img):\n",
    "    return np.sqrt(img)"
   ]
  },
  {
   "cell_type": "code",
   "execution_count": 182,
   "metadata": {},
   "outputs": [],
   "source": [
    "def calGxy(gx, gy):\n",
    "    return np.sqrt(gx**2 + gy**2)"
   ]
  },
  {
   "cell_type": "code",
   "execution_count": 183,
   "metadata": {},
   "outputs": [],
   "source": [
    "def calThetaxy(gx, gy):\n",
    "    return np.array([[np.pi/2 if np.isnan(iitem) else iitem for iitem in item] for item in np.arctan(gy/gx)], dtype=\"float32\") + np.pi/2"
   ]
  },
  {
   "cell_type": "code",
   "execution_count": 184,
   "metadata": {},
   "outputs": [],
   "source": [
    "def calGaT(img):\n",
    "    gx = conv(img,True)\n",
    "    gy = conv(img,False)\n",
    "    gxy = calGxy(gx,gy)\n",
    "    txy = calThetaxy(gx, gy)\n",
    "#     plt.imshow(gxy, cmap = plt.cm.gray)\n",
    "    return gxy, txy"
   ]
  },
  {
   "cell_type": "code",
   "execution_count": 185,
   "metadata": {},
   "outputs": [],
   "source": [
    "def get_color_hist(img, gxy, txy, ori=9):\n",
    "    per_bin = np.pi/ori\n",
    "    hist = [0.0 for _ in range(ori)]\n",
    "    for i in range(len(img)):\n",
    "        for j in range(len(img[i])):\n",
    "            idx = abs(int(txy[i][j]/per_bin))\n",
    "            hist[idx % ori] += (txy[i][j] - idx*per_bin)*gxy[i][j]\n",
    "            hist[(idx+1) % ori] += (((idx+1))*per_bin - txy[i][j])*gxy[i][j]\n",
    "    return hist"
   ]
  },
  {
   "cell_type": "code",
   "execution_count": 186,
   "metadata": {},
   "outputs": [],
   "source": [
    "def get_cell_hist(img, gxy, txy, cell=(8, 8), ori=9):\n",
    "    total_cell_hist = []\n",
    "    x, y = cell\n",
    "    w, h = img.shape\n",
    "    per_x = w/x\n",
    "    per_y = h/y\n",
    "    for i in range(x):\n",
    "        total_cell_hist_x = []\n",
    "        for j in range(y):\n",
    "            img_cell = img[int(i*per_x):int((i+1)*per_x), int(j*per_y):int((j+1)*per_y)]\n",
    "            gxy_cell = gxy[int(i*per_x):int((i+1)*per_x), int(j*per_y):int((j+1)*per_y)]\n",
    "            txy_cell = txy[int(i*per_x):int((i+1)*per_x), int(j*per_y):int((j+1)*per_y)]\n",
    "            total_cell_hist_x.append(get_color_hist(img_cell, gxy_cell, txy_cell, ori))\n",
    "        total_cell_hist.append(total_cell_hist_x)\n",
    "    return np.array(total_cell_hist, dtype=\"float32\")"
   ]
  },
  {
   "cell_type": "code",
   "execution_count": 258,
   "metadata": {},
   "outputs": [],
   "source": [
    "def get_block_hist(img, gxy, txy, per_block = 4, cell=(8, 8), ori=9):\n",
    "    total_cell_hist = get_cell_hist(img, gxy, txy, cell, ori)\n",
    "    x, y = cell\n",
    "    total_block_hist = []\n",
    "    for i in range(x-1):\n",
    "        for j in range(y-1):\n",
    "            total_block_hist.append(\n",
    "                np.concatenate([\n",
    "                                total_cell_hist[i][j],\n",
    "                                total_cell_hist[i+1][j],\n",
    "                                total_cell_hist[i][j+1],\n",
    "                                total_cell_hist[i+1][j+1]\n",
    "                               ])\n",
    "            )\n",
    "\n",
    "    return np.array(total_block_hist, dtype=\"float32\")"
   ]
  },
  {
   "cell_type": "code",
   "execution_count": 270,
   "metadata": {},
   "outputs": [],
   "source": [
    "def getImgFeature(img):\n",
    "    img = gamma(img)\n",
    "    gxy, txy = calGaT(img)\n",
    "    total_cell_hist = get_block_hist(img, gxy, txy, 4, cell=(8, 8), ori = 9)\n",
    "    total_cell_hist_norm = []\n",
    "    for item in total_cell_hist:\n",
    "        total_cell_hist_norm.append(item/np.linalg.norm(item))\n",
    "    total_cell_hist_norm = np.array(total_cell_hist_norm)\n",
    "    \n",
    "    return total_cell_hist_norm"
   ]
  },
  {
   "cell_type": "code",
   "execution_count": 271,
   "metadata": {},
   "outputs": [
    {
     "name": "stderr",
     "output_type": "stream",
     "text": [
      "<ipython-input-183-73a0d6465bca>:2: RuntimeWarning: divide by zero encountered in true_divide\n",
      "  return np.array([[np.pi/2 if np.isnan(iitem) else iitem for iitem in item] for item in np.arctan(gy/gx)], dtype=\"float32\") + np.pi/2\n",
      "<ipython-input-183-73a0d6465bca>:2: RuntimeWarning: invalid value encountered in true_divide\n",
      "  return np.array([[np.pi/2 if np.isnan(iitem) else iitem for iitem in item] for item in np.arctan(gy/gx)], dtype=\"float32\") + np.pi/2\n"
     ]
    }
   ],
   "source": [
    "img_list,img_labels = readData(\"./data/*.bmp\")\n",
    "\n",
    "img_list,img_labels = shuffleData(img_list, img_labels)\n",
    "\n",
    "# plt.imshow(img_list[0])\n",
    "\n",
    "img_list = np.array([color.rgb2gray(img) for img in img_list], dtype=\"float32\")\n",
    "\n",
    "x_all = np.array([getImgFeature(img)[0].reshape(-1) for img in img_list])\n",
    "y_all = np.array(img_labels)"
   ]
  },
  {
   "cell_type": "code",
   "execution_count": 272,
   "metadata": {},
   "outputs": [
    {
     "name": "stdout",
     "output_type": "stream",
     "text": [
      "0.1\n",
      "scores：0.06666666666666667\n",
      "------\n",
      "0.2\n",
      "scores：0.14814814814814814\n",
      "------\n",
      "0.3\n",
      "scores：0.125\n",
      "------\n",
      "0.4\n",
      "scores：0.25\n",
      "------\n",
      "0.5\n",
      "scores：0.23529411764705882\n",
      "------\n",
      "0.6\n",
      "scores：0.42857142857142855\n",
      "------\n",
      "0.7\n",
      "scores：0.4\n",
      "------\n",
      "0.8\n",
      "scores：0.42857142857142855\n",
      "------\n",
      "0.9\n",
      "scores：0.25\n",
      "------\n"
     ]
    }
   ],
   "source": [
    "acc_list, split_rate_list = search_best_split(x_test, y_test)"
   ]
  },
  {
   "cell_type": "code",
   "execution_count": null,
   "metadata": {},
   "outputs": [],
   "source": []
  },
  {
   "cell_type": "code",
   "execution_count": 273,
   "metadata": {},
   "outputs": [
    {
     "data": {
      "image/png": "[encoded data removed]",
      "text/plain": [
       "<Figure size 720x720 with 1 Axes>"
      ]
     },
     "metadata": {
      "needs_background": "light"
     },
     "output_type": "display_data"
    }
   ],
   "source": [
    "plt.subplots(figsize=(10,10))\n",
    "display_training_curves(acc_list, split_rate_list, 'test_accuracy', 211)"
   ]
  },
  {
   "cell_type": "markdown",
   "metadata": {},
   "source": [
    "##### 手写的HOG估计哪儿写的有点问题，或者是参数没有调好，导致性能很一般"
   ]
  },
  {
   "cell_type": "code",
   "execution_count": null,
   "metadata": {},
   "outputs": [],
   "source": []
  },
  {
   "cell_type": "code",
   "execution_count": null,
   "metadata": {},
   "outputs": [],
   "source": []
  },
  {
   "cell_type": "code",
   "execution_count": null,
   "metadata": {},
   "outputs": [],
   "source": []
  },
  {
   "cell_type": "code",
   "execution_count": null,
   "metadata": {},
   "outputs": [],
   "source": []
  },
  {
   "cell_type": "code",
   "execution_count": null,
   "metadata": {},
   "outputs": [],
   "source": []
  },
  {
   "cell_type": "code",
   "execution_count": null,
   "metadata": {},
   "outputs": [],
   "source": []
  },
  {
   "cell_type": "code",
   "execution_count": null,
   "metadata": {},
   "outputs": [],
   "source": []
  },
  {
   "cell_type": "code",
   "execution_count": null,
   "metadata": {},
   "outputs": [],
   "source": []
  },
  {
   "cell_type": "code",
   "execution_count": null,
   "metadata": {},
   "outputs": [],
   "source": []
  },
  {
   "cell_type": "code",
   "execution_count": null,
   "metadata": {},
   "outputs": [],
   "source": []
  },
  {
   "cell_type": "code",
   "execution_count": null,
   "metadata": {},
   "outputs": [],
   "source": []
  }
 ],
 "metadata": {
  "kernelspec": {
   "display_name": "Python 3",
   "language": "python",
   "name": "python3"
  },
  "language_info": {
   "codemirror_mode": {
    "name": "ipython",
    "version": 3
   },
   "file_extension": ".py",
   "mimetype": "text/x-python",
   "name": "python",
   "nbconvert_exporter": "python",
   "pygments_lexer": "ipython3",
   "version": "3.8.5"
  }
 },
 "nbformat": 4,
 "nbformat_minor": 4
}
