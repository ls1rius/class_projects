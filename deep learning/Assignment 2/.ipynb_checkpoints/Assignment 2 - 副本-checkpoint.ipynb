{
 "cells": [
  {
   "cell_type": "markdown",
   "metadata": {},
   "source": [
    "# Assignment 2: DenseNet with CIFAR10 Dataset by TensorFlow"
   ]
  },
  {
   "cell_type": "markdown",
   "metadata": {},
   "source": [
    "In this assignment, you are required to implement DenseNet to classify images from the [CIFAR10 dataset](https://www.cs.toronto.edu/~kriz/cifar.html) by using TensorFlow with Keras. DenseNet is very well-known and therefore it has been implemented and pre-trained by Keras. You are also required to load and test the pre-trained models, and compare them with your models.\n",
    "\n",
    "First of all, read the DenseNet paper. DenseNet was originally proposed in 2016 by Gao Huang, Zhuang Liu, Laurens van der Maaten, Kilian Q. Weinberger in the following paper:\n",
    "https://arxiv.org/abs/1608.06993\n",
    "\n",
    "The process will be broken down into the following steps:\n",
    ">1. Answer a short question about DenseNet. (10 marks)\n",
    "2. Load and visualize the data.\n",
    "3. Implement your models. (30 marks)\n",
    "4. Train and evaluate your models. (25 marks)\n",
    "5. Load the pre-trained models from Keras and evaluate them. (15 marks)\n",
    "6. Analysis your results. (20 marks)"
   ]
  },
  {
   "cell_type": "markdown",
   "metadata": {},
   "source": [
    "---\n",
    "## 1. Answer a short question (20 marks)\n",
    "\n",
    "Now that you know what DenseNet is all about, let's compare it to VGG.\n",
    "Both VGG and DenseNet papers describe several variations of their models that differ by their depth.\n",
    "For example, VGG16 and VGG19, DenseNet-121 and DenseNet-169 are four examples from these papers.\n",
    "\n",
    "Aside from difference in network depth, how is the architecture of DenseNet different from that of VGG? Please enter your answer in the next cell (approximately 100-200 words, both English and Chinese are acceptable)."
   ]
  },
  {
   "cell_type": "markdown",
   "metadata": {},
   "source": [
    "**Write your answer in this cell.**\n",
    "It requires fewer parameters than traditional convolutional networks, as there is no need to relearn redundant feature-maps.Traditional feed-forward architectures can be viewed as algorithms with a state, which is passed on from layer to layer. Each layer reads the state from its preceding layer and writes to the subsequent layer. It changes the state but also passes on information that needs to be preserved.\n",
    "DenseNet architecture explicitly differentiates between information that is added to the network and information that is preserved. DenseNet layers are very narrow adding only a small set of feature-maps to the \"collective knowledge\" of the network and keep the remaining feature-maps unchanged and the final classifier makes a decision based on all feature-maps in the network.\n",
    "Besides better parameter efficiency, one big advantage of DenseNets is their improved flow of information and gradients throughout the network, which makes them easy to train. Each layer has direct access to the gradients from the loss function and the original input signal, leading to an implicit deep supervision.  This helps training of deeper network architectures. Further,that dense connections have a regularizing effect, which reduces over-fitting on tasks with smaller training set sizes."
   ]
  },
  {
   "cell_type": "markdown",
   "metadata": {},
   "source": [
    "---\n",
    "## 2. Load and visualize the data.\n",
    "\n",
    "The data is directly loaded into memory."
   ]
  },
  {
   "cell_type": "code",
   "execution_count": null,
   "metadata": {},
   "outputs": [],
   "source": [
    "from tensorflow.keras.datasets import cifar10\n",
    "from tensorflow.keras.utils import to_categorical\n",
    "\n",
    "num_classes = 10\n",
    "\n",
    "# load the CIFAR10 data\n",
    "(x_train, y_train), (x_test, y_test) = cifar10.load_data()\n",
    "\n",
    "# input image dimensions\n",
    "input_shape = x_train.shape[1:]\n",
    "\n",
    "# mormalize data\n",
    "x_train = x_train.astype('float32') / 255\n",
    "x_test = x_test.astype('float32') / 255\n",
    "print('x_train shape:', x_train.shape)\n",
    "print(x_train.shape[0], 'train samples')\n",
    "print(x_test.shape[0], 'test samples')\n",
    "print('y_train shape:', y_train.shape)\n",
    "\n",
    "# convert class vectors to binary class matrices.\n",
    "y_train = to_categorical(y_train, num_classes)\n",
    "y_test = to_categorical(y_test, num_classes)"
   ]
  },
  {
   "cell_type": "code",
   "execution_count": null,
   "metadata": {},
   "outputs": [],
   "source": [
    "import matplotlib.pyplot as plt\n",
    "plt.imshow(x_train[0])"
   ]
  },
  {
   "cell_type": "code",
   "execution_count": null,
   "metadata": {},
   "outputs": [],
   "source": []
  },
  {
   "cell_type": "markdown",
   "metadata": {},
   "source": [
    "---\n",
    "## 3. Implement your models (30 marks)\n",
    "\n",
    "In this task, you are required to implement DenseNet-121 and DenseNet-169 as depicted in the original paper."
   ]
  },
  {
   "cell_type": "code",
   "execution_count": null,
   "metadata": {},
   "outputs": [],
   "source": [
    "import tensorflow.keras.backend as K\n",
    "from tensorflow.keras.layers import Dense, Dropout, Activation, Conv2D\n",
    "from tensorflow.keras.layers import AveragePooling2D, MaxPooling2D, GlobalAveragePooling2D\n",
    "from tensorflow.keras.layers import Concatenate, BatchNormalization, Flatten\n",
    "from tensorflow.keras.regularizers import l2\n",
    "from tensorflow.keras.models import Model\n",
    "from tensorflow.keras import Input\n",
    "from tensorflow.keras.optimizers import RMSprop, Adam\n",
    "from tensorflow.keras.models import load_model"
   ]
  },
  {
   "cell_type": "code",
   "execution_count": null,
   "metadata": {},
   "outputs": [],
   "source": [
    "# dense块内卷积小块\n",
    "def conv_block(conv_input, nb_channels, dropout_rate=None, weight_decay=1e-4):\n",
    "    \n",
    "    concat_axis = 1 if K.image_data_format() == 'channels_first' else -1\n",
    "    \n",
    "    x = BatchNormalization(axis=concat_axis, epsilon=1.1e-5)(conv_input)\n",
    "    x = Activation('relu')(x)\n",
    "    x = Conv2D(nb_channels * 4, (1, 1), kernel_initializer='he_normal', padding='same',\n",
    "               kernel_regularizer=l2(weight_decay))(x)\n",
    "    \n",
    "    if dropout_rate is not None:\n",
    "        x = Dropout(dropout_rate)(x)\n",
    "        \n",
    "    x = BatchNormalization(axis=concat_axis, epsilon=1.1e-5)(x)\n",
    "    x = Activation('relu')(x)\n",
    "    x = Conv2D(nb_channels, (3, 3), kernel_initializer='he_normal', padding='same',\n",
    "               kernel_regularizer=l2(weight_decay))(x)\n",
    "    \n",
    "    if dropout_rate is not None:\n",
    "        x = Dropout(dropout_rate)(x)\n",
    "    \n",
    "    x = Concatenate()([conv_input, x])\n",
    "    \n",
    "    return x"
   ]
  },
  {
   "cell_type": "code",
   "execution_count": null,
   "metadata": {},
   "outputs": [],
   "source": [
    "# dense块\n",
    "def dense_block(conv_input, nb_block, nb_channels, growth_rate, dropout_rate=None, weight_decay=1e-4):\n",
    "    \n",
    "    x = conv_input\n",
    "    for _ in range(nb_block):\n",
    "        x = conv_block(x, growth_rate, dropout_rate, weight_decay)\n",
    "        nb_channels += growth_rate\n",
    "        \n",
    "    return x,nb_channels"
   ]
  },
  {
   "cell_type": "code",
   "execution_count": null,
   "metadata": {},
   "outputs": [],
   "source": [
    "# 过渡层 \n",
    "def transition_block(conv_input, nb_channels, compression, dropout_rate=None, weight_decay=1e-4):\n",
    "    \n",
    "    concat_axis = 1 if K.image_data_format() == 'channels_first' else -1\n",
    "    \n",
    "    x = BatchNormalization(axis=concat_axis, epsilon=1.1e-5)(conv_input)\n",
    "    x = Activation('relu')(x)\n",
    "    x = Conv2D(int(nb_channels * compression), (1, 1), kernel_initializer='he_normal', padding='same',\n",
    "               kernel_regularizer=l2(weight_decay))(x)\n",
    "    # Adding dropout\n",
    "    if dropout_rate is not None:\n",
    "        x = Dropout(dropout_rate)(x)\n",
    "        \n",
    "    x = AveragePooling2D((2, 2), strides=(2, 2))(x)\n",
    "    \n",
    "    return x"
   ]
  },
  {
   "cell_type": "code",
   "execution_count": null,
   "metadata": {},
   "outputs": [],
   "source": [
    "def DenseNet(densenet_input, blocks, num_classes, nb_channels, growth_rate, compression, dropout_rate=None):\n",
    "    \n",
    "    concat_axis = 1 if K.image_data_format() == 'channels_first' else -1\n",
    "    \n",
    "#     x = Conv2D(nb_channels * 2, (7,7), kernel_initializer='he_normal', padding='same', strides=2)(densenet_input)\n",
    "    x = Conv2D(nb_channels * 2, (3,3), kernel_initializer='he_normal', padding='same', strides=1)(densenet_input)\n",
    "    x = BatchNormalization(axis=concat_axis, epsilon=1.1e-5)(x)\n",
    "    x = Activation('relu')(x)\n",
    "#     x = MaxPooling2D(pool_size=(3,3), strides=2, padding='same')(x)\n",
    "    x = Concatenate()([densenet_input, x])\n",
    "    \n",
    "    for idx,block in enumerate(blocks):\n",
    "        x,nb_channels = dense_block(x, block, nb_channels, growth_rate, dropout_rate)\n",
    "        \n",
    "        if idx!=len(blocks)-1:\n",
    "            x = transition_block(x, nb_channels, compression, dropout_rate)\n",
    "    \n",
    "        nb_channels = int(nb_channels * compression)\n",
    "        \n",
    "    x = BatchNormalization(axis=concat_axis, epsilon=1.1e-5)(x)\n",
    "    x = Activation('relu')(x)\n",
    "    x = GlobalAveragePooling2D()(x)\n",
    "#     x = Flatten()(x)\n",
    "    x = Dense(num_classes, kernel_initializer='he_normal', activation='softmax')(x)\n",
    "    \n",
    "    return x"
   ]
  },
  {
   "cell_type": "code",
   "execution_count": null,
   "metadata": {},
   "outputs": [],
   "source": [
    "# implement the code of your DenseNet-121 model here.\n",
    "def DenseNet_121(densenet_input, num_classes, nb_channels, growth_rate, compression=0.5, dropout_rate=None):\n",
    "    blocks = [6, 12, 24, 16]\n",
    "    return DenseNet(densenet_input, blocks, num_classes, nb_channels, growth_rate, compression, dropout_rate)"
   ]
  },
  {
   "cell_type": "code",
   "execution_count": null,
   "metadata": {},
   "outputs": [],
   "source": [
    "# implement the code of your DenseNet-169 model here.\n",
    "def DenseNet_169(densenet_input, num_classes, nb_channels, growth_rate, compression=0.5, dropout_rate=None):\n",
    "    blocks = [6, 12, 32, 32]\n",
    "    return DenseNet(densenet_input, blocks, num_classes, nb_channels, growth_rate, compression, dropout_rate)"
   ]
  },
  {
   "cell_type": "markdown",
   "metadata": {},
   "source": [
    "---\n",
    "## 4. Train and evaluate your models. (25 marks)"
   ]
  },
  {
   "cell_type": "markdown",
   "metadata": {},
   "source": [
    "### 4.1 Train your models. (20 marks)"
   ]
  },
  {
   "cell_type": "markdown",
   "metadata": {},
   "source": [
    "###### model_121 self_design"
   ]
  },
  {
   "cell_type": "code",
   "execution_count": null,
   "metadata": {},
   "outputs": [],
   "source": [
    "# implement your code here.\n",
    "inputs = Input(x_train[0].shape)\n",
    "outputs = DenseNet_121(inputs, num_classes, nb_channels=32, growth_rate=12, compression=0.5)\n",
    "model_121 = Model(inputs, outputs, name=\"densenet\")\n",
    "# model_121.summary()\n",
    "model_121.compile(\n",
    "    optimizer=RMSprop(1e-3),\n",
    "    loss='categorical_crossentropy',\n",
    "    metrics=['accuracy']\n",
    ")\n",
    "# 训练模型\n",
    "history_121 = model_121.fit(x_train, y_train, validation_split=0.1, batch_size=8, epochs=3)"
   ]
  },
  {
   "cell_type": "code",
   "execution_count": null,
   "metadata": {},
   "outputs": [],
   "source": []
  },
  {
   "cell_type": "code",
   "execution_count": null,
   "metadata": {},
   "outputs": [],
   "source": [
    "model_121.save('./densenet121_selfbuild_up.h5')"
   ]
  },
  {
   "cell_type": "markdown",
   "metadata": {},
   "source": [
    "###### model_169 self_design"
   ]
  },
  {
   "cell_type": "code",
   "execution_count": null,
   "metadata": {},
   "outputs": [],
   "source": [
    "inputs = Input(x_train[0].shape)\n",
    "outputs = DenseNet_169(inputs, num_classes, nb_channels=32, growth_rate=12, compression=0.5)\n",
    "model_169 = Model(inputs, outputs, name=\"densenet\")\n",
    "# model_169.summary()\n",
    "model_169.compile(\n",
    "    optimizer=RMSprop(1e-3),\n",
    "    loss='categorical_crossentropy',\n",
    "    metrics=['accuracy']\n",
    ")\n",
    "# 训练模型\n",
    "history_169 = model_169.fit(x_train, y_train, validation_split=0.1, batch_size=8, epochs=3)"
   ]
  },
  {
   "cell_type": "code",
   "execution_count": null,
   "metadata": {},
   "outputs": [],
   "source": []
  },
  {
   "cell_type": "code",
   "execution_count": null,
   "metadata": {},
   "outputs": [],
   "source": [
    "model_169.save('./densenet169_selfbuild_up.h5')"
   ]
  },
  {
   "cell_type": "markdown",
   "metadata": {},
   "source": [
    "### 4.2 Test your models. (5 marks)"
   ]
  },
  {
   "cell_type": "code",
   "execution_count": null,
   "metadata": {},
   "outputs": [],
   "source": [
    "# implement your code here."
   ]
  },
  {
   "cell_type": "markdown",
   "metadata": {},
   "source": [
    "###### DenseNet121 self_design"
   ]
  },
  {
   "cell_type": "code",
   "execution_count": null,
   "metadata": {},
   "outputs": [],
   "source": [
    "# evaluate"
   ]
  },
  {
   "cell_type": "code",
   "execution_count": 81,
   "metadata": {},
   "outputs": [],
   "source": [
    "model_121 = load_model('./densenet121_selfbuild.h5')"
   ]
  },
  {
   "cell_type": "code",
   "execution_count": null,
   "metadata": {},
   "outputs": [],
   "source": [
    "scores_121 = model_121.evaluate(x_test, y_test, verbose=1)\n",
    "print('Test loss:', scores_121[0])\n",
    "print('Test accuracy:', scores_121[1])"
   ]
  },
  {
   "cell_type": "markdown",
   "metadata": {},
   "source": [
    "###### DenseNet_169 self_design"
   ]
  },
  {
   "cell_type": "code",
   "execution_count": 83,
   "metadata": {},
   "outputs": [],
   "source": [
    "# evaluate"
   ]
  },
  {
   "cell_type": "code",
   "execution_count": 84,
   "metadata": {},
   "outputs": [],
   "source": [
    "model_169 = load_model('./densenet169_selfbuild.h5')"
   ]
  },
  {
   "cell_type": "code",
   "execution_count": null,
   "metadata": {},
   "outputs": [],
   "source": [
    "scores_169 = model_169.evaluate(x_test, y_test, verbose=1)\n",
    "print('Test loss:', scores_169[0])\n",
    "print('Test accuracy:', scores_169[1])"
   ]
  },
  {
   "cell_type": "markdown",
   "metadata": {},
   "source": [
    "---\n",
    "## 5. Load the pre-trained models from Keras and evaluate them. (15 marks)"
   ]
  },
  {
   "cell_type": "markdown",
   "metadata": {},
   "source": [
    "###### DenseNet121 Keras "
   ]
  },
  {
   "cell_type": "code",
   "execution_count": null,
   "metadata": {},
   "outputs": [],
   "source": [
    "from tensorflow.keras.applications.densenet import DenseNet121, DenseNet169\n",
    "from tensorflow.keras.layers import GlobalAveragePooling2D, AveragePooling2D, Dense, Dropout, Flatten\n",
    "from tensorflow.keras.models import Model\n",
    "from tensorflow.keras.optimizers import RMSprop, Adam\n",
    "from tensorflow.keras.models import load_model\n",
    "# implement your code here.\n",
    "base_model_121 = DenseNet121(\n",
    "    include_top=False, weights='imagenet',  input_shape=x_train[0].shape\n",
    ")\n",
    "\n",
    "x = base_model_121.output\n",
    "x = GlobalAveragePooling2D()(x) \n",
    "# x = Flatten()(x)\n",
    "# x = Dropout(0.5)(x)\n",
    "predictions_121_tf = Dense(num_classes, kernel_initializer='he_normal', activation='softmax', name='last_output')(x)\n",
    "model_121_tf = Model(inputs=base_model_121.input, outputs=predictions_121_tf)\n",
    "\n",
    "# model_121_tf.summary()"
   ]
  },
  {
   "cell_type": "code",
   "execution_count": null,
   "metadata": {},
   "outputs": [],
   "source": [
    "model_121_tf.compile(\n",
    "    optimizer=RMSprop(1e-3),\n",
    "    loss='categorical_crossentropy',\n",
    "    metrics=['accuracy']\n",
    ")\n",
    "# 训练模型\n",
    "history_121_tf = model_121_tf.fit(x_train, y_train, validation_split=0.1, batch_size=8, epochs=3)"
   ]
  },
  {
   "cell_type": "code",
   "execution_count": null,
   "metadata": {},
   "outputs": [],
   "source": []
  },
  {
   "cell_type": "code",
   "execution_count": null,
   "metadata": {},
   "outputs": [],
   "source": [
    "# 保存模型\n",
    "model_121_tf.save('./densenet121_tensorflow_up.h5')"
   ]
  },
  {
   "cell_type": "code",
   "execution_count": null,
   "metadata": {},
   "outputs": [],
   "source": []
  },
  {
   "cell_type": "markdown",
   "metadata": {},
   "source": [
    "###### DenseNet121 Keras evaluate"
   ]
  },
  {
   "cell_type": "code",
   "execution_count": 88,
   "metadata": {},
   "outputs": [],
   "source": [
    "model_121_tf = load_model('./densenet121_tensorflow.h5')"
   ]
  },
  {
   "cell_type": "code",
   "execution_count": null,
   "metadata": {},
   "outputs": [],
   "source": [
    "scores_121_tf = model_121_tf.evaluate(x_test, y_test, verbose=1)\n",
    "print('Test loss:', scores_121_tf[0])\n",
    "print('Test accuracy:', scores_121_tf[1])"
   ]
  },
  {
   "cell_type": "code",
   "execution_count": null,
   "metadata": {},
   "outputs": [],
   "source": []
  },
  {
   "cell_type": "code",
   "execution_count": null,
   "metadata": {},
   "outputs": [],
   "source": []
  },
  {
   "cell_type": "markdown",
   "metadata": {},
   "source": [
    "###### DenseNet169 Keras "
   ]
  },
  {
   "cell_type": "code",
   "execution_count": null,
   "metadata": {},
   "outputs": [],
   "source": [
    "from tensorflow.keras.applications.densenet import DenseNet121, DenseNet169\n",
    "from tensorflow.keras.layers import GlobalAveragePooling2D, AveragePooling2D, Dense, Dropout, Flatten\n",
    "from tensorflow.keras.models import Model\n",
    "from tensorflow.keras.optimizers import RMSprop, Adam\n",
    "from tensorflow.keras.models import load_model\n",
    "# implement your code here.\n",
    "base_model_169 = DenseNet169(\n",
    "    include_top=False, weights='imagenet',  input_shape=x_train[0].shape\n",
    ")\n",
    "\n",
    "x = base_model_169.output\n",
    "x = GlobalAveragePooling2D()(x) \n",
    "# x = Flatten()(x)\n",
    "# x = Dropout(0.5)(x)\n",
    "predictions_169_tf = Dense(num_classes, kernel_initializer='he_normal', activation='softmax', name='last_output')(x)\n",
    "model_169_tf = Model(inputs=base_model_169.input, outputs=predictions_169_tf)\n",
    "\n",
    "# model_169_tf.summary()"
   ]
  },
  {
   "cell_type": "code",
   "execution_count": null,
   "metadata": {},
   "outputs": [],
   "source": [
    "model_169_tf.compile(\n",
    "    optimizer=RMSprop(1e-3),\n",
    "    loss='categorical_crossentropy',\n",
    "    metrics=['accuracy']\n",
    ")\n",
    "# 训练模型\n",
    "history_169_tf = model_169_tf.fit(x_train, y_train, validation_split=0.1, batch_size=8, epochs=3)"
   ]
  },
  {
   "cell_type": "code",
   "execution_count": null,
   "metadata": {},
   "outputs": [],
   "source": []
  },
  {
   "cell_type": "code",
   "execution_count": null,
   "metadata": {},
   "outputs": [],
   "source": [
    "# 保存模型\n",
    "model_169_tf.save('./densenet169_tensorflow_up.h5')"
   ]
  },
  {
   "cell_type": "code",
   "execution_count": null,
   "metadata": {},
   "outputs": [],
   "source": []
  },
  {
   "cell_type": "markdown",
   "metadata": {},
   "source": [
    "###### DenseNet169 Keras evaluate"
   ]
  },
  {
   "cell_type": "code",
   "execution_count": null,
   "metadata": {},
   "outputs": [],
   "source": [
    "model_169_tf = load_model('./densenet169_tensorflow.h5')"
   ]
  },
  {
   "cell_type": "code",
   "execution_count": null,
   "metadata": {},
   "outputs": [],
   "source": [
    "scores_169_tf = model_169_tf.evaluate(x_test, y_test, verbose=1)\n",
    "print('Test loss:', scores_169_tf[0])\n",
    "print('Test accuracy:', scores_169_tf[1])"
   ]
  },
  {
   "cell_type": "markdown",
   "metadata": {},
   "source": [
    "---\n",
    "## 6. Analysis your results. (20 marks)\n",
    "Compare the performance of your models with the following analysis. Both English and Chinese answers are acceptable.\n",
    "1. Is your implementation of DenseNet-169 better than DenseNet-121? If yes, how is the improvement? If no, try to figure the reason out based on your experiments. (10 marks)\n",
    "\n",
    "Answer:No, the input images's shape is (32,32,3), which means it may not conclude so many features can be extracted, so increasing the depth may not be so useful in these experiments. In fact, I had tried more shallow models to predict, and the performance is not much worse than the deep model. Besides, I think DenseNet169 needs more epoch to train, but I don't have such enough time to train it.\n",
    "\n",
    "2. Compare the results of your implementation with the pre-trained models from Keras. (10 marks)\n",
    "\n",
    "Answer:My implementation is worse than the tensorflow's. Because the tensorflow'DenseNet uses the imagenet dataset to pre-train it's model, which means the more datas and the more features can be extracted.\n",
    "\n",
    "-----------------------------------\n",
    "Besides, the tensorflow'DenseNet model was designed to train the images of the shape (224,224,3), so it uses the Convolution layer of the 7 * 7 kernal to deal the input data at the begining. But our images'shape is (32,32,3), the big size kernal may lose some small features, so i use the 3 * 3 kernal to replace the 7 * 7 kernal and set the strides to 1. Besides, I removed the first MaxPooling2D layer for the similar reason I said before.\n",
    "\n"
   ]
  },
  {
   "cell_type": "code",
   "execution_count": null,
   "metadata": {},
   "outputs": [],
   "source": []
  }
 ],
 "metadata": {
  "kernelspec": {
   "display_name": "Python 3",
   "language": "python",
   "name": "python3"
  },
  "language_info": {
   "codemirror_mode": {
    "name": "ipython",
    "version": 3
   },
   "file_extension": ".py",
   "mimetype": "text/x-python",
   "name": "python",
   "nbconvert_exporter": "python",
   "pygments_lexer": "ipython3",
   "version": "3.8.5"
  }
 },
 "nbformat": 4,
 "nbformat_minor": 2
}
