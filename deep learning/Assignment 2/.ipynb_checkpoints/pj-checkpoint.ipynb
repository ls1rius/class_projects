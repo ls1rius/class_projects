{
 "cells": [
  {
   "cell_type": "code",
   "execution_count": null,
   "metadata": {
    "colab": {
     "base_uri": "https://localhost:8080/"
    },
    "id": "pWTqpLmOBfLp",
    "outputId": "ce5c8c4a-fa55-4bd4-8915-3f7f70e8c1f4"
   },
   "outputs": [
    {
     "name": "stdout",
     "output_type": "stream",
     "text": [
      "Mounted at /content/gdrive\n"
     ]
    }
   ],
   "source": [
    "from google.colab import drive\n",
    "drive.mount('/content/gdrive')"
   ]
  },
  {
   "cell_type": "code",
   "execution_count": 5,
   "metadata": {
    "colab": {
     "base_uri": "https://localhost:8080/"
    },
    "id": "0lAlfzFEE7Sk",
    "outputId": "58f14ec4-42bd-4a4f-ad89-817cad7becb8"
   },
   "outputs": [
    {
     "name": "stdout",
     "output_type": "stream",
     "text": [
      "x_train shape: (50000, 32, 32, 3)\n",
      "50000 train samples\n",
      "10000 test samples\n",
      "y_train shape: (50000, 1)\n"
     ]
    }
   ],
   "source": [
    "from tensorflow.keras.datasets import cifar10\n",
    "from tensorflow.keras.utils import to_categorical\n",
    "\n",
    "num_classes = 10\n",
    "\n",
    "# load the CIFAR10 data\n",
    "(x_train, y_train), (x_test, y_test) = cifar10.load_data()\n",
    "\n",
    "# input image dimensions\n",
    "input_shape = x_train.shape[1:]\n",
    "\n",
    "# mormalize data\n",
    "x_train = x_train.astype('float32') / 255\n",
    "x_test = x_test.astype('float32') / 255\n",
    "print('x_train shape:', x_train.shape)\n",
    "print(x_train.shape[0], 'train samples')\n",
    "print(x_test.shape[0], 'test samples')\n",
    "print('y_train shape:', y_train.shape)\n",
    "\n",
    "# convert class vectors to binary class matrices.\n",
    "y_train = to_categorical(y_train, num_classes)\n",
    "y_test = to_categorical(y_test, num_classes)"
   ]
  },
  {
   "cell_type": "code",
   "execution_count": 6,
   "metadata": {
    "colab": {
     "base_uri": "https://localhost:8080/",
     "height": 285
    },
    "id": "1Jmsu3GVFEwL",
    "outputId": "528dfbc5-2801-4959-f6cd-9dd6a489136a"
   },
   "outputs": [
    {
     "data": {
      "text/plain": [
       "<matplotlib.image.AxesImage at 0x200619617c0>"
      ]
     },
     "execution_count": 6,
     "metadata": {},
     "output_type": "execute_result"
    },
    {
     "data": {
      "image/png": "[encoded data removed]",
      "text/plain": [
       "<Figure size 432x288 with 1 Axes>"
      ]
     },
     "metadata": {
      "needs_background": "light"
     },
     "output_type": "display_data"
    }
   ],
   "source": [
    "import matplotlib.pyplot as plt\n",
    "plt.imshow(x_train[0])   "
   ]
  },
  {
   "cell_type": "markdown",
   "metadata": {
    "id": "NAwBcNypFIja"
   },
   "source": [
    "3. Implement your models (30 marks)\n",
    "\n",
    "   In this task, you are required to implement DenseNet-121 and DenseNet-169 as depicted in the original paper."
   ]
  },
  {
   "cell_type": "code",
   "execution_count": 122,
   "metadata": {
    "id": "NOh3-ZbwFJ--"
   },
   "outputs": [],
   "source": [
    "import tensorflow as tf\n",
    "\n",
    "NUM_CLASSES = 10\n",
    "\n",
    "\n",
    "class BottleNeck(tf.keras.layers.Layer):\n",
    "    def __init__(self, growth_rate, drop_rate):\n",
    "        super(BottleNeck, self).__init__()\n",
    "        self.bn1 = tf.keras.layers.BatchNormalization()\n",
    "        self.conv1 = tf.keras.layers.Conv2D(filters=4 * growth_rate,\n",
    "                                            kernel_size=(1, 1),\n",
    "                                            strides=1,\n",
    "                                            padding=\"same\")\n",
    "        self.bn2 = tf.keras.layers.BatchNormalization()\n",
    "        self.conv2 = tf.keras.layers.Conv2D(filters=growth_rate,\n",
    "                                            kernel_size=(3, 3),\n",
    "                                            strides=1,\n",
    "                                            padding=\"same\")\n",
    "        self.dropout = tf.keras.layers.Dropout(rate=drop_rate)\n",
    "\n",
    "    def call(self, inputs, training=None, **kwargs):\n",
    "        x = self.bn1(inputs, training=training)\n",
    "        x = tf.nn.relu(x)\n",
    "        x = self.conv1(x)\n",
    "        x = self.bn2(x, training=training)\n",
    "        x = tf.nn.relu(x)\n",
    "        x = self.conv2(x)\n",
    "        x = self.dropout(x, training=training)\n",
    "        return x\n",
    "\n",
    "\n",
    "class DenseBlock(tf.keras.layers.Layer):\n",
    "    def __init__(self, num_layers, growth_rate, drop_rate=0.5):\n",
    "        super(DenseBlock, self).__init__()\n",
    "        self.num_layers = num_layers\n",
    "        self.growth_rate = growth_rate\n",
    "        self.drop_rate = drop_rate\n",
    "        self.features_list = []\n",
    "            \n",
    "        for _ in range(num_layers):\n",
    "            self.features_list.append(BottleNeck(growth_rate=self.growth_rate, drop_rate=self.drop_rate))\n",
    "\n",
    "    def call(self, x):\n",
    "        for layer in self.features_list.layers:\n",
    "            y = layer(x)\n",
    "            y = tf.concat(x,axis=-1)\n",
    "            x = y\n",
    "        return x\n",
    "\n",
    "\n",
    "class TransitionLayer(tf.keras.layers.Layer):\n",
    "    def __init__(self, out_channels):\n",
    "        super(TransitionLayer, self).__init__()\n",
    "        self.bn = tf.keras.layers.BatchNormalization()\n",
    "        self.conv = tf.keras.layers.Conv2D(filters=out_channels,\n",
    "                                           kernel_size=(1, 1),\n",
    "                                           strides=1,\n",
    "                                           padding=\"same\")\n",
    "        self.pool = tf.keras.layers.MaxPool2D(pool_size=(2, 2),\n",
    "                                              strides=2,\n",
    "                                              padding=\"same\")\n",
    "\n",
    "    def call(self, inputs, training=None, **kwargs):\n",
    "        x = self.bn(inputs, training=training)\n",
    "        x = tf.nn.relu(x)\n",
    "        x = self.conv(x)\n",
    "        x = self.pool(x)\n",
    "        return x\n",
    "\n",
    "\n",
    "class DenseNet(tf.keras.Model):\n",
    "    def __init__(self, num_init_features, growth_rate, block_layers, compression_rate, drop_rate):\n",
    "        super(DenseNet, self).__init__()\n",
    "        self.conv = tf.keras.layers.Conv2D(filters=num_init_features,\n",
    "                                           kernel_size=(7, 7),\n",
    "                                           strides=2,\n",
    "                                           padding=\"same\")\n",
    "        self.bn = tf.keras.layers.BatchNormalization()\n",
    "        self.pool = tf.keras.layers.MaxPool2D(pool_size=(3, 3),\n",
    "                                              strides=2,\n",
    "                                              padding=\"same\")\n",
    "        self.num_channels = num_init_features\n",
    "        self.dense_block_1 = DenseBlock(num_layers=block_layers[0], growth_rate=growth_rate, drop_rate=drop_rate)\n",
    "        self.num_channels += growth_rate * block_layers[0]\n",
    "        self.num_channels = compression_rate * self.num_channels\n",
    "        self.transition_1 = TransitionLayer(out_channels=int(self.num_channels))\n",
    "        self.dense_block_2 = DenseBlock(num_layers=block_layers[1], growth_rate=growth_rate, drop_rate=drop_rate)\n",
    "        self.num_channels += growth_rate * block_layers[1]\n",
    "        self.num_channels = compression_rate * self.num_channels\n",
    "        self.transition_2 = TransitionLayer(out_channels=int(self.num_channels))\n",
    "        self.dense_block_3 = DenseBlock(num_layers=block_layers[2], growth_rate=growth_rate, drop_rate=drop_rate)\n",
    "        self.num_channels += growth_rate * block_layers[2]\n",
    "        self.num_channels = compression_rate * self.num_channels\n",
    "        self.transition_3 = TransitionLayer(out_channels=int(self.num_channels))\n",
    "        self.dense_block_4 = DenseBlock(num_layers=block_layers[3], growth_rate=growth_rate, drop_rate=drop_rate)\n",
    "\n",
    "        self.avgpool = tf.keras.layers.GlobalAveragePooling2D()\n",
    "        self.fc = tf.keras.layers.Dense(units=NUM_CLASSES,\n",
    "                                        activation=tf.keras.activations.softmax)\n",
    "\n",
    "    def call(self, inputs, training=None, mask=None):\n",
    "        x = self.conv(inputs)\n",
    "        x = self.bn(x, training=training)\n",
    "        x = tf.nn.relu(x)\n",
    "        x = self.pool(x)\n",
    "\n",
    "        x = self.dense_block_1(x, training=training)\n",
    "        x = self.transition_1(x, training=training)\n",
    "        x = self.dense_block_2(x, training=training)\n",
    "        x = self.transition_2(x, training=training)\n",
    "        x = self.dense_block_3(x, training=training)\n",
    "        x = self.transition_3(x, training=training)\n",
    "        x = self.dense_block_4(x, training=training)\n",
    "\n",
    "        x = self.avgpool(x)\n",
    "        x = self.fc(x)\n",
    "\n",
    "        return x"
   ]
  },
  {
   "cell_type": "code",
   "execution_count": 123,
   "metadata": {
    "id": "fiwctkg2GXtp"
   },
   "outputs": [],
   "source": [
    "# implement the code of your DenseNet-121 model here.\n",
    "def densenet_121():\n",
    "    return DenseNet(num_init_features=64, growth_rate=32, block_layers=[6, 12, 24, 16], compression_rate=0.5, drop_rate=0.5)"
   ]
  },
  {
   "cell_type": "code",
   "execution_count": 127,
   "metadata": {
    "colab": {
     "base_uri": "https://localhost:8080/",
     "height": 380
    },
    "id": "6jkutB84gInL",
    "outputId": "36acb98e-98b7-486a-a2a7-67d99fc75561",
    "scrolled": true
   },
   "outputs": [
    {
     "name": "stdout",
     "output_type": "stream",
     "text": [
      "conv2d_603 output shape:\t (None, 16, 16, 64)\n",
      "batch_normalization_592 output shape:\t (None, 16, 16, 64)\n",
      "max_pooling2d_128 output shape:\t (None, 8, 8, 64)\n",
      "dense_block_128 output shape:\t (None, 8, 8, 64)\n",
      "transition_layer_96 output shape:\t (None, 4, 4, 128)\n",
      "dense_block_129 output shape:\t (None, 4, 4, 128)\n",
      "transition_layer_97 output shape:\t (None, 2, 2, 256)\n",
      "dense_block_130 output shape:\t (None, 2, 2, 256)\n",
      "transition_layer_98 output shape:\t (None, 1, 1, 512)\n",
      "dense_block_131 output shape:\t (None, 1, 1, 512)\n",
      "global_average_pooling2d_34 output shape:\t (None, 512)\n",
      "dense_33 output shape:\t (None, 10)\n"
     ]
    }
   ],
   "source": [
    "from tensorflow.keras.models import Model\n",
    "from tensorflow.keras import Input\n",
    "inputs = Input(x_train[0].shape)\n",
    "# outputs = densenet_121()(inputs)\n",
    "# model_121 = Model(inputs, outputs)\n",
    "# model_121.summary()\n",
    "\n",
    "\n",
    "model_121 = densenet_121()\n",
    "for layer in model_121.layers:\n",
    "    inputs = layer(inputs)\n",
    "    print(layer.name, 'output shape:\\t', inputs.shape)\n",
    "    "
   ]
  },
  {
   "cell_type": "code",
   "execution_count": null,
   "metadata": {},
   "outputs": [],
   "source": []
  },
  {
   "cell_type": "code",
   "execution_count": 131,
   "metadata": {
    "scrolled": true
   },
   "outputs": [
    {
     "name": "stdout",
     "output_type": "stream",
     "text": [
      "Epoch 1/3\n",
      "WARNING:tensorflow:Gradients do not exist for variables ['dense_block_128/bottle_neck_232/batch_normalization_593/gamma:0', 'dense_block_128/bottle_neck_232/batch_normalization_593/beta:0', 'dense_block_128/bottle_neck_232/conv2d_604/kernel:0', 'dense_block_128/bottle_neck_232/conv2d_604/bias:0', 'dense_block_128/bottle_neck_232/batch_normalization_594/gamma:0', 'dense_block_128/bottle_neck_232/batch_normalization_594/beta:0', 'dense_block_128/bottle_neck_232/conv2d_605/kernel:0', 'dense_block_128/bottle_neck_232/conv2d_605/bias:0', 'dense_block_128/bottle_neck_233/batch_normalization_595/gamma:0', 'dense_block_128/bottle_neck_233/batch_normalization_595/beta:0', 'dense_block_128/bottle_neck_233/conv2d_606/kernel:0', 'dense_block_128/bottle_neck_233/conv2d_606/bias:0', 'dense_block_128/bottle_neck_233/batch_normalization_596/gamma:0', 'dense_block_128/bottle_neck_233/batch_normalization_596/beta:0', 'dense_block_128/bottle_neck_233/conv2d_607/kernel:0', 'dense_block_128/bottle_neck_233/conv2d_607/bias:0', 'dense_block_128/bottle_neck_234/batch_normalization_597/gamma:0', 'dense_block_128/bottle_neck_234/batch_normalization_597/beta:0', 'dense_block_128/bottle_neck_234/conv2d_608/kernel:0', 'dense_block_128/bottle_neck_234/conv2d_608/bias:0', 'dense_block_128/bottle_neck_234/batch_normalization_598/gamma:0', 'dense_block_128/bottle_neck_234/batch_normalization_598/beta:0', 'dense_block_128/bottle_neck_234/conv2d_609/kernel:0', 'dense_block_128/bottle_neck_234/conv2d_609/bias:0', 'dense_block_128/bottle_neck_235/batch_normalization_599/gamma:0', 'dense_block_128/bottle_neck_235/batch_normalization_599/beta:0', 'dense_block_128/bottle_neck_235/conv2d_610/kernel:0', 'dense_block_128/bottle_neck_235/conv2d_610/bias:0', 'dense_block_128/bottle_neck_235/batch_normalization_600/gamma:0', 'dense_block_128/bottle_neck_235/batch_normalization_600/beta:0', 'dense_block_128/bottle_neck_235/conv2d_611/kernel:0', 'dense_block_128/bottle_neck_235/conv2d_611/bias:0', 'dense_block_128/bottle_neck_236/batch_normalization_601/gamma:0', 'dense_block_128/bottle_neck_236/batch_normalization_601/beta:0', 'dense_block_128/bottle_neck_236/conv2d_612/kernel:0', 'dense_block_128/bottle_neck_236/conv2d_612/bias:0', 'dense_block_128/bottle_neck_236/batch_normalization_602/gamma:0', 'dense_block_128/bottle_neck_236/batch_normalization_602/beta:0', 'dense_block_128/bottle_neck_236/conv2d_613/kernel:0', 'dense_block_128/bottle_neck_236/conv2d_613/bias:0', 'dense_block_128/bottle_neck_237/batch_normalization_603/gamma:0', 'dense_block_128/bottle_neck_237/batch_normalization_603/beta:0', 'dense_block_128/bottle_neck_237/conv2d_614/kernel:0', 'dense_block_128/bottle_neck_237/conv2d_614/bias:0', 'dense_block_128/bottle_neck_237/batch_normalization_604/gamma:0', 'dense_block_128/bottle_neck_237/batch_normalization_604/beta:0', 'dense_block_128/bottle_neck_237/conv2d_615/kernel:0', 'dense_block_128/bottle_neck_237/conv2d_615/bias:0', 'dense_block_129/bottle_neck_238/batch_normalization_606/gamma:0', 'dense_block_129/bottle_neck_238/batch_normalization_606/beta:0', 'dense_block_129/bottle_neck_238/conv2d_617/kernel:0', 'dense_block_129/bottle_neck_238/conv2d_617/bias:0', 'dense_block_129/bottle_neck_238/batch_normalization_607/gamma:0', 'dense_block_129/bottle_neck_238/batch_normalization_607/beta:0', 'dense_block_129/bottle_neck_238/conv2d_618/kernel:0', 'dense_block_129/bottle_neck_238/conv2d_618/bias:0', 'dense_block_129/bottle_neck_239/batch_normalization_608/gamma:0', 'dense_block_129/bottle_neck_239/batch_normalization_608/beta:0', 'dense_block_129/bottle_neck_239/conv2d_619/kernel:0', 'dense_block_129/bottle_neck_239/conv2d_619/bias:0', 'dense_block_129/bottle_neck_239/batch_normalization_609/gamma:0', 'dense_block_129/bottle_neck_239/batch_normalization_609/beta:0', 'dense_block_129/bottle_neck_239/conv2d_620/kernel:0', 'dense_block_129/bottle_neck_239/conv2d_620/bias:0', 'dense_block_129/bottle_neck_240/batch_normalization_610/gamma:0', 'dense_block_129/bottle_neck_240/batch_normalization_610/beta:0', 'dense_block_129/bottle_neck_240/conv2d_621/kernel:0', 'dense_block_129/bottle_neck_240/conv2d_621/bias:0', 'dense_block_129/bottle_neck_240/batch_normalization_611/gamma:0', 'dense_block_129/bottle_neck_240/batch_normalization_611/beta:0', 'dense_block_129/bottle_neck_240/conv2d_622/kernel:0', 'dense_block_129/bottle_neck_240/conv2d_622/bias:0', 'dense_block_129/bottle_neck_241/batch_normalization_612/gamma:0', 'dense_block_129/bottle_neck_241/batch_normalization_612/beta:0', 'dense_block_129/bottle_neck_241/conv2d_623/kernel:0', 'dense_block_129/bottle_neck_241/conv2d_623/bias:0', 'dense_block_129/bottle_neck_241/batch_normalization_613/gamma:0', 'dense_block_129/bottle_neck_241/batch_normalization_613/beta:0', 'dense_block_129/bottle_neck_241/conv2d_624/kernel:0', 'dense_block_129/bottle_neck_241/conv2d_624/bias:0', 'dense_block_129/bottle_neck_242/batch_normalization_614/gamma:0', 'dense_block_129/bottle_neck_242/batch_normalization_614/beta:0', 'dense_block_129/bottle_neck_242/conv2d_625/kernel:0', 'dense_block_129/bottle_neck_242/conv2d_625/bias:0', 'dense_block_129/bottle_neck_242/batch_normalization_615/gamma:0', 'dense_block_129/bottle_neck_242/batch_normalization_615/beta:0', 'dense_block_129/bottle_neck_242/conv2d_626/kernel:0', 'dense_block_129/bottle_neck_242/conv2d_626/bias:0', 'dense_block_129/bottle_neck_243/batch_normalization_616/gamma:0', 'dense_block_129/bottle_neck_243/batch_normalization_616/beta:0', 'dense_block_129/bottle_neck_243/conv2d_627/kernel:0', 'dense_block_129/bottle_neck_243/conv2d_627/bias:0', 'dense_block_129/bottle_neck_243/batch_normalization_617/gamma:0', 'dense_block_129/bottle_neck_243/batch_normalization_617/beta:0', 'dense_block_129/bottle_neck_243/conv2d_628/kernel:0', 'dense_block_129/bottle_neck_243/conv2d_628/bias:0', 'dense_block_129/bottle_neck_244/batch_normalization_618/gamma:0', 'dense_block_129/bottle_neck_244/batch_normalization_618/beta:0', 'dense_block_129/bottle_neck_244/conv2d_629/kernel:0', 'dense_block_129/bottle_neck_244/conv2d_629/bias:0', 'dense_block_129/bottle_neck_244/batch_normalization_619/gamma:0', 'dense_block_129/bottle_neck_244/batch_normalization_619/beta:0', 'dense_block_129/bottle_neck_244/conv2d_630/kernel:0', 'dense_block_129/bottle_neck_244/conv2d_630/bias:0', 'dense_block_129/bottle_neck_245/batch_normalization_620/gamma:0', 'dense_block_129/bottle_neck_245/batch_normalization_620/beta:0', 'dense_block_129/bottle_neck_245/conv2d_631/kernel:0', 'dense_block_129/bottle_neck_245/conv2d_631/bias:0', 'dense_block_129/bottle_neck_245/batch_normalization_621/gamma:0', 'dense_block_129/bottle_neck_245/batch_normalization_621/beta:0', 'dense_block_129/bottle_neck_245/conv2d_632/kernel:0', 'dense_block_129/bottle_neck_245/conv2d_632/bias:0', 'dense_block_129/bottle_neck_246/batch_normalization_622/gamma:0', 'dense_block_129/bottle_neck_246/batch_normalization_622/beta:0', 'dense_block_129/bottle_neck_246/conv2d_633/kernel:0', 'dense_block_129/bottle_neck_246/conv2d_633/bias:0', 'dense_block_129/bottle_neck_246/batch_normalization_623/gamma:0', 'dense_block_129/bottle_neck_246/batch_normalization_623/beta:0', 'dense_block_129/bottle_neck_246/conv2d_634/kernel:0', 'dense_block_129/bottle_neck_246/conv2d_634/bias:0', 'dense_block_129/bottle_neck_247/batch_normalization_624/gamma:0', 'dense_block_129/bottle_neck_247/batch_normalization_624/beta:0', 'dense_block_129/bottle_neck_247/conv2d_635/kernel:0', 'dense_block_129/bottle_neck_247/conv2d_635/bias:0', 'dense_block_129/bottle_neck_247/batch_normalization_625/gamma:0', 'dense_block_129/bottle_neck_247/batch_normalization_625/beta:0', 'dense_block_129/bottle_neck_247/conv2d_636/kernel:0', 'dense_block_129/bottle_neck_247/conv2d_636/bias:0', 'dense_block_129/bottle_neck_248/batch_normalization_626/gamma:0', 'dense_block_129/bottle_neck_248/batch_normalization_626/beta:0', 'dense_block_129/bottle_neck_248/conv2d_637/kernel:0', 'dense_block_129/bottle_neck_248/conv2d_637/bias:0', 'dense_block_129/bottle_neck_248/batch_normalization_627/gamma:0', 'dense_block_129/bottle_neck_248/batch_normalization_627/beta:0', 'dense_block_129/bottle_neck_248/conv2d_638/kernel:0', 'dense_block_129/bottle_neck_248/conv2d_638/bias:0', 'dense_block_129/bottle_neck_249/batch_normalization_628/gamma:0', 'dense_block_129/bottle_neck_249/batch_normalization_628/beta:0', 'dense_block_129/bottle_neck_249/conv2d_639/kernel:0', 'dense_block_129/bottle_neck_249/conv2d_639/bias:0', 'dense_block_129/bottle_neck_249/batch_normalization_629/gamma:0', 'dense_block_129/bottle_neck_249/batch_normalization_629/beta:0', 'dense_block_129/bottle_neck_249/conv2d_640/kernel:0', 'dense_block_129/bottle_neck_249/conv2d_640/bias:0', 'dense_block_130/bottle_neck_250/batch_normalization_631/gamma:0', 'dense_block_130/bottle_neck_250/batch_normalization_631/beta:0', 'dense_block_130/bottle_neck_250/conv2d_642/kernel:0', 'dense_block_130/bottle_neck_250/conv2d_642/bias:0', 'dense_block_130/bottle_neck_250/batch_normalization_632/gamma:0', 'dense_block_130/bottle_neck_250/batch_normalization_632/beta:0', 'dense_block_130/bottle_neck_250/conv2d_643/kernel:0', 'dense_block_130/bottle_neck_250/conv2d_643/bias:0', 'dense_block_130/bottle_neck_251/batch_normalization_633/gamma:0', 'dense_block_130/bottle_neck_251/batch_normalization_633/beta:0', 'dense_block_130/bottle_neck_251/conv2d_644/kernel:0', 'dense_block_130/bottle_neck_251/conv2d_644/bias:0', 'dense_block_130/bottle_neck_251/batch_normalization_634/gamma:0', 'dense_block_130/bottle_neck_251/batch_normalization_634/beta:0', 'dense_block_130/bottle_neck_251/conv2d_645/kernel:0', 'dense_block_130/bottle_neck_251/conv2d_645/bias:0', 'dense_block_130/bottle_neck_252/batch_normalization_635/gamma:0', 'dense_block_130/bottle_neck_252/batch_normalization_635/beta:0', 'dense_block_130/bottle_neck_252/conv2d_646/kernel:0', 'dense_block_130/bottle_neck_252/conv2d_646/bias:0', 'dense_block_130/bottle_neck_252/batch_normalization_636/gamma:0', 'dense_block_130/bottle_neck_252/batch_normalization_636/beta:0', 'dense_block_130/bottle_neck_252/conv2d_647/kernel:0', 'dense_block_130/bottle_neck_252/conv2d_647/bias:0', 'dense_block_130/bottle_neck_253/batch_normalization_637/gamma:0', 'dense_block_130/bottle_neck_253/batch_normalization_637/beta:0', 'dense_block_130/bottle_neck_253/conv2d_648/kernel:0', 'dense_block_130/bottle_neck_253/conv2d_648/bias:0', 'dense_block_130/bottle_neck_253/batch_normalization_638/gamma:0', 'dense_block_130/bottle_neck_253/batch_normalization_638/beta:0', 'dense_block_130/bottle_neck_253/conv2d_649/kernel:0', 'dense_block_130/bottle_neck_253/conv2d_649/bias:0', 'dense_block_130/bottle_neck_254/batch_normalization_639/gamma:0', 'dense_block_130/bottle_neck_254/batch_normalization_639/beta:0', 'dense_block_130/bottle_neck_254/conv2d_650/kernel:0', 'dense_block_130/bottle_neck_254/conv2d_650/bias:0', 'dense_block_130/bottle_neck_254/batch_normalization_640/gamma:0', 'dense_block_130/bottle_neck_254/batch_normalization_640/beta:0', 'dense_block_130/bottle_neck_254/conv2d_651/kernel:0', 'dense_block_130/bottle_neck_254/conv2d_651/bias:0', 'dense_block_130/bottle_neck_255/batch_normalization_641/gamma:0', 'dense_block_130/bottle_neck_255/batch_normalization_641/beta:0', 'dense_block_130/bottle_neck_255/conv2d_652/kernel:0', 'dense_block_130/bottle_neck_255/conv2d_652/bias:0', 'dense_block_130/bottle_neck_255/batch_normalization_642/gamma:0', 'dense_block_130/bottle_neck_255/batch_normalization_642/beta:0', 'dense_block_130/bottle_neck_255/conv2d_653/kernel:0', 'dense_block_130/bottle_neck_255/conv2d_653/bias:0', 'dense_block_130/bottle_neck_256/batch_normalization_643/gamma:0', 'dense_block_130/bottle_neck_256/batch_normalization_643/beta:0', 'dense_block_130/bottle_neck_256/conv2d_654/kernel:0', 'dense_block_130/bottle_neck_256/conv2d_654/bias:0', 'dense_block_130/bottle_neck_256/batch_normalization_644/gamma:0', 'dense_block_130/bottle_neck_256/batch_normalization_644/beta:0', 'dense_block_130/bottle_neck_256/conv2d_655/kernel:0', 'dense_block_130/bottle_neck_256/conv2d_655/bias:0', 'dense_block_130/bottle_neck_257/batch_normalization_645/gamma:0', 'dense_block_130/bottle_neck_257/batch_normalization_645/beta:0', 'dense_block_130/bottle_neck_257/conv2d_656/kernel:0', 'dense_block_130/bottle_neck_257/conv2d_656/bias:0', 'dense_block_130/bottle_neck_257/batch_normalization_646/gamma:0', 'dense_block_130/bottle_neck_257/batch_normalization_646/beta:0', 'dense_block_130/bottle_neck_257/conv2d_657/kernel:0', 'dense_block_130/bottle_neck_257/conv2d_657/bias:0', 'dense_block_130/bottle_neck_258/batch_normalization_647/gamma:0', 'dense_block_130/bottle_neck_258/batch_normalization_647/beta:0', 'dense_block_130/bottle_neck_258/conv2d_658/kernel:0', 'dense_block_130/bottle_neck_258/conv2d_658/bias:0', 'dense_block_130/bottle_neck_258/batch_normalization_648/gamma:0', 'dense_block_130/bottle_neck_258/batch_normalization_648/beta:0', 'dense_block_130/bottle_neck_258/conv2d_659/kernel:0', 'dense_block_130/bottle_neck_258/conv2d_659/bias:0', 'dense_block_130/bottle_neck_259/batch_normalization_649/gamma:0', 'dense_block_130/bottle_neck_259/batch_normalization_649/beta:0', 'dense_block_130/bottle_neck_259/conv2d_660/kernel:0', 'dense_block_130/bottle_neck_259/conv2d_660/bias:0', 'dense_block_130/bottle_neck_259/batch_normalization_650/gamma:0', 'dense_block_130/bottle_neck_259/batch_normalization_650/beta:0', 'dense_block_130/bottle_neck_259/conv2d_661/kernel:0', 'dense_block_130/bottle_neck_259/conv2d_661/bias:0', 'dense_block_130/bottle_neck_260/batch_normalization_651/gamma:0', 'dense_block_130/bottle_neck_260/batch_normalization_651/beta:0', 'dense_block_130/bottle_neck_260/conv2d_662/kernel:0', 'dense_block_130/bottle_neck_260/conv2d_662/bias:0', 'dense_block_130/bottle_neck_260/batch_normalization_652/gamma:0', 'dense_block_130/bottle_neck_260/batch_normalization_652/beta:0', 'dense_block_130/bottle_neck_260/conv2d_663/kernel:0', 'dense_block_130/bottle_neck_260/conv2d_663/bias:0', 'dense_block_130/bottle_neck_261/batch_normalization_653/gamma:0', 'dense_block_130/bottle_neck_261/batch_normalization_653/beta:0', 'dense_block_130/bottle_neck_261/conv2d_664/kernel:0', 'dense_block_130/bottle_neck_261/conv2d_664/bias:0', 'dense_block_130/bottle_neck_261/batch_normalization_654/gamma:0', 'dense_block_130/bottle_neck_261/batch_normalization_654/beta:0', 'dense_block_130/bottle_neck_261/conv2d_665/kernel:0', 'dense_block_130/bottle_neck_261/conv2d_665/bias:0', 'dense_block_130/bottle_neck_262/batch_normalization_655/gamma:0', 'dense_block_130/bottle_neck_262/batch_normalization_655/beta:0', 'dense_block_130/bottle_neck_262/conv2d_666/kernel:0', 'dense_block_130/bottle_neck_262/conv2d_666/bias:0', 'dense_block_130/bottle_neck_262/batch_normalization_656/gamma:0', 'dense_block_130/bottle_neck_262/batch_normalization_656/beta:0', 'dense_block_130/bottle_neck_262/conv2d_667/kernel:0', 'dense_block_130/bottle_neck_262/conv2d_667/bias:0', 'dense_block_130/bottle_neck_263/batch_normalization_657/gamma:0', 'dense_block_130/bottle_neck_263/batch_normalization_657/beta:0', 'dense_block_130/bottle_neck_263/conv2d_668/kernel:0', 'dense_block_130/bottle_neck_263/conv2d_668/bias:0', 'dense_block_130/bottle_neck_263/batch_normalization_658/gamma:0', 'dense_block_130/bottle_neck_263/batch_normalization_658/beta:0', 'dense_block_130/bottle_neck_263/conv2d_669/kernel:0', 'dense_block_130/bottle_neck_263/conv2d_669/bias:0', 'dense_block_130/bottle_neck_264/batch_normalization_659/gamma:0', 'dense_block_130/bottle_neck_264/batch_normalization_659/beta:0', 'dense_block_130/bottle_neck_264/conv2d_670/kernel:0', 'dense_block_130/bottle_neck_264/conv2d_670/bias:0', 'dense_block_130/bottle_neck_264/batch_normalization_660/gamma:0', 'dense_block_130/bottle_neck_264/batch_normalization_660/beta:0', 'dense_block_130/bottle_neck_264/conv2d_671/kernel:0', 'dense_block_130/bottle_neck_264/conv2d_671/bias:0', 'dense_block_130/bottle_neck_265/batch_normalization_661/gamma:0', 'dense_block_130/bottle_neck_265/batch_normalization_661/beta:0', 'dense_block_130/bottle_neck_265/conv2d_672/kernel:0', 'dense_block_130/bottle_neck_265/conv2d_672/bias:0', 'dense_block_130/bottle_neck_265/batch_normalization_662/gamma:0', 'dense_block_130/bottle_neck_265/batch_normalization_662/beta:0', 'dense_block_130/bottle_neck_265/conv2d_673/kernel:0', 'dense_block_130/bottle_neck_265/conv2d_673/bias:0', 'dense_block_130/bottle_neck_266/batch_normalization_663/gamma:0', 'dense_block_130/bottle_neck_266/batch_normalization_663/beta:0', 'dense_block_130/bottle_neck_266/conv2d_674/kernel:0', 'dense_block_130/bottle_neck_266/conv2d_674/bias:0', 'dense_block_130/bottle_neck_266/batch_normalization_664/gamma:0', 'dense_block_130/bottle_neck_266/batch_normalization_664/beta:0', 'dense_block_130/bottle_neck_266/conv2d_675/kernel:0', 'dense_block_130/bottle_neck_266/conv2d_675/bias:0', 'dense_block_130/bottle_neck_267/batch_normalization_665/gamma:0', 'dense_block_130/bottle_neck_267/batch_normalization_665/beta:0', 'dense_block_130/bottle_neck_267/conv2d_676/kernel:0', 'dense_block_130/bottle_neck_267/conv2d_676/bias:0', 'dense_block_130/bottle_neck_267/batch_normalization_666/gamma:0', 'dense_block_130/bottle_neck_267/batch_normalization_666/beta:0', 'dense_block_130/bottle_neck_267/conv2d_677/kernel:0', 'dense_block_130/bottle_neck_267/conv2d_677/bias:0', 'dense_block_130/bottle_neck_268/batch_normalization_667/gamma:0', 'dense_block_130/bottle_neck_268/batch_normalization_667/beta:0', 'dense_block_130/bottle_neck_268/conv2d_678/kernel:0', 'dense_block_130/bottle_neck_268/conv2d_678/bias:0', 'dense_block_130/bottle_neck_268/batch_normalization_668/gamma:0', 'dense_block_130/bottle_neck_268/batch_normalization_668/beta:0', 'dense_block_130/bottle_neck_268/conv2d_679/kernel:0', 'dense_block_130/bottle_neck_268/conv2d_679/bias:0', 'dense_block_130/bottle_neck_269/batch_normalization_669/gamma:0', 'dense_block_130/bottle_neck_269/batch_normalization_669/beta:0', 'dense_block_130/bottle_neck_269/conv2d_680/kernel:0', 'dense_block_130/bottle_neck_269/conv2d_680/bias:0', 'dense_block_130/bottle_neck_269/batch_normalization_670/gamma:0', 'dense_block_130/bottle_neck_269/batch_normalization_670/beta:0', 'dense_block_130/bottle_neck_269/conv2d_681/kernel:0', 'dense_block_130/bottle_neck_269/conv2d_681/bias:0', 'dense_block_130/bottle_neck_270/batch_normalization_671/gamma:0', 'dense_block_130/bottle_neck_270/batch_normalization_671/beta:0', 'dense_block_130/bottle_neck_270/conv2d_682/kernel:0', 'dense_block_130/bottle_neck_270/conv2d_682/bias:0', 'dense_block_130/bottle_neck_270/batch_normalization_672/gamma:0', 'dense_block_130/bottle_neck_270/batch_normalization_672/beta:0', 'dense_block_130/bottle_neck_270/conv2d_683/kernel:0', 'dense_block_130/bottle_neck_270/conv2d_683/bias:0', 'dense_block_130/bottle_neck_271/batch_normalization_673/gamma:0', 'dense_block_130/bottle_neck_271/batch_normalization_673/beta:0', 'dense_block_130/bottle_neck_271/conv2d_684/kernel:0', 'dense_block_130/bottle_neck_271/conv2d_684/bias:0', 'dense_block_130/bottle_neck_271/batch_normalization_674/gamma:0', 'dense_block_130/bottle_neck_271/batch_normalization_674/beta:0', 'dense_block_130/bottle_neck_271/conv2d_685/kernel:0', 'dense_block_130/bottle_neck_271/conv2d_685/bias:0', 'dense_block_130/bottle_neck_272/batch_normalization_675/gamma:0', 'dense_block_130/bottle_neck_272/batch_normalization_675/beta:0', 'dense_block_130/bottle_neck_272/conv2d_686/kernel:0', 'dense_block_130/bottle_neck_272/conv2d_686/bias:0', 'dense_block_130/bottle_neck_272/batch_normalization_676/gamma:0', 'dense_block_130/bottle_neck_272/batch_normalization_676/beta:0', 'dense_block_130/bottle_neck_272/conv2d_687/kernel:0', 'dense_block_130/bottle_neck_272/conv2d_687/bias:0', 'dense_block_130/bottle_neck_273/batch_normalization_677/gamma:0', 'dense_block_130/bottle_neck_273/batch_normalization_677/beta:0', 'dense_block_130/bottle_neck_273/conv2d_688/kernel:0', 'dense_block_130/bottle_neck_273/conv2d_688/bias:0', 'dense_block_130/bottle_neck_273/batch_normalization_678/gamma:0', 'dense_block_130/bottle_neck_273/batch_normalization_678/beta:0', 'dense_block_130/bottle_neck_273/conv2d_689/kernel:0', 'dense_block_130/bottle_neck_273/conv2d_689/bias:0', 'dense_block_131/bottle_neck_274/batch_normalization_680/gamma:0', 'dense_block_131/bottle_neck_274/batch_normalization_680/beta:0', 'dense_block_131/bottle_neck_274/conv2d_691/kernel:0', 'dense_block_131/bottle_neck_274/conv2d_691/bias:0', 'dense_block_131/bottle_neck_274/batch_normalization_681/gamma:0', 'dense_block_131/bottle_neck_274/batch_normalization_681/beta:0', 'dense_block_131/bottle_neck_274/conv2d_692/kernel:0', 'dense_block_131/bottle_neck_274/conv2d_692/bias:0', 'dense_block_131/bottle_neck_275/batch_normalization_682/gamma:0', 'dense_block_131/bottle_neck_275/batch_normalization_682/beta:0', 'dense_block_131/bottle_neck_275/conv2d_693/kernel:0', 'dense_block_131/bottle_neck_275/conv2d_693/bias:0', 'dense_block_131/bottle_neck_275/batch_normalization_683/gamma:0', 'dense_block_131/bottle_neck_275/batch_normalization_683/beta:0', 'dense_block_131/bottle_neck_275/conv2d_694/kernel:0', 'dense_block_131/bottle_neck_275/conv2d_694/bias:0', 'dense_block_131/bottle_neck_276/batch_normalization_684/gamma:0', 'dense_block_131/bottle_neck_276/batch_normalization_684/beta:0', 'dense_block_131/bottle_neck_276/conv2d_695/kernel:0', 'dense_block_131/bottle_neck_276/conv2d_695/bias:0', 'dense_block_131/bottle_neck_276/batch_normalization_685/gamma:0', 'dense_block_131/bottle_neck_276/batch_normalization_685/beta:0', 'dense_block_131/bottle_neck_276/conv2d_696/kernel:0', 'dense_block_131/bottle_neck_276/conv2d_696/bias:0', 'dense_block_131/bottle_neck_277/batch_normalization_686/gamma:0', 'dense_block_131/bottle_neck_277/batch_normalization_686/beta:0', 'dense_block_131/bottle_neck_277/conv2d_697/kernel:0', 'dense_block_131/bottle_neck_277/conv2d_697/bias:0', 'dense_block_131/bottle_neck_277/batch_normalization_687/gamma:0', 'dense_block_131/bottle_neck_277/batch_normalization_687/beta:0', 'dense_block_131/bottle_neck_277/conv2d_698/kernel:0', 'dense_block_131/bottle_neck_277/conv2d_698/bias:0', 'dense_block_131/bottle_neck_278/batch_normalization_688/gamma:0', 'dense_block_131/bottle_neck_278/batch_normalization_688/beta:0', 'dense_block_131/bottle_neck_278/conv2d_699/kernel:0', 'dense_block_131/bottle_neck_278/conv2d_699/bias:0', 'dense_block_131/bottle_neck_278/batch_normalization_689/gamma:0', 'dense_block_131/bottle_neck_278/batch_normalization_689/beta:0', 'dense_block_131/bottle_neck_278/conv2d_700/kernel:0', 'dense_block_131/bottle_neck_278/conv2d_700/bias:0', 'dense_block_131/bottle_neck_279/batch_normalization_690/gamma:0', 'dense_block_131/bottle_neck_279/batch_normalization_690/beta:0', 'dense_block_131/bottle_neck_279/conv2d_701/kernel:0', 'dense_block_131/bottle_neck_279/conv2d_701/bias:0', 'dense_block_131/bottle_neck_279/batch_normalization_691/gamma:0', 'dense_block_131/bottle_neck_279/batch_normalization_691/beta:0', 'dense_block_131/bottle_neck_279/conv2d_702/kernel:0', 'dense_block_131/bottle_neck_279/conv2d_702/bias:0', 'dense_block_131/bottle_neck_280/batch_normalization_692/gamma:0', 'dense_block_131/bottle_neck_280/batch_normalization_692/beta:0', 'dense_block_131/bottle_neck_280/conv2d_703/kernel:0', 'dense_block_131/bottle_neck_280/conv2d_703/bias:0', 'dense_block_131/bottle_neck_280/batch_normalization_693/gamma:0', 'dense_block_131/bottle_neck_280/batch_normalization_693/beta:0', 'dense_block_131/bottle_neck_280/conv2d_704/kernel:0', 'dense_block_131/bottle_neck_280/conv2d_704/bias:0', 'dense_block_131/bottle_neck_281/batch_normalization_694/gamma:0', 'dense_block_131/bottle_neck_281/batch_normalization_694/beta:0', 'dense_block_131/bottle_neck_281/conv2d_705/kernel:0', 'dense_block_131/bottle_neck_281/conv2d_705/bias:0', 'dense_block_131/bottle_neck_281/batch_normalization_695/gamma:0', 'dense_block_131/bottle_neck_281/batch_normalization_695/beta:0', 'dense_block_131/bottle_neck_281/conv2d_706/kernel:0', 'dense_block_131/bottle_neck_281/conv2d_706/bias:0', 'dense_block_131/bottle_neck_282/batch_normalization_696/gamma:0', 'dense_block_131/bottle_neck_282/batch_normalization_696/beta:0', 'dense_block_131/bottle_neck_282/conv2d_707/kernel:0', 'dense_block_131/bottle_neck_282/conv2d_707/bias:0', 'dense_block_131/bottle_neck_282/batch_normalization_697/gamma:0', 'dense_block_131/bottle_neck_282/batch_normalization_697/beta:0', 'dense_block_131/bottle_neck_282/conv2d_708/kernel:0', 'dense_block_131/bottle_neck_282/conv2d_708/bias:0', 'dense_block_131/bottle_neck_283/batch_normalization_698/gamma:0', 'dense_block_131/bottle_neck_283/batch_normalization_698/beta:0', 'dense_block_131/bottle_neck_283/conv2d_709/kernel:0', 'dense_block_131/bottle_neck_283/conv2d_709/bias:0', 'dense_block_131/bottle_neck_283/batch_normalization_699/gamma:0', 'dense_block_131/bottle_neck_283/batch_normalization_699/beta:0', 'dense_block_131/bottle_neck_283/conv2d_710/kernel:0', 'dense_block_131/bottle_neck_283/conv2d_710/bias:0', 'dense_block_131/bottle_neck_284/batch_normalization_700/gamma:0', 'dense_block_131/bottle_neck_284/batch_normalization_700/beta:0', 'dense_block_131/bottle_neck_284/conv2d_711/kernel:0', 'dense_block_131/bottle_neck_284/conv2d_711/bias:0', 'dense_block_131/bottle_neck_284/batch_normalization_701/gamma:0', 'dense_block_131/bottle_neck_284/batch_normalization_701/beta:0', 'dense_block_131/bottle_neck_284/conv2d_712/kernel:0', 'dense_block_131/bottle_neck_284/conv2d_712/bias:0', 'dense_block_131/bottle_neck_285/batch_normalization_702/gamma:0', 'dense_block_131/bottle_neck_285/batch_normalization_702/beta:0', 'dense_block_131/bottle_neck_285/conv2d_713/kernel:0', 'dense_block_131/bottle_neck_285/conv2d_713/bias:0', 'dense_block_131/bottle_neck_285/batch_normalization_703/gamma:0', 'dense_block_131/bottle_neck_285/batch_normalization_703/beta:0', 'dense_block_131/bottle_neck_285/conv2d_714/kernel:0', 'dense_block_131/bottle_neck_285/conv2d_714/bias:0', 'dense_block_131/bottle_neck_286/batch_normalization_704/gamma:0', 'dense_block_131/bottle_neck_286/batch_normalization_704/beta:0', 'dense_block_131/bottle_neck_286/conv2d_715/kernel:0', 'dense_block_131/bottle_neck_286/conv2d_715/bias:0', 'dense_block_131/bottle_neck_286/batch_normalization_705/gamma:0', 'dense_block_131/bottle_neck_286/batch_normalization_705/beta:0', 'dense_block_131/bottle_neck_286/conv2d_716/kernel:0', 'dense_block_131/bottle_neck_286/conv2d_716/bias:0', 'dense_block_131/bottle_neck_287/batch_normalization_706/gamma:0', 'dense_block_131/bottle_neck_287/batch_normalization_706/beta:0', 'dense_block_131/bottle_neck_287/conv2d_717/kernel:0', 'dense_block_131/bottle_neck_287/conv2d_717/bias:0', 'dense_block_131/bottle_neck_287/batch_normalization_707/gamma:0', 'dense_block_131/bottle_neck_287/batch_normalization_707/beta:0', 'dense_block_131/bottle_neck_287/conv2d_718/kernel:0', 'dense_block_131/bottle_neck_287/conv2d_718/bias:0', 'dense_block_131/bottle_neck_288/batch_normalization_708/gamma:0', 'dense_block_131/bottle_neck_288/batch_normalization_708/beta:0', 'dense_block_131/bottle_neck_288/conv2d_719/kernel:0', 'dense_block_131/bottle_neck_288/conv2d_719/bias:0', 'dense_block_131/bottle_neck_288/batch_normalization_709/gamma:0', 'dense_block_131/bottle_neck_288/batch_normalization_709/beta:0', 'dense_block_131/bottle_neck_288/conv2d_720/kernel:0', 'dense_block_131/bottle_neck_288/conv2d_720/bias:0', 'dense_block_131/bottle_neck_289/batch_normalization_710/gamma:0', 'dense_block_131/bottle_neck_289/batch_normalization_710/beta:0', 'dense_block_131/bottle_neck_289/conv2d_721/kernel:0', 'dense_block_131/bottle_neck_289/conv2d_721/bias:0', 'dense_block_131/bottle_neck_289/batch_normalization_711/gamma:0', 'dense_block_131/bottle_neck_289/batch_normalization_711/beta:0', 'dense_block_131/bottle_neck_289/conv2d_722/kernel:0', 'dense_block_131/bottle_neck_289/conv2d_722/bias:0'] when minimizing the loss.\n"
     ]
    },
    {
     "name": "stdout",
     "output_type": "stream",
     "text": [
      "WARNING:tensorflow:Gradients do not exist for variables ['dense_block_128/bottle_neck_232/batch_normalization_593/gamma:0', 'dense_block_128/bottle_neck_232/batch_normalization_593/beta:0', 'dense_block_128/bottle_neck_232/conv2d_604/kernel:0', 'dense_block_128/bottle_neck_232/conv2d_604/bias:0', 'dense_block_128/bottle_neck_232/batch_normalization_594/gamma:0', 'dense_block_128/bottle_neck_232/batch_normalization_594/beta:0', 'dense_block_128/bottle_neck_232/conv2d_605/kernel:0', 'dense_block_128/bottle_neck_232/conv2d_605/bias:0', 'dense_block_128/bottle_neck_233/batch_normalization_595/gamma:0', 'dense_block_128/bottle_neck_233/batch_normalization_595/beta:0', 'dense_block_128/bottle_neck_233/conv2d_606/kernel:0', 'dense_block_128/bottle_neck_233/conv2d_606/bias:0', 'dense_block_128/bottle_neck_233/batch_normalization_596/gamma:0', 'dense_block_128/bottle_neck_233/batch_normalization_596/beta:0', 'dense_block_128/bottle_neck_233/conv2d_607/kernel:0', 'dense_block_128/bottle_neck_233/conv2d_607/bias:0', 'dense_block_128/bottle_neck_234/batch_normalization_597/gamma:0', 'dense_block_128/bottle_neck_234/batch_normalization_597/beta:0', 'dense_block_128/bottle_neck_234/conv2d_608/kernel:0', 'dense_block_128/bottle_neck_234/conv2d_608/bias:0', 'dense_block_128/bottle_neck_234/batch_normalization_598/gamma:0', 'dense_block_128/bottle_neck_234/batch_normalization_598/beta:0', 'dense_block_128/bottle_neck_234/conv2d_609/kernel:0', 'dense_block_128/bottle_neck_234/conv2d_609/bias:0', 'dense_block_128/bottle_neck_235/batch_normalization_599/gamma:0', 'dense_block_128/bottle_neck_235/batch_normalization_599/beta:0', 'dense_block_128/bottle_neck_235/conv2d_610/kernel:0', 'dense_block_128/bottle_neck_235/conv2d_610/bias:0', 'dense_block_128/bottle_neck_235/batch_normalization_600/gamma:0', 'dense_block_128/bottle_neck_235/batch_normalization_600/beta:0', 'dense_block_128/bottle_neck_235/conv2d_611/kernel:0', 'dense_block_128/bottle_neck_235/conv2d_611/bias:0', 'dense_block_128/bottle_neck_236/batch_normalization_601/gamma:0', 'dense_block_128/bottle_neck_236/batch_normalization_601/beta:0', 'dense_block_128/bottle_neck_236/conv2d_612/kernel:0', 'dense_block_128/bottle_neck_236/conv2d_612/bias:0', 'dense_block_128/bottle_neck_236/batch_normalization_602/gamma:0', 'dense_block_128/bottle_neck_236/batch_normalization_602/beta:0', 'dense_block_128/bottle_neck_236/conv2d_613/kernel:0', 'dense_block_128/bottle_neck_236/conv2d_613/bias:0', 'dense_block_128/bottle_neck_237/batch_normalization_603/gamma:0', 'dense_block_128/bottle_neck_237/batch_normalization_603/beta:0', 'dense_block_128/bottle_neck_237/conv2d_614/kernel:0', 'dense_block_128/bottle_neck_237/conv2d_614/bias:0', 'dense_block_128/bottle_neck_237/batch_normalization_604/gamma:0', 'dense_block_128/bottle_neck_237/batch_normalization_604/beta:0', 'dense_block_128/bottle_neck_237/conv2d_615/kernel:0', 'dense_block_128/bottle_neck_237/conv2d_615/bias:0', 'dense_block_129/bottle_neck_238/batch_normalization_606/gamma:0', 'dense_block_129/bottle_neck_238/batch_normalization_606/beta:0', 'dense_block_129/bottle_neck_238/conv2d_617/kernel:0', 'dense_block_129/bottle_neck_238/conv2d_617/bias:0', 'dense_block_129/bottle_neck_238/batch_normalization_607/gamma:0', 'dense_block_129/bottle_neck_238/batch_normalization_607/beta:0', 'dense_block_129/bottle_neck_238/conv2d_618/kernel:0', 'dense_block_129/bottle_neck_238/conv2d_618/bias:0', 'dense_block_129/bottle_neck_239/batch_normalization_608/gamma:0', 'dense_block_129/bottle_neck_239/batch_normalization_608/beta:0', 'dense_block_129/bottle_neck_239/conv2d_619/kernel:0', 'dense_block_129/bottle_neck_239/conv2d_619/bias:0', 'dense_block_129/bottle_neck_239/batch_normalization_609/gamma:0', 'dense_block_129/bottle_neck_239/batch_normalization_609/beta:0', 'dense_block_129/bottle_neck_239/conv2d_620/kernel:0', 'dense_block_129/bottle_neck_239/conv2d_620/bias:0', 'dense_block_129/bottle_neck_240/batch_normalization_610/gamma:0', 'dense_block_129/bottle_neck_240/batch_normalization_610/beta:0', 'dense_block_129/bottle_neck_240/conv2d_621/kernel:0', 'dense_block_129/bottle_neck_240/conv2d_621/bias:0', 'dense_block_129/bottle_neck_240/batch_normalization_611/gamma:0', 'dense_block_129/bottle_neck_240/batch_normalization_611/beta:0', 'dense_block_129/bottle_neck_240/conv2d_622/kernel:0', 'dense_block_129/bottle_neck_240/conv2d_622/bias:0', 'dense_block_129/bottle_neck_241/batch_normalization_612/gamma:0', 'dense_block_129/bottle_neck_241/batch_normalization_612/beta:0', 'dense_block_129/bottle_neck_241/conv2d_623/kernel:0', 'dense_block_129/bottle_neck_241/conv2d_623/bias:0', 'dense_block_129/bottle_neck_241/batch_normalization_613/gamma:0', 'dense_block_129/bottle_neck_241/batch_normalization_613/beta:0', 'dense_block_129/bottle_neck_241/conv2d_624/kernel:0', 'dense_block_129/bottle_neck_241/conv2d_624/bias:0', 'dense_block_129/bottle_neck_242/batch_normalization_614/gamma:0', 'dense_block_129/bottle_neck_242/batch_normalization_614/beta:0', 'dense_block_129/bottle_neck_242/conv2d_625/kernel:0', 'dense_block_129/bottle_neck_242/conv2d_625/bias:0', 'dense_block_129/bottle_neck_242/batch_normalization_615/gamma:0', 'dense_block_129/bottle_neck_242/batch_normalization_615/beta:0', 'dense_block_129/bottle_neck_242/conv2d_626/kernel:0', 'dense_block_129/bottle_neck_242/conv2d_626/bias:0', 'dense_block_129/bottle_neck_243/batch_normalization_616/gamma:0', 'dense_block_129/bottle_neck_243/batch_normalization_616/beta:0', 'dense_block_129/bottle_neck_243/conv2d_627/kernel:0', 'dense_block_129/bottle_neck_243/conv2d_627/bias:0', 'dense_block_129/bottle_neck_243/batch_normalization_617/gamma:0', 'dense_block_129/bottle_neck_243/batch_normalization_617/beta:0', 'dense_block_129/bottle_neck_243/conv2d_628/kernel:0', 'dense_block_129/bottle_neck_243/conv2d_628/bias:0', 'dense_block_129/bottle_neck_244/batch_normalization_618/gamma:0', 'dense_block_129/bottle_neck_244/batch_normalization_618/beta:0', 'dense_block_129/bottle_neck_244/conv2d_629/kernel:0', 'dense_block_129/bottle_neck_244/conv2d_629/bias:0', 'dense_block_129/bottle_neck_244/batch_normalization_619/gamma:0', 'dense_block_129/bottle_neck_244/batch_normalization_619/beta:0', 'dense_block_129/bottle_neck_244/conv2d_630/kernel:0', 'dense_block_129/bottle_neck_244/conv2d_630/bias:0', 'dense_block_129/bottle_neck_245/batch_normalization_620/gamma:0', 'dense_block_129/bottle_neck_245/batch_normalization_620/beta:0', 'dense_block_129/bottle_neck_245/conv2d_631/kernel:0', 'dense_block_129/bottle_neck_245/conv2d_631/bias:0', 'dense_block_129/bottle_neck_245/batch_normalization_621/gamma:0', 'dense_block_129/bottle_neck_245/batch_normalization_621/beta:0', 'dense_block_129/bottle_neck_245/conv2d_632/kernel:0', 'dense_block_129/bottle_neck_245/conv2d_632/bias:0', 'dense_block_129/bottle_neck_246/batch_normalization_622/gamma:0', 'dense_block_129/bottle_neck_246/batch_normalization_622/beta:0', 'dense_block_129/bottle_neck_246/conv2d_633/kernel:0', 'dense_block_129/bottle_neck_246/conv2d_633/bias:0', 'dense_block_129/bottle_neck_246/batch_normalization_623/gamma:0', 'dense_block_129/bottle_neck_246/batch_normalization_623/beta:0', 'dense_block_129/bottle_neck_246/conv2d_634/kernel:0', 'dense_block_129/bottle_neck_246/conv2d_634/bias:0', 'dense_block_129/bottle_neck_247/batch_normalization_624/gamma:0', 'dense_block_129/bottle_neck_247/batch_normalization_624/beta:0', 'dense_block_129/bottle_neck_247/conv2d_635/kernel:0', 'dense_block_129/bottle_neck_247/conv2d_635/bias:0', 'dense_block_129/bottle_neck_247/batch_normalization_625/gamma:0', 'dense_block_129/bottle_neck_247/batch_normalization_625/beta:0', 'dense_block_129/bottle_neck_247/conv2d_636/kernel:0', 'dense_block_129/bottle_neck_247/conv2d_636/bias:0', 'dense_block_129/bottle_neck_248/batch_normalization_626/gamma:0', 'dense_block_129/bottle_neck_248/batch_normalization_626/beta:0', 'dense_block_129/bottle_neck_248/conv2d_637/kernel:0', 'dense_block_129/bottle_neck_248/conv2d_637/bias:0', 'dense_block_129/bottle_neck_248/batch_normalization_627/gamma:0', 'dense_block_129/bottle_neck_248/batch_normalization_627/beta:0', 'dense_block_129/bottle_neck_248/conv2d_638/kernel:0', 'dense_block_129/bottle_neck_248/conv2d_638/bias:0', 'dense_block_129/bottle_neck_249/batch_normalization_628/gamma:0', 'dense_block_129/bottle_neck_249/batch_normalization_628/beta:0', 'dense_block_129/bottle_neck_249/conv2d_639/kernel:0', 'dense_block_129/bottle_neck_249/conv2d_639/bias:0', 'dense_block_129/bottle_neck_249/batch_normalization_629/gamma:0', 'dense_block_129/bottle_neck_249/batch_normalization_629/beta:0', 'dense_block_129/bottle_neck_249/conv2d_640/kernel:0', 'dense_block_129/bottle_neck_249/conv2d_640/bias:0', 'dense_block_130/bottle_neck_250/batch_normalization_631/gamma:0', 'dense_block_130/bottle_neck_250/batch_normalization_631/beta:0', 'dense_block_130/bottle_neck_250/conv2d_642/kernel:0', 'dense_block_130/bottle_neck_250/conv2d_642/bias:0', 'dense_block_130/bottle_neck_250/batch_normalization_632/gamma:0', 'dense_block_130/bottle_neck_250/batch_normalization_632/beta:0', 'dense_block_130/bottle_neck_250/conv2d_643/kernel:0', 'dense_block_130/bottle_neck_250/conv2d_643/bias:0', 'dense_block_130/bottle_neck_251/batch_normalization_633/gamma:0', 'dense_block_130/bottle_neck_251/batch_normalization_633/beta:0', 'dense_block_130/bottle_neck_251/conv2d_644/kernel:0', 'dense_block_130/bottle_neck_251/conv2d_644/bias:0', 'dense_block_130/bottle_neck_251/batch_normalization_634/gamma:0', 'dense_block_130/bottle_neck_251/batch_normalization_634/beta:0', 'dense_block_130/bottle_neck_251/conv2d_645/kernel:0', 'dense_block_130/bottle_neck_251/conv2d_645/bias:0', 'dense_block_130/bottle_neck_252/batch_normalization_635/gamma:0', 'dense_block_130/bottle_neck_252/batch_normalization_635/beta:0', 'dense_block_130/bottle_neck_252/conv2d_646/kernel:0', 'dense_block_130/bottle_neck_252/conv2d_646/bias:0', 'dense_block_130/bottle_neck_252/batch_normalization_636/gamma:0', 'dense_block_130/bottle_neck_252/batch_normalization_636/beta:0', 'dense_block_130/bottle_neck_252/conv2d_647/kernel:0', 'dense_block_130/bottle_neck_252/conv2d_647/bias:0', 'dense_block_130/bottle_neck_253/batch_normalization_637/gamma:0', 'dense_block_130/bottle_neck_253/batch_normalization_637/beta:0', 'dense_block_130/bottle_neck_253/conv2d_648/kernel:0', 'dense_block_130/bottle_neck_253/conv2d_648/bias:0', 'dense_block_130/bottle_neck_253/batch_normalization_638/gamma:0', 'dense_block_130/bottle_neck_253/batch_normalization_638/beta:0', 'dense_block_130/bottle_neck_253/conv2d_649/kernel:0', 'dense_block_130/bottle_neck_253/conv2d_649/bias:0', 'dense_block_130/bottle_neck_254/batch_normalization_639/gamma:0', 'dense_block_130/bottle_neck_254/batch_normalization_639/beta:0', 'dense_block_130/bottle_neck_254/conv2d_650/kernel:0', 'dense_block_130/bottle_neck_254/conv2d_650/bias:0', 'dense_block_130/bottle_neck_254/batch_normalization_640/gamma:0', 'dense_block_130/bottle_neck_254/batch_normalization_640/beta:0', 'dense_block_130/bottle_neck_254/conv2d_651/kernel:0', 'dense_block_130/bottle_neck_254/conv2d_651/bias:0', 'dense_block_130/bottle_neck_255/batch_normalization_641/gamma:0', 'dense_block_130/bottle_neck_255/batch_normalization_641/beta:0', 'dense_block_130/bottle_neck_255/conv2d_652/kernel:0', 'dense_block_130/bottle_neck_255/conv2d_652/bias:0', 'dense_block_130/bottle_neck_255/batch_normalization_642/gamma:0', 'dense_block_130/bottle_neck_255/batch_normalization_642/beta:0', 'dense_block_130/bottle_neck_255/conv2d_653/kernel:0', 'dense_block_130/bottle_neck_255/conv2d_653/bias:0', 'dense_block_130/bottle_neck_256/batch_normalization_643/gamma:0', 'dense_block_130/bottle_neck_256/batch_normalization_643/beta:0', 'dense_block_130/bottle_neck_256/conv2d_654/kernel:0', 'dense_block_130/bottle_neck_256/conv2d_654/bias:0', 'dense_block_130/bottle_neck_256/batch_normalization_644/gamma:0', 'dense_block_130/bottle_neck_256/batch_normalization_644/beta:0', 'dense_block_130/bottle_neck_256/conv2d_655/kernel:0', 'dense_block_130/bottle_neck_256/conv2d_655/bias:0', 'dense_block_130/bottle_neck_257/batch_normalization_645/gamma:0', 'dense_block_130/bottle_neck_257/batch_normalization_645/beta:0', 'dense_block_130/bottle_neck_257/conv2d_656/kernel:0', 'dense_block_130/bottle_neck_257/conv2d_656/bias:0', 'dense_block_130/bottle_neck_257/batch_normalization_646/gamma:0', 'dense_block_130/bottle_neck_257/batch_normalization_646/beta:0', 'dense_block_130/bottle_neck_257/conv2d_657/kernel:0', 'dense_block_130/bottle_neck_257/conv2d_657/bias:0', 'dense_block_130/bottle_neck_258/batch_normalization_647/gamma:0', 'dense_block_130/bottle_neck_258/batch_normalization_647/beta:0', 'dense_block_130/bottle_neck_258/conv2d_658/kernel:0', 'dense_block_130/bottle_neck_258/conv2d_658/bias:0', 'dense_block_130/bottle_neck_258/batch_normalization_648/gamma:0', 'dense_block_130/bottle_neck_258/batch_normalization_648/beta:0', 'dense_block_130/bottle_neck_258/conv2d_659/kernel:0', 'dense_block_130/bottle_neck_258/conv2d_659/bias:0', 'dense_block_130/bottle_neck_259/batch_normalization_649/gamma:0', 'dense_block_130/bottle_neck_259/batch_normalization_649/beta:0', 'dense_block_130/bottle_neck_259/conv2d_660/kernel:0', 'dense_block_130/bottle_neck_259/conv2d_660/bias:0', 'dense_block_130/bottle_neck_259/batch_normalization_650/gamma:0', 'dense_block_130/bottle_neck_259/batch_normalization_650/beta:0', 'dense_block_130/bottle_neck_259/conv2d_661/kernel:0', 'dense_block_130/bottle_neck_259/conv2d_661/bias:0', 'dense_block_130/bottle_neck_260/batch_normalization_651/gamma:0', 'dense_block_130/bottle_neck_260/batch_normalization_651/beta:0', 'dense_block_130/bottle_neck_260/conv2d_662/kernel:0', 'dense_block_130/bottle_neck_260/conv2d_662/bias:0', 'dense_block_130/bottle_neck_260/batch_normalization_652/gamma:0', 'dense_block_130/bottle_neck_260/batch_normalization_652/beta:0', 'dense_block_130/bottle_neck_260/conv2d_663/kernel:0', 'dense_block_130/bottle_neck_260/conv2d_663/bias:0', 'dense_block_130/bottle_neck_261/batch_normalization_653/gamma:0', 'dense_block_130/bottle_neck_261/batch_normalization_653/beta:0', 'dense_block_130/bottle_neck_261/conv2d_664/kernel:0', 'dense_block_130/bottle_neck_261/conv2d_664/bias:0', 'dense_block_130/bottle_neck_261/batch_normalization_654/gamma:0', 'dense_block_130/bottle_neck_261/batch_normalization_654/beta:0', 'dense_block_130/bottle_neck_261/conv2d_665/kernel:0', 'dense_block_130/bottle_neck_261/conv2d_665/bias:0', 'dense_block_130/bottle_neck_262/batch_normalization_655/gamma:0', 'dense_block_130/bottle_neck_262/batch_normalization_655/beta:0', 'dense_block_130/bottle_neck_262/conv2d_666/kernel:0', 'dense_block_130/bottle_neck_262/conv2d_666/bias:0', 'dense_block_130/bottle_neck_262/batch_normalization_656/gamma:0', 'dense_block_130/bottle_neck_262/batch_normalization_656/beta:0', 'dense_block_130/bottle_neck_262/conv2d_667/kernel:0', 'dense_block_130/bottle_neck_262/conv2d_667/bias:0', 'dense_block_130/bottle_neck_263/batch_normalization_657/gamma:0', 'dense_block_130/bottle_neck_263/batch_normalization_657/beta:0', 'dense_block_130/bottle_neck_263/conv2d_668/kernel:0', 'dense_block_130/bottle_neck_263/conv2d_668/bias:0', 'dense_block_130/bottle_neck_263/batch_normalization_658/gamma:0', 'dense_block_130/bottle_neck_263/batch_normalization_658/beta:0', 'dense_block_130/bottle_neck_263/conv2d_669/kernel:0', 'dense_block_130/bottle_neck_263/conv2d_669/bias:0', 'dense_block_130/bottle_neck_264/batch_normalization_659/gamma:0', 'dense_block_130/bottle_neck_264/batch_normalization_659/beta:0', 'dense_block_130/bottle_neck_264/conv2d_670/kernel:0', 'dense_block_130/bottle_neck_264/conv2d_670/bias:0', 'dense_block_130/bottle_neck_264/batch_normalization_660/gamma:0', 'dense_block_130/bottle_neck_264/batch_normalization_660/beta:0', 'dense_block_130/bottle_neck_264/conv2d_671/kernel:0', 'dense_block_130/bottle_neck_264/conv2d_671/bias:0', 'dense_block_130/bottle_neck_265/batch_normalization_661/gamma:0', 'dense_block_130/bottle_neck_265/batch_normalization_661/beta:0', 'dense_block_130/bottle_neck_265/conv2d_672/kernel:0', 'dense_block_130/bottle_neck_265/conv2d_672/bias:0', 'dense_block_130/bottle_neck_265/batch_normalization_662/gamma:0', 'dense_block_130/bottle_neck_265/batch_normalization_662/beta:0', 'dense_block_130/bottle_neck_265/conv2d_673/kernel:0', 'dense_block_130/bottle_neck_265/conv2d_673/bias:0', 'dense_block_130/bottle_neck_266/batch_normalization_663/gamma:0', 'dense_block_130/bottle_neck_266/batch_normalization_663/beta:0', 'dense_block_130/bottle_neck_266/conv2d_674/kernel:0', 'dense_block_130/bottle_neck_266/conv2d_674/bias:0', 'dense_block_130/bottle_neck_266/batch_normalization_664/gamma:0', 'dense_block_130/bottle_neck_266/batch_normalization_664/beta:0', 'dense_block_130/bottle_neck_266/conv2d_675/kernel:0', 'dense_block_130/bottle_neck_266/conv2d_675/bias:0', 'dense_block_130/bottle_neck_267/batch_normalization_665/gamma:0', 'dense_block_130/bottle_neck_267/batch_normalization_665/beta:0', 'dense_block_130/bottle_neck_267/conv2d_676/kernel:0', 'dense_block_130/bottle_neck_267/conv2d_676/bias:0', 'dense_block_130/bottle_neck_267/batch_normalization_666/gamma:0', 'dense_block_130/bottle_neck_267/batch_normalization_666/beta:0', 'dense_block_130/bottle_neck_267/conv2d_677/kernel:0', 'dense_block_130/bottle_neck_267/conv2d_677/bias:0', 'dense_block_130/bottle_neck_268/batch_normalization_667/gamma:0', 'dense_block_130/bottle_neck_268/batch_normalization_667/beta:0', 'dense_block_130/bottle_neck_268/conv2d_678/kernel:0', 'dense_block_130/bottle_neck_268/conv2d_678/bias:0', 'dense_block_130/bottle_neck_268/batch_normalization_668/gamma:0', 'dense_block_130/bottle_neck_268/batch_normalization_668/beta:0', 'dense_block_130/bottle_neck_268/conv2d_679/kernel:0', 'dense_block_130/bottle_neck_268/conv2d_679/bias:0', 'dense_block_130/bottle_neck_269/batch_normalization_669/gamma:0', 'dense_block_130/bottle_neck_269/batch_normalization_669/beta:0', 'dense_block_130/bottle_neck_269/conv2d_680/kernel:0', 'dense_block_130/bottle_neck_269/conv2d_680/bias:0', 'dense_block_130/bottle_neck_269/batch_normalization_670/gamma:0', 'dense_block_130/bottle_neck_269/batch_normalization_670/beta:0', 'dense_block_130/bottle_neck_269/conv2d_681/kernel:0', 'dense_block_130/bottle_neck_269/conv2d_681/bias:0', 'dense_block_130/bottle_neck_270/batch_normalization_671/gamma:0', 'dense_block_130/bottle_neck_270/batch_normalization_671/beta:0', 'dense_block_130/bottle_neck_270/conv2d_682/kernel:0', 'dense_block_130/bottle_neck_270/conv2d_682/bias:0', 'dense_block_130/bottle_neck_270/batch_normalization_672/gamma:0', 'dense_block_130/bottle_neck_270/batch_normalization_672/beta:0', 'dense_block_130/bottle_neck_270/conv2d_683/kernel:0', 'dense_block_130/bottle_neck_270/conv2d_683/bias:0', 'dense_block_130/bottle_neck_271/batch_normalization_673/gamma:0', 'dense_block_130/bottle_neck_271/batch_normalization_673/beta:0', 'dense_block_130/bottle_neck_271/conv2d_684/kernel:0', 'dense_block_130/bottle_neck_271/conv2d_684/bias:0', 'dense_block_130/bottle_neck_271/batch_normalization_674/gamma:0', 'dense_block_130/bottle_neck_271/batch_normalization_674/beta:0', 'dense_block_130/bottle_neck_271/conv2d_685/kernel:0', 'dense_block_130/bottle_neck_271/conv2d_685/bias:0', 'dense_block_130/bottle_neck_272/batch_normalization_675/gamma:0', 'dense_block_130/bottle_neck_272/batch_normalization_675/beta:0', 'dense_block_130/bottle_neck_272/conv2d_686/kernel:0', 'dense_block_130/bottle_neck_272/conv2d_686/bias:0', 'dense_block_130/bottle_neck_272/batch_normalization_676/gamma:0', 'dense_block_130/bottle_neck_272/batch_normalization_676/beta:0', 'dense_block_130/bottle_neck_272/conv2d_687/kernel:0', 'dense_block_130/bottle_neck_272/conv2d_687/bias:0', 'dense_block_130/bottle_neck_273/batch_normalization_677/gamma:0', 'dense_block_130/bottle_neck_273/batch_normalization_677/beta:0', 'dense_block_130/bottle_neck_273/conv2d_688/kernel:0', 'dense_block_130/bottle_neck_273/conv2d_688/bias:0', 'dense_block_130/bottle_neck_273/batch_normalization_678/gamma:0', 'dense_block_130/bottle_neck_273/batch_normalization_678/beta:0', 'dense_block_130/bottle_neck_273/conv2d_689/kernel:0', 'dense_block_130/bottle_neck_273/conv2d_689/bias:0', 'dense_block_131/bottle_neck_274/batch_normalization_680/gamma:0', 'dense_block_131/bottle_neck_274/batch_normalization_680/beta:0', 'dense_block_131/bottle_neck_274/conv2d_691/kernel:0', 'dense_block_131/bottle_neck_274/conv2d_691/bias:0', 'dense_block_131/bottle_neck_274/batch_normalization_681/gamma:0', 'dense_block_131/bottle_neck_274/batch_normalization_681/beta:0', 'dense_block_131/bottle_neck_274/conv2d_692/kernel:0', 'dense_block_131/bottle_neck_274/conv2d_692/bias:0', 'dense_block_131/bottle_neck_275/batch_normalization_682/gamma:0', 'dense_block_131/bottle_neck_275/batch_normalization_682/beta:0', 'dense_block_131/bottle_neck_275/conv2d_693/kernel:0', 'dense_block_131/bottle_neck_275/conv2d_693/bias:0', 'dense_block_131/bottle_neck_275/batch_normalization_683/gamma:0', 'dense_block_131/bottle_neck_275/batch_normalization_683/beta:0', 'dense_block_131/bottle_neck_275/conv2d_694/kernel:0', 'dense_block_131/bottle_neck_275/conv2d_694/bias:0', 'dense_block_131/bottle_neck_276/batch_normalization_684/gamma:0', 'dense_block_131/bottle_neck_276/batch_normalization_684/beta:0', 'dense_block_131/bottle_neck_276/conv2d_695/kernel:0', 'dense_block_131/bottle_neck_276/conv2d_695/bias:0', 'dense_block_131/bottle_neck_276/batch_normalization_685/gamma:0', 'dense_block_131/bottle_neck_276/batch_normalization_685/beta:0', 'dense_block_131/bottle_neck_276/conv2d_696/kernel:0', 'dense_block_131/bottle_neck_276/conv2d_696/bias:0', 'dense_block_131/bottle_neck_277/batch_normalization_686/gamma:0', 'dense_block_131/bottle_neck_277/batch_normalization_686/beta:0', 'dense_block_131/bottle_neck_277/conv2d_697/kernel:0', 'dense_block_131/bottle_neck_277/conv2d_697/bias:0', 'dense_block_131/bottle_neck_277/batch_normalization_687/gamma:0', 'dense_block_131/bottle_neck_277/batch_normalization_687/beta:0', 'dense_block_131/bottle_neck_277/conv2d_698/kernel:0', 'dense_block_131/bottle_neck_277/conv2d_698/bias:0', 'dense_block_131/bottle_neck_278/batch_normalization_688/gamma:0', 'dense_block_131/bottle_neck_278/batch_normalization_688/beta:0', 'dense_block_131/bottle_neck_278/conv2d_699/kernel:0', 'dense_block_131/bottle_neck_278/conv2d_699/bias:0', 'dense_block_131/bottle_neck_278/batch_normalization_689/gamma:0', 'dense_block_131/bottle_neck_278/batch_normalization_689/beta:0', 'dense_block_131/bottle_neck_278/conv2d_700/kernel:0', 'dense_block_131/bottle_neck_278/conv2d_700/bias:0', 'dense_block_131/bottle_neck_279/batch_normalization_690/gamma:0', 'dense_block_131/bottle_neck_279/batch_normalization_690/beta:0', 'dense_block_131/bottle_neck_279/conv2d_701/kernel:0', 'dense_block_131/bottle_neck_279/conv2d_701/bias:0', 'dense_block_131/bottle_neck_279/batch_normalization_691/gamma:0', 'dense_block_131/bottle_neck_279/batch_normalization_691/beta:0', 'dense_block_131/bottle_neck_279/conv2d_702/kernel:0', 'dense_block_131/bottle_neck_279/conv2d_702/bias:0', 'dense_block_131/bottle_neck_280/batch_normalization_692/gamma:0', 'dense_block_131/bottle_neck_280/batch_normalization_692/beta:0', 'dense_block_131/bottle_neck_280/conv2d_703/kernel:0', 'dense_block_131/bottle_neck_280/conv2d_703/bias:0', 'dense_block_131/bottle_neck_280/batch_normalization_693/gamma:0', 'dense_block_131/bottle_neck_280/batch_normalization_693/beta:0', 'dense_block_131/bottle_neck_280/conv2d_704/kernel:0', 'dense_block_131/bottle_neck_280/conv2d_704/bias:0', 'dense_block_131/bottle_neck_281/batch_normalization_694/gamma:0', 'dense_block_131/bottle_neck_281/batch_normalization_694/beta:0', 'dense_block_131/bottle_neck_281/conv2d_705/kernel:0', 'dense_block_131/bottle_neck_281/conv2d_705/bias:0', 'dense_block_131/bottle_neck_281/batch_normalization_695/gamma:0', 'dense_block_131/bottle_neck_281/batch_normalization_695/beta:0', 'dense_block_131/bottle_neck_281/conv2d_706/kernel:0', 'dense_block_131/bottle_neck_281/conv2d_706/bias:0', 'dense_block_131/bottle_neck_282/batch_normalization_696/gamma:0', 'dense_block_131/bottle_neck_282/batch_normalization_696/beta:0', 'dense_block_131/bottle_neck_282/conv2d_707/kernel:0', 'dense_block_131/bottle_neck_282/conv2d_707/bias:0', 'dense_block_131/bottle_neck_282/batch_normalization_697/gamma:0', 'dense_block_131/bottle_neck_282/batch_normalization_697/beta:0', 'dense_block_131/bottle_neck_282/conv2d_708/kernel:0', 'dense_block_131/bottle_neck_282/conv2d_708/bias:0', 'dense_block_131/bottle_neck_283/batch_normalization_698/gamma:0', 'dense_block_131/bottle_neck_283/batch_normalization_698/beta:0', 'dense_block_131/bottle_neck_283/conv2d_709/kernel:0', 'dense_block_131/bottle_neck_283/conv2d_709/bias:0', 'dense_block_131/bottle_neck_283/batch_normalization_699/gamma:0', 'dense_block_131/bottle_neck_283/batch_normalization_699/beta:0', 'dense_block_131/bottle_neck_283/conv2d_710/kernel:0', 'dense_block_131/bottle_neck_283/conv2d_710/bias:0', 'dense_block_131/bottle_neck_284/batch_normalization_700/gamma:0', 'dense_block_131/bottle_neck_284/batch_normalization_700/beta:0', 'dense_block_131/bottle_neck_284/conv2d_711/kernel:0', 'dense_block_131/bottle_neck_284/conv2d_711/bias:0', 'dense_block_131/bottle_neck_284/batch_normalization_701/gamma:0', 'dense_block_131/bottle_neck_284/batch_normalization_701/beta:0', 'dense_block_131/bottle_neck_284/conv2d_712/kernel:0', 'dense_block_131/bottle_neck_284/conv2d_712/bias:0', 'dense_block_131/bottle_neck_285/batch_normalization_702/gamma:0', 'dense_block_131/bottle_neck_285/batch_normalization_702/beta:0', 'dense_block_131/bottle_neck_285/conv2d_713/kernel:0', 'dense_block_131/bottle_neck_285/conv2d_713/bias:0', 'dense_block_131/bottle_neck_285/batch_normalization_703/gamma:0', 'dense_block_131/bottle_neck_285/batch_normalization_703/beta:0', 'dense_block_131/bottle_neck_285/conv2d_714/kernel:0', 'dense_block_131/bottle_neck_285/conv2d_714/bias:0', 'dense_block_131/bottle_neck_286/batch_normalization_704/gamma:0', 'dense_block_131/bottle_neck_286/batch_normalization_704/beta:0', 'dense_block_131/bottle_neck_286/conv2d_715/kernel:0', 'dense_block_131/bottle_neck_286/conv2d_715/bias:0', 'dense_block_131/bottle_neck_286/batch_normalization_705/gamma:0', 'dense_block_131/bottle_neck_286/batch_normalization_705/beta:0', 'dense_block_131/bottle_neck_286/conv2d_716/kernel:0', 'dense_block_131/bottle_neck_286/conv2d_716/bias:0', 'dense_block_131/bottle_neck_287/batch_normalization_706/gamma:0', 'dense_block_131/bottle_neck_287/batch_normalization_706/beta:0', 'dense_block_131/bottle_neck_287/conv2d_717/kernel:0', 'dense_block_131/bottle_neck_287/conv2d_717/bias:0', 'dense_block_131/bottle_neck_287/batch_normalization_707/gamma:0', 'dense_block_131/bottle_neck_287/batch_normalization_707/beta:0', 'dense_block_131/bottle_neck_287/conv2d_718/kernel:0', 'dense_block_131/bottle_neck_287/conv2d_718/bias:0', 'dense_block_131/bottle_neck_288/batch_normalization_708/gamma:0', 'dense_block_131/bottle_neck_288/batch_normalization_708/beta:0', 'dense_block_131/bottle_neck_288/conv2d_719/kernel:0', 'dense_block_131/bottle_neck_288/conv2d_719/bias:0', 'dense_block_131/bottle_neck_288/batch_normalization_709/gamma:0', 'dense_block_131/bottle_neck_288/batch_normalization_709/beta:0', 'dense_block_131/bottle_neck_288/conv2d_720/kernel:0', 'dense_block_131/bottle_neck_288/conv2d_720/bias:0', 'dense_block_131/bottle_neck_289/batch_normalization_710/gamma:0', 'dense_block_131/bottle_neck_289/batch_normalization_710/beta:0', 'dense_block_131/bottle_neck_289/conv2d_721/kernel:0', 'dense_block_131/bottle_neck_289/conv2d_721/bias:0', 'dense_block_131/bottle_neck_289/batch_normalization_711/gamma:0', 'dense_block_131/bottle_neck_289/batch_normalization_711/beta:0', 'dense_block_131/bottle_neck_289/conv2d_722/kernel:0', 'dense_block_131/bottle_neck_289/conv2d_722/bias:0'] when minimizing the loss.\n"
     ]
    },
    {
     "ename": "ValueError",
     "evalue": "in user code:\n\n    d:\\anaconda3\\envs\\python38\\lib\\site-packages\\tensorflow\\python\\keras\\engine\\training.py:571 train_function  *\n        outputs = self.distribute_strategy.run(\n    d:\\anaconda3\\envs\\python38\\lib\\site-packages\\tensorflow\\python\\distribute\\distribute_lib.py:951 run  **\n        return self._extended.call_for_each_replica(fn, args=args, kwargs=kwargs)\n    d:\\anaconda3\\envs\\python38\\lib\\site-packages\\tensorflow\\python\\distribute\\distribute_lib.py:2290 call_for_each_replica\n        return self._call_for_each_replica(fn, args, kwargs)\n    d:\\anaconda3\\envs\\python38\\lib\\site-packages\\tensorflow\\python\\distribute\\distribute_lib.py:2649 _call_for_each_replica\n        return fn(*args, **kwargs)\n    d:\\anaconda3\\envs\\python38\\lib\\site-packages\\tensorflow\\python\\keras\\engine\\training.py:543 train_step  **\n        self.compiled_metrics.update_state(y, y_pred, sample_weight)\n    d:\\anaconda3\\envs\\python38\\lib\\site-packages\\tensorflow\\python\\keras\\engine\\compile_utils.py:391 update_state\n        self._build(y_pred, y_true)\n    d:\\anaconda3\\envs\\python38\\lib\\site-packages\\tensorflow\\python\\keras\\engine\\compile_utils.py:321 _build\n        self._metrics = nest.map_structure_up_to(y_pred, self._get_metric_objects,\n    d:\\anaconda3\\envs\\python38\\lib\\site-packages\\tensorflow\\python\\util\\nest.py:1114 map_structure_up_to\n        return map_structure_with_tuple_paths_up_to(\n    d:\\anaconda3\\envs\\python38\\lib\\site-packages\\tensorflow\\python\\util\\nest.py:1213 map_structure_with_tuple_paths_up_to\n        results = [func(*args, **kwargs) for args in zip(flat_path_list,\n    d:\\anaconda3\\envs\\python38\\lib\\site-packages\\tensorflow\\python\\util\\nest.py:1213 <listcomp>\n        results = [func(*args, **kwargs) for args in zip(flat_path_list,\n    d:\\anaconda3\\envs\\python38\\lib\\site-packages\\tensorflow\\python\\util\\nest.py:1116 <lambda>\n        lambda _, *values: func(*values),  # Discards the path arg.\n    d:\\anaconda3\\envs\\python38\\lib\\site-packages\\tensorflow\\python\\keras\\engine\\compile_utils.py:421 _get_metric_objects\n        return [self._get_metric_object(m, y_t, y_p) for m in metrics]\n    d:\\anaconda3\\envs\\python38\\lib\\site-packages\\tensorflow\\python\\keras\\engine\\compile_utils.py:421 <listcomp>\n        return [self._get_metric_object(m, y_t, y_p) for m in metrics]\n    d:\\anaconda3\\envs\\python38\\lib\\site-packages\\tensorflow\\python\\keras\\engine\\compile_utils.py:440 _get_metric_object\n        metric_obj = metrics_mod.get(metric)\n    d:\\anaconda3\\envs\\python38\\lib\\site-packages\\tensorflow\\python\\keras\\metrics.py:3358 get\n        return deserialize(str(identifier))\n    d:\\anaconda3\\envs\\python38\\lib\\site-packages\\tensorflow\\python\\keras\\metrics.py:3345 deserialize\n        return deserialize_keras_object(\n    d:\\anaconda3\\envs\\python38\\lib\\site-packages\\tensorflow\\python\\keras\\utils\\generic_utils.py:392 deserialize_keras_object\n        raise ValueError('Unknown ' + printable_module_name + ':' + object_name)\n\n    ValueError: Unknown metric function:precision\n",
     "output_type": "error",
     "traceback": [
      "\u001b[1;31m---------------------------------------------------------------------------\u001b[0m",
      "\u001b[1;31mValueError\u001b[0m                                Traceback (most recent call last)",
      "\u001b[1;32m<ipython-input-131-0ec577baeb3f>\u001b[0m in \u001b[0;36m<module>\u001b[1;34m\u001b[0m\n\u001b[0;32m      2\u001b[0m                   \u001b[0moptimizer\u001b[0m \u001b[1;33m=\u001b[0m \u001b[1;34m\"adam\"\u001b[0m\u001b[1;33m,\u001b[0m \u001b[1;31m#优化函数，不直接使用梯度下降\u001b[0m\u001b[1;33m\u001b[0m\u001b[1;33m\u001b[0m\u001b[0m\n\u001b[0;32m      3\u001b[0m                   metrics = [\"accuracy\", \"precision\"]) \n\u001b[1;32m----> 4\u001b[1;33m history=model_121.fit(  #使用model.fit()方法来执行训练过程，\n\u001b[0m\u001b[0;32m      5\u001b[0m                       \u001b[0mx_train\u001b[0m\u001b[1;33m[\u001b[0m\u001b[1;33m:\u001b[0m\u001b[1;36m500\u001b[0m\u001b[1;33m]\u001b[0m\u001b[1;33m,\u001b[0m \u001b[0my_train\u001b[0m\u001b[1;33m[\u001b[0m\u001b[1;33m:\u001b[0m\u001b[1;36m500\u001b[0m\u001b[1;33m]\u001b[0m\u001b[1;33m,\u001b[0m \u001b[1;31m#告知训练集的输入以及标签，\u001b[0m\u001b[1;33m\u001b[0m\u001b[1;33m\u001b[0m\u001b[0m\n\u001b[0;32m      6\u001b[0m                       \u001b[0mbatch_size\u001b[0m \u001b[1;33m=\u001b[0m \u001b[1;36m1\u001b[0m\u001b[1;33m,\u001b[0m \u001b[1;31m#每一批batch的大小为32，\u001b[0m\u001b[1;33m\u001b[0m\u001b[1;33m\u001b[0m\u001b[0m\n",
      "\u001b[1;32md:\\anaconda3\\envs\\python38\\lib\\site-packages\\tensorflow\\python\\keras\\engine\\training.py\u001b[0m in \u001b[0;36m_method_wrapper\u001b[1;34m(self, *args, **kwargs)\u001b[0m\n\u001b[0;32m     64\u001b[0m   \u001b[1;32mdef\u001b[0m \u001b[0m_method_wrapper\u001b[0m\u001b[1;33m(\u001b[0m\u001b[0mself\u001b[0m\u001b[1;33m,\u001b[0m \u001b[1;33m*\u001b[0m\u001b[0margs\u001b[0m\u001b[1;33m,\u001b[0m \u001b[1;33m**\u001b[0m\u001b[0mkwargs\u001b[0m\u001b[1;33m)\u001b[0m\u001b[1;33m:\u001b[0m\u001b[1;33m\u001b[0m\u001b[1;33m\u001b[0m\u001b[0m\n\u001b[0;32m     65\u001b[0m     \u001b[1;32mif\u001b[0m \u001b[1;32mnot\u001b[0m \u001b[0mself\u001b[0m\u001b[1;33m.\u001b[0m\u001b[0m_in_multi_worker_mode\u001b[0m\u001b[1;33m(\u001b[0m\u001b[1;33m)\u001b[0m\u001b[1;33m:\u001b[0m  \u001b[1;31m# pylint: disable=protected-access\u001b[0m\u001b[1;33m\u001b[0m\u001b[1;33m\u001b[0m\u001b[0m\n\u001b[1;32m---> 66\u001b[1;33m       \u001b[1;32mreturn\u001b[0m \u001b[0mmethod\u001b[0m\u001b[1;33m(\u001b[0m\u001b[0mself\u001b[0m\u001b[1;33m,\u001b[0m \u001b[1;33m*\u001b[0m\u001b[0margs\u001b[0m\u001b[1;33m,\u001b[0m \u001b[1;33m**\u001b[0m\u001b[0mkwargs\u001b[0m\u001b[1;33m)\u001b[0m\u001b[1;33m\u001b[0m\u001b[1;33m\u001b[0m\u001b[0m\n\u001b[0m\u001b[0;32m     67\u001b[0m \u001b[1;33m\u001b[0m\u001b[0m\n\u001b[0;32m     68\u001b[0m     \u001b[1;31m# Running inside `run_distribute_coordinator` already.\u001b[0m\u001b[1;33m\u001b[0m\u001b[1;33m\u001b[0m\u001b[1;33m\u001b[0m\u001b[0m\n",
      "\u001b[1;32md:\\anaconda3\\envs\\python38\\lib\\site-packages\\tensorflow\\python\\keras\\engine\\training.py\u001b[0m in \u001b[0;36mfit\u001b[1;34m(self, x, y, batch_size, epochs, verbose, callbacks, validation_split, validation_data, shuffle, class_weight, sample_weight, initial_epoch, steps_per_epoch, validation_steps, validation_batch_size, validation_freq, max_queue_size, workers, use_multiprocessing)\u001b[0m\n\u001b[0;32m    846\u001b[0m                 batch_size=batch_size):\n\u001b[0;32m    847\u001b[0m               \u001b[0mcallbacks\u001b[0m\u001b[1;33m.\u001b[0m\u001b[0mon_train_batch_begin\u001b[0m\u001b[1;33m(\u001b[0m\u001b[0mstep\u001b[0m\u001b[1;33m)\u001b[0m\u001b[1;33m\u001b[0m\u001b[1;33m\u001b[0m\u001b[0m\n\u001b[1;32m--> 848\u001b[1;33m               \u001b[0mtmp_logs\u001b[0m \u001b[1;33m=\u001b[0m \u001b[0mtrain_function\u001b[0m\u001b[1;33m(\u001b[0m\u001b[0miterator\u001b[0m\u001b[1;33m)\u001b[0m\u001b[1;33m\u001b[0m\u001b[1;33m\u001b[0m\u001b[0m\n\u001b[0m\u001b[0;32m    849\u001b[0m               \u001b[1;31m# Catch OutOfRangeError for Datasets of unknown size.\u001b[0m\u001b[1;33m\u001b[0m\u001b[1;33m\u001b[0m\u001b[1;33m\u001b[0m\u001b[0m\n\u001b[0;32m    850\u001b[0m               \u001b[1;31m# This blocks until the batch has finished executing.\u001b[0m\u001b[1;33m\u001b[0m\u001b[1;33m\u001b[0m\u001b[1;33m\u001b[0m\u001b[0m\n",
      "\u001b[1;32md:\\anaconda3\\envs\\python38\\lib\\site-packages\\tensorflow\\python\\eager\\def_function.py\u001b[0m in \u001b[0;36m__call__\u001b[1;34m(self, *args, **kwds)\u001b[0m\n\u001b[0;32m    578\u001b[0m         \u001b[0mxla_context\u001b[0m\u001b[1;33m.\u001b[0m\u001b[0mExit\u001b[0m\u001b[1;33m(\u001b[0m\u001b[1;33m)\u001b[0m\u001b[1;33m\u001b[0m\u001b[1;33m\u001b[0m\u001b[0m\n\u001b[0;32m    579\u001b[0m     \u001b[1;32melse\u001b[0m\u001b[1;33m:\u001b[0m\u001b[1;33m\u001b[0m\u001b[1;33m\u001b[0m\u001b[0m\n\u001b[1;32m--> 580\u001b[1;33m       \u001b[0mresult\u001b[0m \u001b[1;33m=\u001b[0m \u001b[0mself\u001b[0m\u001b[1;33m.\u001b[0m\u001b[0m_call\u001b[0m\u001b[1;33m(\u001b[0m\u001b[1;33m*\u001b[0m\u001b[0margs\u001b[0m\u001b[1;33m,\u001b[0m \u001b[1;33m**\u001b[0m\u001b[0mkwds\u001b[0m\u001b[1;33m)\u001b[0m\u001b[1;33m\u001b[0m\u001b[1;33m\u001b[0m\u001b[0m\n\u001b[0m\u001b[0;32m    581\u001b[0m \u001b[1;33m\u001b[0m\u001b[0m\n\u001b[0;32m    582\u001b[0m     \u001b[1;32mif\u001b[0m \u001b[0mtracing_count\u001b[0m \u001b[1;33m==\u001b[0m \u001b[0mself\u001b[0m\u001b[1;33m.\u001b[0m\u001b[0m_get_tracing_count\u001b[0m\u001b[1;33m(\u001b[0m\u001b[1;33m)\u001b[0m\u001b[1;33m:\u001b[0m\u001b[1;33m\u001b[0m\u001b[1;33m\u001b[0m\u001b[0m\n",
      "\u001b[1;32md:\\anaconda3\\envs\\python38\\lib\\site-packages\\tensorflow\\python\\eager\\def_function.py\u001b[0m in \u001b[0;36m_call\u001b[1;34m(self, *args, **kwds)\u001b[0m\n\u001b[0;32m    625\u001b[0m       \u001b[1;31m# This is the first call of __call__, so we have to initialize.\u001b[0m\u001b[1;33m\u001b[0m\u001b[1;33m\u001b[0m\u001b[1;33m\u001b[0m\u001b[0m\n\u001b[0;32m    626\u001b[0m       \u001b[0minitializers\u001b[0m \u001b[1;33m=\u001b[0m \u001b[1;33m[\u001b[0m\u001b[1;33m]\u001b[0m\u001b[1;33m\u001b[0m\u001b[1;33m\u001b[0m\u001b[0m\n\u001b[1;32m--> 627\u001b[1;33m       \u001b[0mself\u001b[0m\u001b[1;33m.\u001b[0m\u001b[0m_initialize\u001b[0m\u001b[1;33m(\u001b[0m\u001b[0margs\u001b[0m\u001b[1;33m,\u001b[0m \u001b[0mkwds\u001b[0m\u001b[1;33m,\u001b[0m \u001b[0madd_initializers_to\u001b[0m\u001b[1;33m=\u001b[0m\u001b[0minitializers\u001b[0m\u001b[1;33m)\u001b[0m\u001b[1;33m\u001b[0m\u001b[1;33m\u001b[0m\u001b[0m\n\u001b[0m\u001b[0;32m    628\u001b[0m     \u001b[1;32mfinally\u001b[0m\u001b[1;33m:\u001b[0m\u001b[1;33m\u001b[0m\u001b[1;33m\u001b[0m\u001b[0m\n\u001b[0;32m    629\u001b[0m       \u001b[1;31m# At this point we know that the initialization is complete (or less\u001b[0m\u001b[1;33m\u001b[0m\u001b[1;33m\u001b[0m\u001b[1;33m\u001b[0m\u001b[0m\n",
      "\u001b[1;32md:\\anaconda3\\envs\\python38\\lib\\site-packages\\tensorflow\\python\\eager\\def_function.py\u001b[0m in \u001b[0;36m_initialize\u001b[1;34m(self, args, kwds, add_initializers_to)\u001b[0m\n\u001b[0;32m    503\u001b[0m     \u001b[0mself\u001b[0m\u001b[1;33m.\u001b[0m\u001b[0m_graph_deleter\u001b[0m \u001b[1;33m=\u001b[0m \u001b[0mFunctionDeleter\u001b[0m\u001b[1;33m(\u001b[0m\u001b[0mself\u001b[0m\u001b[1;33m.\u001b[0m\u001b[0m_lifted_initializer_graph\u001b[0m\u001b[1;33m)\u001b[0m\u001b[1;33m\u001b[0m\u001b[1;33m\u001b[0m\u001b[0m\n\u001b[0;32m    504\u001b[0m     self._concrete_stateful_fn = (\n\u001b[1;32m--> 505\u001b[1;33m         self._stateful_fn._get_concrete_function_internal_garbage_collected(  # pylint: disable=protected-access\n\u001b[0m\u001b[0;32m    506\u001b[0m             *args, **kwds))\n\u001b[0;32m    507\u001b[0m \u001b[1;33m\u001b[0m\u001b[0m\n",
      "\u001b[1;32md:\\anaconda3\\envs\\python38\\lib\\site-packages\\tensorflow\\python\\eager\\function.py\u001b[0m in \u001b[0;36m_get_concrete_function_internal_garbage_collected\u001b[1;34m(self, *args, **kwargs)\u001b[0m\n\u001b[0;32m   2444\u001b[0m       \u001b[0margs\u001b[0m\u001b[1;33m,\u001b[0m \u001b[0mkwargs\u001b[0m \u001b[1;33m=\u001b[0m \u001b[1;32mNone\u001b[0m\u001b[1;33m,\u001b[0m \u001b[1;32mNone\u001b[0m\u001b[1;33m\u001b[0m\u001b[1;33m\u001b[0m\u001b[0m\n\u001b[0;32m   2445\u001b[0m     \u001b[1;32mwith\u001b[0m \u001b[0mself\u001b[0m\u001b[1;33m.\u001b[0m\u001b[0m_lock\u001b[0m\u001b[1;33m:\u001b[0m\u001b[1;33m\u001b[0m\u001b[1;33m\u001b[0m\u001b[0m\n\u001b[1;32m-> 2446\u001b[1;33m       \u001b[0mgraph_function\u001b[0m\u001b[1;33m,\u001b[0m \u001b[0m_\u001b[0m\u001b[1;33m,\u001b[0m \u001b[0m_\u001b[0m \u001b[1;33m=\u001b[0m \u001b[0mself\u001b[0m\u001b[1;33m.\u001b[0m\u001b[0m_maybe_define_function\u001b[0m\u001b[1;33m(\u001b[0m\u001b[0margs\u001b[0m\u001b[1;33m,\u001b[0m \u001b[0mkwargs\u001b[0m\u001b[1;33m)\u001b[0m\u001b[1;33m\u001b[0m\u001b[1;33m\u001b[0m\u001b[0m\n\u001b[0m\u001b[0;32m   2447\u001b[0m     \u001b[1;32mreturn\u001b[0m \u001b[0mgraph_function\u001b[0m\u001b[1;33m\u001b[0m\u001b[1;33m\u001b[0m\u001b[0m\n\u001b[0;32m   2448\u001b[0m \u001b[1;33m\u001b[0m\u001b[0m\n",
      "\u001b[1;32md:\\anaconda3\\envs\\python38\\lib\\site-packages\\tensorflow\\python\\eager\\function.py\u001b[0m in \u001b[0;36m_maybe_define_function\u001b[1;34m(self, args, kwargs)\u001b[0m\n\u001b[0;32m   2775\u001b[0m \u001b[1;33m\u001b[0m\u001b[0m\n\u001b[0;32m   2776\u001b[0m       \u001b[0mself\u001b[0m\u001b[1;33m.\u001b[0m\u001b[0m_function_cache\u001b[0m\u001b[1;33m.\u001b[0m\u001b[0mmissed\u001b[0m\u001b[1;33m.\u001b[0m\u001b[0madd\u001b[0m\u001b[1;33m(\u001b[0m\u001b[0mcall_context_key\u001b[0m\u001b[1;33m)\u001b[0m\u001b[1;33m\u001b[0m\u001b[1;33m\u001b[0m\u001b[0m\n\u001b[1;32m-> 2777\u001b[1;33m       \u001b[0mgraph_function\u001b[0m \u001b[1;33m=\u001b[0m \u001b[0mself\u001b[0m\u001b[1;33m.\u001b[0m\u001b[0m_create_graph_function\u001b[0m\u001b[1;33m(\u001b[0m\u001b[0margs\u001b[0m\u001b[1;33m,\u001b[0m \u001b[0mkwargs\u001b[0m\u001b[1;33m)\u001b[0m\u001b[1;33m\u001b[0m\u001b[1;33m\u001b[0m\u001b[0m\n\u001b[0m\u001b[0;32m   2778\u001b[0m       \u001b[0mself\u001b[0m\u001b[1;33m.\u001b[0m\u001b[0m_function_cache\u001b[0m\u001b[1;33m.\u001b[0m\u001b[0mprimary\u001b[0m\u001b[1;33m[\u001b[0m\u001b[0mcache_key\u001b[0m\u001b[1;33m]\u001b[0m \u001b[1;33m=\u001b[0m \u001b[0mgraph_function\u001b[0m\u001b[1;33m\u001b[0m\u001b[1;33m\u001b[0m\u001b[0m\n\u001b[0;32m   2779\u001b[0m       \u001b[1;32mreturn\u001b[0m \u001b[0mgraph_function\u001b[0m\u001b[1;33m,\u001b[0m \u001b[0margs\u001b[0m\u001b[1;33m,\u001b[0m \u001b[0mkwargs\u001b[0m\u001b[1;33m\u001b[0m\u001b[1;33m\u001b[0m\u001b[0m\n",
      "\u001b[1;32md:\\anaconda3\\envs\\python38\\lib\\site-packages\\tensorflow\\python\\eager\\function.py\u001b[0m in \u001b[0;36m_create_graph_function\u001b[1;34m(self, args, kwargs, override_flat_arg_shapes)\u001b[0m\n\u001b[0;32m   2655\u001b[0m     \u001b[0marg_names\u001b[0m \u001b[1;33m=\u001b[0m \u001b[0mbase_arg_names\u001b[0m \u001b[1;33m+\u001b[0m \u001b[0mmissing_arg_names\u001b[0m\u001b[1;33m\u001b[0m\u001b[1;33m\u001b[0m\u001b[0m\n\u001b[0;32m   2656\u001b[0m     graph_function = ConcreteFunction(\n\u001b[1;32m-> 2657\u001b[1;33m         func_graph_module.func_graph_from_py_func(\n\u001b[0m\u001b[0;32m   2658\u001b[0m             \u001b[0mself\u001b[0m\u001b[1;33m.\u001b[0m\u001b[0m_name\u001b[0m\u001b[1;33m,\u001b[0m\u001b[1;33m\u001b[0m\u001b[1;33m\u001b[0m\u001b[0m\n\u001b[0;32m   2659\u001b[0m             \u001b[0mself\u001b[0m\u001b[1;33m.\u001b[0m\u001b[0m_python_function\u001b[0m\u001b[1;33m,\u001b[0m\u001b[1;33m\u001b[0m\u001b[1;33m\u001b[0m\u001b[0m\n",
      "\u001b[1;32md:\\anaconda3\\envs\\python38\\lib\\site-packages\\tensorflow\\python\\framework\\func_graph.py\u001b[0m in \u001b[0;36mfunc_graph_from_py_func\u001b[1;34m(name, python_func, args, kwargs, signature, func_graph, autograph, autograph_options, add_control_dependencies, arg_names, op_return_value, collections, capture_by_value, override_flat_arg_shapes)\u001b[0m\n\u001b[0;32m    979\u001b[0m         \u001b[0m_\u001b[0m\u001b[1;33m,\u001b[0m \u001b[0moriginal_func\u001b[0m \u001b[1;33m=\u001b[0m \u001b[0mtf_decorator\u001b[0m\u001b[1;33m.\u001b[0m\u001b[0munwrap\u001b[0m\u001b[1;33m(\u001b[0m\u001b[0mpython_func\u001b[0m\u001b[1;33m)\u001b[0m\u001b[1;33m\u001b[0m\u001b[1;33m\u001b[0m\u001b[0m\n\u001b[0;32m    980\u001b[0m \u001b[1;33m\u001b[0m\u001b[0m\n\u001b[1;32m--> 981\u001b[1;33m       \u001b[0mfunc_outputs\u001b[0m \u001b[1;33m=\u001b[0m \u001b[0mpython_func\u001b[0m\u001b[1;33m(\u001b[0m\u001b[1;33m*\u001b[0m\u001b[0mfunc_args\u001b[0m\u001b[1;33m,\u001b[0m \u001b[1;33m**\u001b[0m\u001b[0mfunc_kwargs\u001b[0m\u001b[1;33m)\u001b[0m\u001b[1;33m\u001b[0m\u001b[1;33m\u001b[0m\u001b[0m\n\u001b[0m\u001b[0;32m    982\u001b[0m \u001b[1;33m\u001b[0m\u001b[0m\n\u001b[0;32m    983\u001b[0m       \u001b[1;31m# invariant: `func_outputs` contains only Tensors, CompositeTensors,\u001b[0m\u001b[1;33m\u001b[0m\u001b[1;33m\u001b[0m\u001b[1;33m\u001b[0m\u001b[0m\n",
      "\u001b[1;32md:\\anaconda3\\envs\\python38\\lib\\site-packages\\tensorflow\\python\\eager\\def_function.py\u001b[0m in \u001b[0;36mwrapped_fn\u001b[1;34m(*args, **kwds)\u001b[0m\n\u001b[0;32m    439\u001b[0m         \u001b[1;31m# __wrapped__ allows AutoGraph to swap in a converted function. We give\u001b[0m\u001b[1;33m\u001b[0m\u001b[1;33m\u001b[0m\u001b[1;33m\u001b[0m\u001b[0m\n\u001b[0;32m    440\u001b[0m         \u001b[1;31m# the function a weak reference to itself to avoid a reference cycle.\u001b[0m\u001b[1;33m\u001b[0m\u001b[1;33m\u001b[0m\u001b[1;33m\u001b[0m\u001b[0m\n\u001b[1;32m--> 441\u001b[1;33m         \u001b[1;32mreturn\u001b[0m \u001b[0mweak_wrapped_fn\u001b[0m\u001b[1;33m(\u001b[0m\u001b[1;33m)\u001b[0m\u001b[1;33m.\u001b[0m\u001b[0m__wrapped__\u001b[0m\u001b[1;33m(\u001b[0m\u001b[1;33m*\u001b[0m\u001b[0margs\u001b[0m\u001b[1;33m,\u001b[0m \u001b[1;33m**\u001b[0m\u001b[0mkwds\u001b[0m\u001b[1;33m)\u001b[0m\u001b[1;33m\u001b[0m\u001b[1;33m\u001b[0m\u001b[0m\n\u001b[0m\u001b[0;32m    442\u001b[0m     \u001b[0mweak_wrapped_fn\u001b[0m \u001b[1;33m=\u001b[0m \u001b[0mweakref\u001b[0m\u001b[1;33m.\u001b[0m\u001b[0mref\u001b[0m\u001b[1;33m(\u001b[0m\u001b[0mwrapped_fn\u001b[0m\u001b[1;33m)\u001b[0m\u001b[1;33m\u001b[0m\u001b[1;33m\u001b[0m\u001b[0m\n\u001b[0;32m    443\u001b[0m \u001b[1;33m\u001b[0m\u001b[0m\n",
      "\u001b[1;32md:\\anaconda3\\envs\\python38\\lib\\site-packages\\tensorflow\\python\\framework\\func_graph.py\u001b[0m in \u001b[0;36mwrapper\u001b[1;34m(*args, **kwargs)\u001b[0m\n\u001b[0;32m    966\u001b[0m           \u001b[1;32mexcept\u001b[0m \u001b[0mException\u001b[0m \u001b[1;32mas\u001b[0m \u001b[0me\u001b[0m\u001b[1;33m:\u001b[0m  \u001b[1;31m# pylint:disable=broad-except\u001b[0m\u001b[1;33m\u001b[0m\u001b[1;33m\u001b[0m\u001b[0m\n\u001b[0;32m    967\u001b[0m             \u001b[1;32mif\u001b[0m \u001b[0mhasattr\u001b[0m\u001b[1;33m(\u001b[0m\u001b[0me\u001b[0m\u001b[1;33m,\u001b[0m \u001b[1;34m\"ag_error_metadata\"\u001b[0m\u001b[1;33m)\u001b[0m\u001b[1;33m:\u001b[0m\u001b[1;33m\u001b[0m\u001b[1;33m\u001b[0m\u001b[0m\n\u001b[1;32m--> 968\u001b[1;33m               \u001b[1;32mraise\u001b[0m \u001b[0me\u001b[0m\u001b[1;33m.\u001b[0m\u001b[0mag_error_metadata\u001b[0m\u001b[1;33m.\u001b[0m\u001b[0mto_exception\u001b[0m\u001b[1;33m(\u001b[0m\u001b[0me\u001b[0m\u001b[1;33m)\u001b[0m\u001b[1;33m\u001b[0m\u001b[1;33m\u001b[0m\u001b[0m\n\u001b[0m\u001b[0;32m    969\u001b[0m             \u001b[1;32melse\u001b[0m\u001b[1;33m:\u001b[0m\u001b[1;33m\u001b[0m\u001b[1;33m\u001b[0m\u001b[0m\n\u001b[0;32m    970\u001b[0m               \u001b[1;32mraise\u001b[0m\u001b[1;33m\u001b[0m\u001b[1;33m\u001b[0m\u001b[0m\n",
      "\u001b[1;31mValueError\u001b[0m: in user code:\n\n    d:\\anaconda3\\envs\\python38\\lib\\site-packages\\tensorflow\\python\\keras\\engine\\training.py:571 train_function  *\n        outputs = self.distribute_strategy.run(\n    d:\\anaconda3\\envs\\python38\\lib\\site-packages\\tensorflow\\python\\distribute\\distribute_lib.py:951 run  **\n        return self._extended.call_for_each_replica(fn, args=args, kwargs=kwargs)\n    d:\\anaconda3\\envs\\python38\\lib\\site-packages\\tensorflow\\python\\distribute\\distribute_lib.py:2290 call_for_each_replica\n        return self._call_for_each_replica(fn, args, kwargs)\n    d:\\anaconda3\\envs\\python38\\lib\\site-packages\\tensorflow\\python\\distribute\\distribute_lib.py:2649 _call_for_each_replica\n        return fn(*args, **kwargs)\n    d:\\anaconda3\\envs\\python38\\lib\\site-packages\\tensorflow\\python\\keras\\engine\\training.py:543 train_step  **\n        self.compiled_metrics.update_state(y, y_pred, sample_weight)\n    d:\\anaconda3\\envs\\python38\\lib\\site-packages\\tensorflow\\python\\keras\\engine\\compile_utils.py:391 update_state\n        self._build(y_pred, y_true)\n    d:\\anaconda3\\envs\\python38\\lib\\site-packages\\tensorflow\\python\\keras\\engine\\compile_utils.py:321 _build\n        self._metrics = nest.map_structure_up_to(y_pred, self._get_metric_objects,\n    d:\\anaconda3\\envs\\python38\\lib\\site-packages\\tensorflow\\python\\util\\nest.py:1114 map_structure_up_to\n        return map_structure_with_tuple_paths_up_to(\n    d:\\anaconda3\\envs\\python38\\lib\\site-packages\\tensorflow\\python\\util\\nest.py:1213 map_structure_with_tuple_paths_up_to\n        results = [func(*args, **kwargs) for args in zip(flat_path_list,\n    d:\\anaconda3\\envs\\python38\\lib\\site-packages\\tensorflow\\python\\util\\nest.py:1213 <listcomp>\n        results = [func(*args, **kwargs) for args in zip(flat_path_list,\n    d:\\anaconda3\\envs\\python38\\lib\\site-packages\\tensorflow\\python\\util\\nest.py:1116 <lambda>\n        lambda _, *values: func(*values),  # Discards the path arg.\n    d:\\anaconda3\\envs\\python38\\lib\\site-packages\\tensorflow\\python\\keras\\engine\\compile_utils.py:421 _get_metric_objects\n        return [self._get_metric_object(m, y_t, y_p) for m in metrics]\n    d:\\anaconda3\\envs\\python38\\lib\\site-packages\\tensorflow\\python\\keras\\engine\\compile_utils.py:421 <listcomp>\n        return [self._get_metric_object(m, y_t, y_p) for m in metrics]\n    d:\\anaconda3\\envs\\python38\\lib\\site-packages\\tensorflow\\python\\keras\\engine\\compile_utils.py:440 _get_metric_object\n        metric_obj = metrics_mod.get(metric)\n    d:\\anaconda3\\envs\\python38\\lib\\site-packages\\tensorflow\\python\\keras\\metrics.py:3358 get\n        return deserialize(str(identifier))\n    d:\\anaconda3\\envs\\python38\\lib\\site-packages\\tensorflow\\python\\keras\\metrics.py:3345 deserialize\n        return deserialize_keras_object(\n    d:\\anaconda3\\envs\\python38\\lib\\site-packages\\tensorflow\\python\\keras\\utils\\generic_utils.py:392 deserialize_keras_object\n        raise ValueError('Unknown ' + printable_module_name + ':' + object_name)\n\n    ValueError: Unknown metric function:precision\n"
     ]
    }
   ],
   "source": [
    "model_121.compile(loss = \"categorical_crossentropy\",   \n",
    "                  optimizer = \"adam\", #优化函数，不直接使用梯度下降\n",
    "                  metrics = [\"accuracy\", \"recall\"]) \n",
    "history=model_121.fit(  #使用model.fit()方法来执行训练过程，\n",
    "                      x_train[:500], y_train[:500], #告知训练集的输入以及标签，\n",
    "                      batch_size = 1, #每一批batch的大小为32，\n",
    "                      epochs = 3, #迭代次数epochs为500\n",
    ")"
   ]
  },
  {
   "cell_type": "code",
   "execution_count": null,
   "metadata": {},
   "outputs": [],
   "source": []
  },
  {
   "cell_type": "code",
   "execution_count": null,
   "metadata": {},
   "outputs": [],
   "source": [
    "scores = model_121.evaluate(x_test, y_test, verbose=1)"
   ]
  },
  {
   "cell_type": "code",
   "execution_count": null,
   "metadata": {},
   "outputs": [],
   "source": [
    "scores"
   ]
  },
  {
   "cell_type": "code",
   "execution_count": null,
   "metadata": {},
   "outputs": [],
   "source": []
  },
  {
   "cell_type": "code",
   "execution_count": null,
   "metadata": {},
   "outputs": [],
   "source": []
  },
  {
   "cell_type": "code",
   "execution_count": 88,
   "metadata": {
    "id": "i7WEoFzKGaI6"
   },
   "outputs": [],
   "source": [
    "# implement the code of your DenseNet-169 model here.\n",
    "def densenet_169():\n",
    "    return DenseNet(num_init_features=64, growth_rate=32, block_layers=[6, 12, 32, 32], compression_rate=0.5, drop_rate=0.5)"
   ]
  },
  {
   "cell_type": "code",
   "execution_count": 89,
   "metadata": {
    "id": "LYNoBKKwlCIL"
   },
   "outputs": [],
   "source": [
    "model_169 = densenet_169()"
   ]
  },
  {
   "cell_type": "markdown",
   "metadata": {
    "id": "EZF9IWPBHOUk"
   },
   "source": [
    "4. Train and evaluate your models. (25 marks)"
   ]
  },
  {
   "cell_type": "markdown",
   "metadata": {
    "id": "1E0ByaFKHQkH"
   },
   "source": [
    "    4.1 Train your models. (20 marks)"
   ]
  },
  {
   "cell_type": "code",
   "execution_count": 90,
   "metadata": {
    "id": "d-OxKjuIHUsa"
   },
   "outputs": [],
   "source": [
    "# implement your code here.\n"
   ]
  },
  {
   "cell_type": "code",
   "execution_count": null,
   "metadata": {
    "id": "tyN_wweWu9-p"
   },
   "outputs": [],
   "source": []
  },
  {
   "cell_type": "code",
   "execution_count": null,
   "metadata": {},
   "outputs": [],
   "source": []
  },
  {
   "cell_type": "code",
   "execution_count": null,
   "metadata": {},
   "outputs": [],
   "source": []
  },
  {
   "cell_type": "code",
   "execution_count": null,
   "metadata": {},
   "outputs": [],
   "source": []
  }
 ],
 "metadata": {
  "accelerator": "TPU",
  "colab": {
   "name": "pj.ipynb",
   "provenance": []
  },
  "kernelspec": {
   "display_name": "Python 3",
   "language": "python",
   "name": "python3"
  },
  "language_info": {
   "codemirror_mode": {
    "name": "ipython",
    "version": 3
   },
   "file_extension": ".py",
   "mimetype": "text/x-python",
   "name": "python",
   "nbconvert_exporter": "python",
   "pygments_lexer": "ipython3",
   "version": "3.8.5"
  }
 },
 "nbformat": 4,
 "nbformat_minor": 1
}
