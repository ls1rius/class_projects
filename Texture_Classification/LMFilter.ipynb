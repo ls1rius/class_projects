{
 "cells": [
  {
   "cell_type": "code",
   "execution_count": 2,
   "metadata": {},
   "outputs": [],
   "source": [
    "import numpy\n",
    "import math\n",
    "def makeRFSFilters():\n",
    "    SUP = 49\n",
    "    SCALES = [1,2,4]\n",
    "    NORIENT = 6\n",
    "    \n",
    "    NROTINV = 2\n",
    "    NBAR = len(SCALES) * NORIENT \n",
    "    NEDGE = len(SCALES) * NORIENT\n",
    "    NF = NEDGE + NBAR + NROTINV\n",
    "    F = numpy.zeros((NF, SUP, SUP))\n",
    "    hsup = 24\n",
    "    nownum = 0\n",
    "    x = []\n",
    "    y = []\n",
    "    for i in range(-hsup, hsup+1):\n",
    "        for j in range(-hsup, hsup+1):\n",
    "            x.append(j)\n",
    "            y.append(i)\n",
    "            nownum += 1\n",
    "    orgpts = numpy.zeros((2, SUP*SUP))\n",
    "    for i in range(SUP*SUP):\n",
    "        orgpts[0][i] = x[i]\n",
    "        orgpts[1][i] = y[i]\n",
    "    \n",
    "    count = 0\n",
    "    for scale in range(len(SCALES)):\n",
    "        for orient in range(NORIENT):\n",
    "            angle = math.pi * orient / NORIENT\n",
    "            Turn = numpy.zeros((2, 2))\n",
    "            c = math.cos(angle)\n",
    "            s = math.sin(angle)\n",
    "            Turn[1, 1] = c\n",
    "            Turn[0, 0] = c\n",
    "            Turn[0, 1] = -s\n",
    "            Turn[1, 0] = s\n",
    "            Turn = numpy.mat(Turn)\n",
    "            orgpts = numpy.mat(orgpts)\n",
    "            rotpts = Turn * orgpts\n",
    "            #print('r')\n",
    "            #print(rotpts)\n",
    "            F[count, :, :] = makefilter(SCALES[scale], 0, 1, rotpts, SUP)\n",
    "            F[count+NEDGE, :, :] = makefilter(SCALES[scale], 0, 2, rotpts, SUP)\n",
    "            count = count + 1\n",
    "            \n",
    "    F[NBAR+NEDGE, :, :] = normalize(imgGaussian(hsup, 10))\n",
    "    F[NBAR+NEDGE+1, :, :] = normalize(imgLaplacian(hsup, 10))\n",
    "    return F\n",
    "\n",
    "def makefilter(scale, phasex, phasey, pts, sup):\n",
    "    gx = gaussld(3*scale, 0, pts[0, :], phasex)\n",
    "    gy = gaussld(1*scale, 0, pts[1, :], phasey)\n",
    "    f = normalize(numpy.multiply(gx, gy).reshape(sup, sup))\n",
    "    return f\n",
    "\n",
    "def gaussld(sigma, mean, x, ord):\n",
    "    #print('x')\n",
    "    #print(x)\n",
    "    x = x - mean\n",
    "    x = numpy.mat(x)\n",
    "    num = numpy.multiply(x, x)\n",
    "    #print('x2')\n",
    "    #print(x)\n",
    "    #print(type(num))\n",
    "    variance = sigma ** 2\n",
    "    denom = 2 * variance\n",
    "    #print(denom)\n",
    "    g = numpy.exp(-1.0*num / denom) / numpy.sqrt(numpy.pi * denom)\n",
    "    #print('g')\n",
    "    #print(g)\n",
    "    if ord == 1:\n",
    "        g = numpy.multiply(g, x/variance)\n",
    "    elif ord == 2:\n",
    "        g = numpy.multiply(g, (num - variance) / (variance**2))\n",
    "    return g\n",
    "    \n",
    "def normalize(f):\n",
    "    f = f - f.mean()\n",
    "    f = f / abs(f).sum()\n",
    "    return f"
   ]
  },
  {
   "cell_type": "code",
   "execution_count": 3,
   "metadata": {},
   "outputs": [],
   "source": [
    "def imgGaussian(size, sigma):\n",
    "    '''\n",
    "    :param sigma: σ标准差\n",
    "    :return: 高斯滤波器的模板\n",
    "    '''\n",
    "    img_h = img_w = size*2+1\n",
    "    gaussian_mat = numpy.zeros((img_h, img_w))\n",
    "    for x in range(-size, size + 1):\n",
    "        for y in range(-size,size + 1):\n",
    "            gaussian_mat[x + size][y + size] = numpy.exp(-0.5 * (x ** 2 + y ** 2) / (sigma ** 2))\n",
    "    return gaussian_mat\n",
    "\n",
    "def imgLaplacian(size, sigma):\n",
    "    laplacian_mat = -imgGaussian(size, 10)\n",
    "    laplacian_mat[size+1, size+1] = -(laplacian_mat.sum() - laplacian_mat[size+1, size+1])\n",
    "    return laplacian_mat"
   ]
  },
  {
   "cell_type": "code",
   "execution_count": 4,
   "metadata": {},
   "outputs": [],
   "source": [
    "F = makeRFSFilters()"
   ]
  },
  {
   "cell_type": "code",
   "execution_count": 5,
   "metadata": {},
   "outputs": [
    {
     "data": {
      "text/plain": [
       "(38, 49, 49)"
      ]
     },
     "execution_count": 5,
     "metadata": {},
     "output_type": "execute_result"
    }
   ],
   "source": [
    "F.shape"
   ]
  },
  {
   "cell_type": "code",
   "execution_count": 22,
   "metadata": {},
   "outputs": [
    {
     "data": {
      "image/png": "[encoded data removed]",
      "text/plain": [
       "<Figure size 432x288 with 2 Axes>"
      ]
     },
     "metadata": {
      "needs_background": "light"
     },
     "output_type": "display_data"
    }
   ],
   "source": [
    "import matplotlib.pyplot as plt\n",
    "import matplotlib.ticker as ticker\n",
    "fig = plt.figure()\n",
    "ax = fig.add_subplot(111)\n",
    "cax = ax.matshow(F[30, : ,:])\n",
    "fig.colorbar(cax)\n",
    "plt.show()"
   ]
  },
  {
   "cell_type": "code",
   "execution_count": 10,
   "metadata": {},
   "outputs": [
    {
     "data": {
      "text/plain": [
       "38"
      ]
     },
     "execution_count": 10,
     "metadata": {},
     "output_type": "execute_result"
    }
   ],
   "source": [
    "len(F)"
   ]
  },
  {
   "cell_type": "code",
   "execution_count": null,
   "metadata": {},
   "outputs": [],
   "source": []
  }
 ],
 "metadata": {
  "kernelspec": {
   "display_name": "Python 3",
   "language": "python",
   "name": "python3"
  },
  "language_info": {
   "codemirror_mode": {
    "name": "ipython",
    "version": 3
   },
   "file_extension": ".py",
   "mimetype": "text/x-python",
   "name": "python",
   "nbconvert_exporter": "python",
   "pygments_lexer": "ipython3",
   "version": "3.8.5"
  }
 },
 "nbformat": 4,
 "nbformat_minor": 4
}
