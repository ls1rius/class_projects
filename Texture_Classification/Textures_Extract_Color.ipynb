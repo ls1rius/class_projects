{
 "cells": [
  {
   "cell_type": "code",
   "execution_count": 1,
   "metadata": {},
   "outputs": [],
   "source": [
    "import numpy as np\n",
    "import matplotlib.image as mpimg\n",
    "import matplotlib.pyplot as plt\n",
    "from skimage import feature as skft\n",
    "from sklearn.multiclass import OneVsRestClassifier\n",
    "from sklearn.svm import SVC, SVR, LinearSVC"
   ]
  },
  {
   "cell_type": "code",
   "execution_count": 2,
   "metadata": {},
   "outputs": [],
   "source": [
    "classes = ['aluminium_foil', 'brown_bread', 'corduroy', 'cotton', 'cracker', 'linen', 'orange_peel', 'sandpaper', 'sponge', 'styrofoam']\n",
    "sample_numbers = ['15', '48', '42', '46', '60', '44', '55', '06', '21', '20']\n",
    "# 10 classes in total, 81 pics in each class which contains 9 pics and each pic has 9 scales.\n",
    "# for each class, use 7 pics to train and 2 to test"
   ]
  },
  {
   "cell_type": "code",
   "execution_count": 3,
   "metadata": {},
   "outputs": [],
   "source": [
    "def load_data():\n",
    "    train_data = []\n",
    "    test_data = []\n",
    "    train_label = []\n",
    "    test_label = []\n",
    "    for c in range(len(classes)):\n",
    "        for p in range(1,10): # 9 different pics actually\n",
    "            for s in range(1,10): # each pic has 9 scales\n",
    "                path = './KTH-TIPS/kth_tips_col_200x200/KTH_TIPS/' + classes[c] + '/' + sample_numbers[c] + '-scale_' + str(s) + '_im_' + str(p) + '_col.png'\n",
    "                img = mpimg.imread(path)\n",
    "                if p < 9:\n",
    "                    train_data.append(img)\n",
    "                    train_label.append(c)\n",
    "                else:\n",
    "                    test_data.append(img)\n",
    "                    test_label.append(c)\n",
    "    return train_data, test_data, np.array(train_label), np.array(test_label)"
   ]
  },
  {
   "cell_type": "code",
   "execution_count": 4,
   "metadata": {},
   "outputs": [],
   "source": [
    "radius = 1\n",
    "n_point = radius * 8\n",
    "def texture_detect(train_data, test_data):\n",
    "    train_hist = np.zeros((len(train_data),256*3))\n",
    "    test_hist = np.zeros((len(test_data),256*3))\n",
    "    for i in np.arange(len(train_data)):\n",
    "        lbp_r=skft.local_binary_pattern(train_data[i][:, :, 0], n_point, radius, 'default')\n",
    "        lbp_g=skft.local_binary_pattern(train_data[i][:, :, 1], n_point, radius, 'default')\n",
    "        lbp_b=skft.local_binary_pattern(train_data[i][:, :, 2], n_point, radius, 'default')\n",
    "        max_bins = int(lbp_r.max() + 1)\n",
    "        train_hist[i][:256], _ = np.histogram(lbp_r, normed=True, bins=max_bins, range=(0, max_bins))\n",
    "        train_hist[i][256:512], _ = np.histogram(lbp_g, normed=True, bins=max_bins, range=(0, max_bins))\n",
    "        train_hist[i][512:], _ = np.histogram(lbp_b, normed=True, bins=max_bins, range=(0, max_bins))\n",
    "    for i in np.arange(len(test_data)):\n",
    "        lbp_r=skft.local_binary_pattern(test_data[i][:, :, 0], n_point, radius, 'default')\n",
    "        lbp_g=skft.local_binary_pattern(test_data[i][:, :, 1], n_point, radius, 'default')\n",
    "        lbp_b=skft.local_binary_pattern(test_data[i][:, :, 2], n_point, radius, 'default')\n",
    "        max_bins = int(lbp_r.max() + 1)\n",
    "        test_hist[i][:256], _ = np.histogram(lbp_r, normed=True, bins=max_bins, range=(0, max_bins))\n",
    "        test_hist[i][256:512], _ = np.histogram(lbp_g, normed=True, bins=max_bins, range=(0, max_bins))\n",
    "        test_hist[i][512:], _ = np.histogram(lbp_b, normed=True, bins=max_bins, range=(0, max_bins))\n",
    "    return train_hist, test_hist"
   ]
  },
  {
   "cell_type": "code",
   "execution_count": 5,
   "metadata": {},
   "outputs": [],
   "source": [
    "def show_result(result, num):\n",
    "    c = num // 9\n",
    "    p = 9\n",
    "    s = num % 9 + 1\n",
    "    path = './KTH-TIPS/kth_tips_col_200x200/KTH_TIPS/' + classes[c] + '/' + sample_numbers[c] + '-scale_' + str(s) + '_im_' + str(p) + '_col.png'\n",
    "    print(path)\n",
    "    img = mpimg.imread(path)\n",
    "    cl = classes[result[num]]\n",
    "    plt.figure()\n",
    "    plt.title(cl)\n",
    "    plt.imshow(img)\n",
    "    plt.show()"
   ]
  },
  {
   "cell_type": "code",
   "execution_count": 6,
   "metadata": {},
   "outputs": [
    {
     "name": "stderr",
     "output_type": "stream",
     "text": [
      "<ipython-input-4-995ee695a3f8>:11: VisibleDeprecationWarning: Passing `normed=True` on non-uniform bins has always been broken, and computes neither the probability density function nor the probability mass function. The result is only correct if the bins are uniform, when density=True will produce the same result anyway. The argument will be removed in a future version of numpy.\n",
      "  train_hist[i][:256], _ = np.histogram(lbp_r, normed=True, bins=max_bins, range=(0, max_bins))\n",
      "<ipython-input-4-995ee695a3f8>:12: VisibleDeprecationWarning: Passing `normed=True` on non-uniform bins has always been broken, and computes neither the probability density function nor the probability mass function. The result is only correct if the bins are uniform, when density=True will produce the same result anyway. The argument will be removed in a future version of numpy.\n",
      "  train_hist[i][256:512], _ = np.histogram(lbp_g, normed=True, bins=max_bins, range=(0, max_bins))\n",
      "<ipython-input-4-995ee695a3f8>:13: VisibleDeprecationWarning: Passing `normed=True` on non-uniform bins has always been broken, and computes neither the probability density function nor the probability mass function. The result is only correct if the bins are uniform, when density=True will produce the same result anyway. The argument will be removed in a future version of numpy.\n",
      "  train_hist[i][512:], _ = np.histogram(lbp_b, normed=True, bins=max_bins, range=(0, max_bins))\n",
      "<ipython-input-4-995ee695a3f8>:19: VisibleDeprecationWarning: Passing `normed=True` on non-uniform bins has always been broken, and computes neither the probability density function nor the probability mass function. The result is only correct if the bins are uniform, when density=True will produce the same result anyway. The argument will be removed in a future version of numpy.\n",
      "  test_hist[i][:256], _ = np.histogram(lbp_r, normed=True, bins=max_bins, range=(0, max_bins))\n",
      "<ipython-input-4-995ee695a3f8>:20: VisibleDeprecationWarning: Passing `normed=True` on non-uniform bins has always been broken, and computes neither the probability density function nor the probability mass function. The result is only correct if the bins are uniform, when density=True will produce the same result anyway. The argument will be removed in a future version of numpy.\n",
      "  test_hist[i][256:512], _ = np.histogram(lbp_g, normed=True, bins=max_bins, range=(0, max_bins))\n",
      "<ipython-input-4-995ee695a3f8>:21: VisibleDeprecationWarning: Passing `normed=True` on non-uniform bins has always been broken, and computes neither the probability density function nor the probability mass function. The result is only correct if the bins are uniform, when density=True will produce the same result anyway. The argument will be removed in a future version of numpy.\n",
      "  test_hist[i][512:], _ = np.histogram(lbp_b, normed=True, bins=max_bins, range=(0, max_bins))\n"
     ]
    },
    {
     "name": "stdout",
     "output_type": "stream",
     "text": [
      "0.9\n",
      "[0 0 0 0 0 0 0 0 0 1 1 1 1 1 1 1 1 1 2 2 2 2 2 2 2 2 2 2 3 3 3 3 3 3 9 3 6\n",
      " 4 4 4 4 4 4 4 4 5 5 5 5 5 5 5 5 5 6 6 6 6 6 6 6 6 6 2 7 7 7 9 7 7 9 9 1 8\n",
      " 8 8 8 8 8 8 8 4 9 9 9 9 9 9 9 9]\n"
     ]
    }
   ],
   "source": [
    "train_data, test_data, train_label, test_label= load_data()\n",
    "train_hist, test_hist = texture_detect(train_data, test_data)\n",
    "\n",
    "model = OneVsRestClassifier(SVR(kernel='rbf', C=1e3, gamma=0.1))\n",
    "model = model.fit(train_hist, train_label)\n",
    "acc = model.score(test_hist, test_label)\n",
    "result = model.predict(test_hist)\n",
    "\n",
    "print(acc)\n",
    "print(result)\n",
    "# show_result(result, 0)  # choose a predict result to show (0~89)"
   ]
  },
  {
   "cell_type": "code",
   "execution_count": null,
   "metadata": {},
   "outputs": [],
   "source": []
  }
 ],
 "metadata": {
  "kernelspec": {
   "display_name": "Python 3",
   "language": "python",
   "name": "python3"
  },
  "language_info": {
   "codemirror_mode": {
    "name": "ipython",
    "version": 3
   },
   "file_extension": ".py",
   "mimetype": "text/x-python",
   "name": "python",
   "nbconvert_exporter": "python",
   "pygments_lexer": "ipython3",
   "version": "3.8.5"
  }
 },
 "nbformat": 4,
 "nbformat_minor": 4
}
