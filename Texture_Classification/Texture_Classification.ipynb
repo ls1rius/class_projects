{
 "cells": [
  {
   "cell_type": "code",
   "execution_count": 1,
   "metadata": {},
   "outputs": [],
   "source": [
    "import numpy as np\n",
    "import matplotlib.pyplot as plt\n",
    "from skimage import feature as skft\n",
    "from sklearn.multiclass import OneVsRestClassifier\n",
    "from sklearn.svm import SVC, SVR, LinearSVC\n",
    "import cv2"
   ]
  },
  {
   "cell_type": "code",
   "execution_count": 2,
   "metadata": {},
   "outputs": [],
   "source": [
    "import numpy\n",
    "import math\n",
    "def makeRFSFilters():\n",
    "    SUP = 49\n",
    "    SCALES = [1,2,4]\n",
    "    NORIENT = 6\n",
    "    \n",
    "    NROTINV = 2\n",
    "    NBAR = len(SCALES) * NORIENT \n",
    "    NEDGE = len(SCALES) * NORIENT\n",
    "    NF = NEDGE + NBAR + NROTINV\n",
    "    F = numpy.zeros((NF, SUP, SUP))\n",
    "    hsup = 24\n",
    "    nownum = 0\n",
    "    x = []\n",
    "    y = []\n",
    "    for i in range(-hsup, hsup+1):\n",
    "        for j in range(-hsup, hsup+1):\n",
    "            x.append(j)\n",
    "            y.append(i)\n",
    "            nownum += 1\n",
    "    orgpts = numpy.zeros((2, SUP*SUP))\n",
    "    for i in range(SUP*SUP):\n",
    "        orgpts[0][i] = x[i]\n",
    "        orgpts[1][i] = y[i]\n",
    "    \n",
    "    count = 0\n",
    "    for scale in range(len(SCALES)):\n",
    "        for orient in range(NORIENT):\n",
    "            angle = math.pi * orient / NORIENT\n",
    "            Turn = numpy.zeros((2, 2))\n",
    "            c = math.cos(angle)\n",
    "            s = math.sin(angle)\n",
    "            Turn[1, 1] = c\n",
    "            Turn[0, 0] = c\n",
    "            Turn[0, 1] = -s\n",
    "            Turn[1, 0] = s\n",
    "            Turn = numpy.mat(Turn)\n",
    "            orgpts = numpy.mat(orgpts)\n",
    "            rotpts = Turn * orgpts\n",
    "            F[count, :, :] = makefilter(SCALES[scale], 0, 1, rotpts, SUP)\n",
    "            F[count+NEDGE, :, :] = makefilter(SCALES[scale], 0, 2, rotpts, SUP)\n",
    "            count = count + 1\n",
    "            \n",
    "    F[NBAR+NEDGE, :, :] = normalize(imgGaussian(hsup, 10))\n",
    "    F[NBAR+NEDGE+1, :, :] = normalize(imgLaplacian(hsup, 10))\n",
    "    return F\n",
    "\n",
    "def makefilter(scale, phasex, phasey, pts, sup):\n",
    "    gx = gaussld(3*scale, 0, pts[0, :], phasex)\n",
    "    gy = gaussld(1*scale, 0, pts[1, :], phasey)\n",
    "    f = normalize(numpy.multiply(gx, gy).reshape(sup, sup))\n",
    "    return f\n",
    "\n",
    "def gaussld(sigma, mean, x, ord):\n",
    "    x = x - mean\n",
    "    x = numpy.mat(x)\n",
    "    num = numpy.multiply(x, x)\n",
    "    variance = sigma ** 2\n",
    "    denom = 2 * variance\n",
    "    g = numpy.exp(-1.0*num / denom) / numpy.sqrt(numpy.pi * denom)\n",
    "    if ord == 1:\n",
    "        g = numpy.multiply(g, x/variance)\n",
    "    elif ord == 2:\n",
    "        g = numpy.multiply(g, (num - variance) / (variance**2))\n",
    "    return g\n",
    "    \n",
    "def normalize(f):\n",
    "    f = f - f.mean()\n",
    "    f = f / abs(f).sum()\n",
    "    return f"
   ]
  },
  {
   "cell_type": "code",
   "execution_count": 3,
   "metadata": {},
   "outputs": [],
   "source": [
    "def imgGaussian(size, sigma):\n",
    "    '''\n",
    "    :param sigma: σ标准差\n",
    "    :return: 高斯滤波器的模板\n",
    "    '''\n",
    "    img_h = img_w = size*2+1\n",
    "    gaussian_mat = numpy.zeros((img_h, img_w))\n",
    "    for x in range(-size, size + 1):\n",
    "        for y in range(-size,size + 1):\n",
    "            gaussian_mat[x + size][y + size] = numpy.exp(-0.5 * (x ** 2 + y ** 2) / (sigma ** 2))\n",
    "    return gaussian_mat\n",
    "\n",
    "def imgLaplacian(size, sigma):\n",
    "    laplacian_mat = -imgGaussian(size, 10)\n",
    "    laplacian_mat[size+1, size+1] = -(laplacian_mat.sum() - laplacian_mat[size+1, size+1])\n",
    "    return laplacian_mat"
   ]
  },
  {
   "cell_type": "code",
   "execution_count": 4,
   "metadata": {},
   "outputs": [],
   "source": [
    "F = makeRFSFilters()"
   ]
  },
  {
   "cell_type": "code",
   "execution_count": 5,
   "metadata": {},
   "outputs": [],
   "source": [
    "classes = ['aluminium_foil', 'brown_bread', 'corduroy', 'cotton', 'cracker', 'linen', 'orange_peel', 'sandpaper', 'sponge', 'styrofoam']\n",
    "sample_numbers = ['15', '48', '42', '46', '60', '44', '55', '06', '21', '20']\n",
    "# 10 classes in total, 81 pics in each class which contains 9 pics and each pic has 9 scales.\n",
    "# for each class, use 7 pics to train and 2 to test"
   ]
  },
  {
   "cell_type": "code",
   "execution_count": 6,
   "metadata": {},
   "outputs": [],
   "source": [
    "def load_data():\n",
    "    # trian:test = 8:1\n",
    "    train_data = []\n",
    "    test_data = []\n",
    "    train_label = []\n",
    "    test_label = []\n",
    "    for c in range(len(classes)):\n",
    "        for p in range(1, 10):  # 9 different pics actually\n",
    "            for s in range(1, 10):  # each pic has 9 scales\n",
    "                \n",
    "                if is_grey:\n",
    "                    path = './KTH-TIPS/kth_tips_grey_200x200/KTH_TIPS/' + classes[c] + '/' + sample_numbers[c] + '-scale_' + str(s) + '_im_' + str(p) + '_grey.png'\n",
    "                else:\n",
    "                    path = './KTH-TIPS/kth_tips_col_200x200/KTH_TIPS/' + classes[c] + '/' + sample_numbers[c] + '-scale_' + str(s) + '_im_' + str(p) + '_col.png'\n",
    "                \n",
    "                img = plt.imread(path)\n",
    "                img = cv2.resize(img, (200,200), interpolation=cv2.INTER_AREA) \n",
    "                if p < 9:\n",
    "                    train_data.append(img)\n",
    "                    train_label.append(c)\n",
    "                else:\n",
    "                    test_data.append(img)\n",
    "                    test_label.append(c)\n",
    "                    \n",
    "    return train_data, test_data, np.array(train_label), np.array(test_label)"
   ]
  },
  {
   "cell_type": "code",
   "execution_count": 7,
   "metadata": {},
   "outputs": [],
   "source": [
    "radius = 1\n",
    "n_point = radius * 8\n",
    "def texture_detect_grey(train_data, test_data):\n",
    "    train_hist = np.zeros( (len(train_data), 256) )\n",
    "    test_hist = np.zeros( (len(test_data), 256) )\n",
    "    for i in range(len(train_data)):\n",
    "        lbp = skft.local_binary_pattern(train_data[i], n_point, radius, 'default')\n",
    "        max_bins = int(lbp.max() + 1)\n",
    "        train_hist[i], _ = np.histogram(lbp, normed=True, bins=max_bins, range=(0, max_bins))\n",
    "    for i in range(len(test_data)):\n",
    "        lbp = skft.local_binary_pattern(test_data[i], n_point, radius, 'default')\n",
    "        max_bins = int(lbp.max() + 1)\n",
    "        test_hist[i], _ = np.histogram(lbp, normed=True, bins=max_bins, range=(0, max_bins))\n",
    "    return train_hist, test_hist\n",
    "\n",
    "\n",
    "def texture_detect_color(train_data, test_data):\n",
    "    train_hist = np.zeros((len(train_data),256*3))\n",
    "    test_hist = np.zeros((len(test_data),256*3))\n",
    "    for i in np.arange(len(train_data)):\n",
    "        lbp_r=skft.local_binary_pattern(train_data[i][:, :, 0], n_point, radius, 'default')\n",
    "        lbp_g=skft.local_binary_pattern(train_data[i][:, :, 1], n_point, radius, 'default')\n",
    "        lbp_b=skft.local_binary_pattern(train_data[i][:, :, 2], n_point, radius, 'default')\n",
    "        max_bins = int(lbp_r.max() + 1)\n",
    "        train_hist[i][:256], _ = np.histogram(lbp_r, normed=True, bins=max_bins, range=(0, max_bins))\n",
    "        train_hist[i][256:512], _ = np.histogram(lbp_g, normed=True, bins=max_bins, range=(0, max_bins))\n",
    "        train_hist[i][512:], _ = np.histogram(lbp_b, normed=True, bins=max_bins, range=(0, max_bins))\n",
    "    for i in np.arange(len(test_data)):\n",
    "        lbp_r=skft.local_binary_pattern(test_data[i][:, :, 0], n_point, radius, 'default')\n",
    "        lbp_g=skft.local_binary_pattern(test_data[i][:, :, 1], n_point, radius, 'default')\n",
    "        lbp_b=skft.local_binary_pattern(test_data[i][:, :, 2], n_point, radius, 'default')\n",
    "        max_bins = int(lbp_r.max() + 1)\n",
    "        test_hist[i][:256], _ = np.histogram(lbp_r, normed=True, bins=max_bins, range=(0, max_bins))\n",
    "        test_hist[i][256:512], _ = np.histogram(lbp_g, normed=True, bins=max_bins, range=(0, max_bins))\n",
    "        test_hist[i][512:], _ = np.histogram(lbp_b, normed=True, bins=max_bins, range=(0, max_bins))\n",
    "    return train_hist, test_hist"
   ]
  },
  {
   "cell_type": "code",
   "execution_count": 8,
   "metadata": {},
   "outputs": [],
   "source": [
    "# max pooling\n",
    "def max_pooling(img, G=8):\n",
    "    # Max Pooling\n",
    "    \n",
    "    size = img.shape\n",
    "    if(len(size)==2):\n",
    "        H, W = img.shape\n",
    "        Nh = int(H / G)\n",
    "        Nw = int(W / G)\n",
    "        out = np.zeros((Nh,Nw))\n",
    "        for y in range(Nh):\n",
    "            for x in range(Nw):\n",
    "                    out[y][x] = np.max(img[G*y:G*(y+1), G*x:G*(x+1)])\n",
    "    else:\n",
    "        H, W, C = img.shape\n",
    "        Nh = int(H / G)\n",
    "        Nw = int(W / G)\n",
    "        out = np.zeros((Nh,Nw,C))\n",
    "        for y in range(Nh):\n",
    "            for x in range(Nw):\n",
    "                for c in range(C):\n",
    "                    out[y][x][c] = np.max(img[G*y:G*(y+1), G*x:G*(x+1), c])\n",
    "\n",
    "    return out"
   ]
  },
  {
   "cell_type": "code",
   "execution_count": 9,
   "metadata": {},
   "outputs": [],
   "source": [
    "def conv_block(img, kernal, pooling_size=8):\n",
    "    \n",
    "    img = cv2.resize(img, (200,200), interpolation=cv2.INTER_AREA) \n",
    "    all_feature = []\n",
    "    for item in kernal:\n",
    "        conv = cv2.filter2D(img, -1, item)\n",
    "        conv = max_pooling(conv, pooling_size)\n",
    "        conv = conv.flatten().tolist()\n",
    "        all_feature.append(conv)\n",
    "        \n",
    "    all_feature = np.array(all_feature).flatten().tolist()\n",
    "    \n",
    "    return all_feature"
   ]
  },
  {
   "cell_type": "code",
   "execution_count": 10,
   "metadata": {},
   "outputs": [],
   "source": [
    "def run():\n",
    "    \n",
    "    train_data, test_data, train_label, test_label = load_data()\n",
    "    \n",
    "    if is_lbp:\n",
    "        if is_grey:\n",
    "            train_hist, test_hist = texture_detect_grey(train_data, test_data)\n",
    "        else:\n",
    "            train_hist, test_hist = texture_detect_color(train_data, test_data)\n",
    "    else:\n",
    "        train_hist = np.array([conv_block(item, F, 25) for item in train_data])\n",
    "        test_hist = np.array([conv_block(item, F, 25) for item in test_data])\n",
    "        \n",
    "        \n",
    "    model = OneVsRestClassifier(SVR(kernel='linear', C=1e3, gamma=0.1))\n",
    "    model = model.fit(train_hist, train_label)\n",
    "    acc = model.score(test_hist, test_label)\n",
    "    result = model.predict(test_hist)\n",
    "    \n",
    "    print(acc)\n",
    "    print(result)"
   ]
  },
  {
   "cell_type": "code",
   "execution_count": 11,
   "metadata": {},
   "outputs": [
    {
     "name": "stdout",
     "output_type": "stream",
     "text": [
      "0.8\n",
      "[8 3 2 3 3 3 7 7 7 1 1 7 1 1 1 1 1 1 2 2 2 2 2 2 2 2 3 8 3 3 3 3 3 3 3 3 1\n",
      " 4 4 4 4 4 4 4 4 5 5 5 5 5 5 5 5 5 6 6 6 6 6 6 6 6 6 6 9 9 7 7 7 7 7 7 8 8\n",
      " 8 8 8 8 8 8 8 9 9 7 9 9 7 9 9 9]\n"
     ]
    }
   ],
   "source": [
    "is_grey = True\n",
    "is_lbp = False\n",
    "\n",
    "run()"
   ]
  },
  {
   "cell_type": "code",
   "execution_count": null,
   "metadata": {},
   "outputs": [],
   "source": []
  },
  {
   "cell_type": "code",
   "execution_count": 12,
   "metadata": {},
   "outputs": [
    {
     "name": "stdout",
     "output_type": "stream",
     "text": [
      "0.8777777777777778\n",
      "[8 3 2 0 3 0 7 7 7 1 1 1 1 1 1 1 1 1 2 2 2 2 2 2 2 2 3 3 3 3 3 3 3 3 3 3 4\n",
      " 4 4 4 4 4 4 4 4 5 5 5 5 5 5 5 5 5 6 6 6 6 6 6 6 6 6 7 9 7 7 9 7 7 7 7 8 8\n",
      " 8 8 8 8 8 8 8 9 9 7 9 9 9 9 9 9]\n"
     ]
    }
   ],
   "source": [
    "is_grey = False\n",
    "is_lbp = False\n",
    "\n",
    "run()"
   ]
  },
  {
   "cell_type": "code",
   "execution_count": null,
   "metadata": {},
   "outputs": [],
   "source": []
  },
  {
   "cell_type": "code",
   "execution_count": 13,
   "metadata": {},
   "outputs": [
    {
     "name": "stderr",
     "output_type": "stream",
     "text": [
      "<ipython-input-7-ec5108f4377d>:9: VisibleDeprecationWarning: Passing `normed=True` on non-uniform bins has always been broken, and computes neither the probability density function nor the probability mass function. The result is only correct if the bins are uniform, when density=True will produce the same result anyway. The argument will be removed in a future version of numpy.\n",
      "  train_hist[i], _ = np.histogram(lbp, normed=True, bins=max_bins, range=(0, max_bins))\n",
      "<ipython-input-7-ec5108f4377d>:13: VisibleDeprecationWarning: Passing `normed=True` on non-uniform bins has always been broken, and computes neither the probability density function nor the probability mass function. The result is only correct if the bins are uniform, when density=True will produce the same result anyway. The argument will be removed in a future version of numpy.\n",
      "  test_hist[i], _ = np.histogram(lbp, normed=True, bins=max_bins, range=(0, max_bins))\n"
     ]
    },
    {
     "name": "stdout",
     "output_type": "stream",
     "text": [
      "0.8\n",
      "[0 0 0 0 0 0 0 0 0 1 1 1 1 1 1 1 1 1 2 2 2 2 2 2 2 2 2 2 3 3 3 3 3 3 3 6 0\n",
      " 1 2 0 0 0 0 4 4 5 5 5 5 5 5 5 5 5 6 6 6 6 6 6 6 6 6 1 1 9 7 7 7 7 7 9 6 9\n",
      " 9 8 8 8 8 1 8 4 9 9 9 9 9 9 9 9]\n"
     ]
    }
   ],
   "source": [
    "is_grey = True\n",
    "is_lbp = True\n",
    "\n",
    "run()"
   ]
  },
  {
   "cell_type": "code",
   "execution_count": null,
   "metadata": {},
   "outputs": [],
   "source": []
  },
  {
   "cell_type": "code",
   "execution_count": 14,
   "metadata": {},
   "outputs": [
    {
     "name": "stderr",
     "output_type": "stream",
     "text": [
      "<ipython-input-7-ec5108f4377d>:25: VisibleDeprecationWarning: Passing `normed=True` on non-uniform bins has always been broken, and computes neither the probability density function nor the probability mass function. The result is only correct if the bins are uniform, when density=True will produce the same result anyway. The argument will be removed in a future version of numpy.\n",
      "  train_hist[i][:256], _ = np.histogram(lbp_r, normed=True, bins=max_bins, range=(0, max_bins))\n",
      "<ipython-input-7-ec5108f4377d>:26: VisibleDeprecationWarning: Passing `normed=True` on non-uniform bins has always been broken, and computes neither the probability density function nor the probability mass function. The result is only correct if the bins are uniform, when density=True will produce the same result anyway. The argument will be removed in a future version of numpy.\n",
      "  train_hist[i][256:512], _ = np.histogram(lbp_g, normed=True, bins=max_bins, range=(0, max_bins))\n",
      "<ipython-input-7-ec5108f4377d>:27: VisibleDeprecationWarning: Passing `normed=True` on non-uniform bins has always been broken, and computes neither the probability density function nor the probability mass function. The result is only correct if the bins are uniform, when density=True will produce the same result anyway. The argument will be removed in a future version of numpy.\n",
      "  train_hist[i][512:], _ = np.histogram(lbp_b, normed=True, bins=max_bins, range=(0, max_bins))\n",
      "<ipython-input-7-ec5108f4377d>:33: VisibleDeprecationWarning: Passing `normed=True` on non-uniform bins has always been broken, and computes neither the probability density function nor the probability mass function. The result is only correct if the bins are uniform, when density=True will produce the same result anyway. The argument will be removed in a future version of numpy.\n",
      "  test_hist[i][:256], _ = np.histogram(lbp_r, normed=True, bins=max_bins, range=(0, max_bins))\n",
      "<ipython-input-7-ec5108f4377d>:34: VisibleDeprecationWarning: Passing `normed=True` on non-uniform bins has always been broken, and computes neither the probability density function nor the probability mass function. The result is only correct if the bins are uniform, when density=True will produce the same result anyway. The argument will be removed in a future version of numpy.\n",
      "  test_hist[i][256:512], _ = np.histogram(lbp_g, normed=True, bins=max_bins, range=(0, max_bins))\n",
      "<ipython-input-7-ec5108f4377d>:35: VisibleDeprecationWarning: Passing `normed=True` on non-uniform bins has always been broken, and computes neither the probability density function nor the probability mass function. The result is only correct if the bins are uniform, when density=True will produce the same result anyway. The argument will be removed in a future version of numpy.\n",
      "  test_hist[i][512:], _ = np.histogram(lbp_b, normed=True, bins=max_bins, range=(0, max_bins))\n"
     ]
    },
    {
     "name": "stdout",
     "output_type": "stream",
     "text": [
      "0.9444444444444444\n",
      "[0 0 0 0 0 0 0 0 0 1 1 1 1 1 1 1 1 1 2 2 2 2 2 2 2 2 2 2 3 3 3 3 3 3 3 3 4\n",
      " 4 4 4 4 4 4 4 4 5 5 5 5 5 5 5 5 5 6 6 6 6 6 6 6 6 6 2 7 7 7 9 7 7 9 9 8 8\n",
      " 8 8 8 8 8 8 8 9 9 9 9 9 9 9 9 9]\n"
     ]
    }
   ],
   "source": [
    "is_grey = False\n",
    "is_lbp = True\n",
    "\n",
    "run()"
   ]
  },
  {
   "cell_type": "code",
   "execution_count": null,
   "metadata": {},
   "outputs": [],
   "source": []
  }
 ],
 "metadata": {
  "kernelspec": {
   "display_name": "Python 3",
   "language": "python",
   "name": "python3"
  },
  "language_info": {
   "codemirror_mode": {
    "name": "ipython",
    "version": 3
   },
   "file_extension": ".py",
   "mimetype": "text/x-python",
   "name": "python",
   "nbconvert_exporter": "python",
   "pygments_lexer": "ipython3",
   "version": "3.8.5"
  }
 },
 "nbformat": 4,
 "nbformat_minor": 4
}
