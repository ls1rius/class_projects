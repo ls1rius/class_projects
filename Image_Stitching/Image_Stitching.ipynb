{
 "cells": [
  {
   "cell_type": "code",
   "execution_count": 8,
   "metadata": {},
   "outputs": [],
   "source": [
    "import cv2\n",
    "import glob\n",
    "import numpy as np\n",
    "import matplotlib.pyplot as plt\n",
    "import sys"
   ]
  },
  {
   "cell_type": "code",
   "execution_count": 9,
   "metadata": {},
   "outputs": [],
   "source": [
    "def show_img(img):\n",
    "    img = np.uint8(img)\n",
    "    x,y = img.shape[0], img.shape[1]\n",
    "    cv2.imshow(\"img\", img)\n",
    "    cv2.waitKey(0)\n",
    "    cv2.destroyAllWindows()"
   ]
  },
  {
   "cell_type": "code",
   "execution_count": 10,
   "metadata": {},
   "outputs": [],
   "source": [
    "# 采集特征点\n",
    "def get_Homo_matrix(img1, img2):\n",
    "    orb = cv2.ORB_create(5000)\n",
    "    kp1, des1 = orb.detectAndCompute(img1, None)\n",
    "    kp2, des2 = orb.detectAndCompute(img2, None)                 # 检测特征点\n",
    "    bf = cv2.BFMatcher(cv2.NORM_HAMMING, crossCheck=True)       # 暴力匹配\n",
    "    matches = bf.match(des1, des2)\n",
    "    # 选取前100个匹配度较高的点\n",
    "    matches = sorted(matches, key=lambda x: x.distance)[:100]\n",
    "    if verbose:\n",
    "        show_img(cv2.drawMatches(img1, kp1, img2, kp2, matches, None, flags=2))\n",
    "\n",
    "    pts1 = []\n",
    "    pts2 = []\n",
    "    for m in range(len(matches)):\n",
    "        pts1.append(kp1[matches[m].queryIdx].pt) \n",
    "        pts2.append(kp2[matches[m].trainIdx].pt)\n",
    "        \n",
    "    # 单应性匹配\n",
    "    H, mask = cv2.findHomography(np.float32(pts1), np.float32(pts2), cv2.RANSAC)\n",
    "    \n",
    "#     # 基础矩阵匹配\n",
    "#     H, mask = cv2.findFundamentalMat(np.float32(pts1), np.float32(pts2), cv2.RANSAC) \n",
    "\n",
    "    if verbose:\n",
    "        matches = np.array(matches)\n",
    "        matches = matches[mask.ravel() == 1].tolist()\n",
    "        show_img(cv2.drawMatches(img1, kp1, img2, kp2, matches, None, flags=2))\n",
    "    \n",
    "    return H, mask\n"
   ]
  },
  {
   "cell_type": "code",
   "execution_count": 11,
   "metadata": {},
   "outputs": [],
   "source": [
    "# 仿射变换后的图像拼接\n",
    "def stitch_images(src, dst):\n",
    "    H, W = src.shape[0], src.shape[1]\n",
    "    for i in range(H):\n",
    "        for j in range(W):\n",
    "            flag = (src[i, j, :] != np.array([0, 0, 0])) \n",
    "            if flag.any():\n",
    "                dst[i, j] = src[i, j]\n",
    "    return dst"
   ]
  },
  {
   "cell_type": "code",
   "execution_count": 12,
   "metadata": {},
   "outputs": [],
   "source": [
    "# 去黑边\n",
    "def remove_black_pad(img):\n",
    "    H, W = img.shape[0], img.shape[1]\n",
    "    \n",
    "    left = 0\n",
    "    for i in range(0, H):\n",
    "        if (img[:, i, :] != np.array([0, 0, 0])).any():\n",
    "            left = i\n",
    "            break\n",
    "            \n",
    "    right = W\n",
    "    for i in range(left, W):\n",
    "        if (img[:, i, :] == np.array([0, 0, 0])).all():\n",
    "            right = i\n",
    "            break\n",
    "    \n",
    "    top = 0\n",
    "    for i in range(0, H):\n",
    "        if (img[i, :, :] != np.array([0, 0, 0])).any():\n",
    "            top = i\n",
    "            break\n",
    "    \n",
    "    bottom = H\n",
    "    for i in range(top, H):\n",
    "        if (img[i, :, :] == np.array([0, 0, 0])).all():\n",
    "            bottom = i\n",
    "            break\n",
    "#     print(top,bottom,left,right)\n",
    "    return img[top:bottom,left:right,:]"
   ]
  },
  {
   "cell_type": "code",
   "execution_count": 19,
   "metadata": {},
   "outputs": [],
   "source": [
    "# 对应变换拼接两张图片\n",
    "def two_img_stitch(res, next_img):\n",
    "    HH, extra = get_Homo_matrix(next_img, res)\n",
    "    # res 不动，以res为视角对cur_img进行当前视角下的仿射变换\n",
    "    img_changed = cv2.warpPerspective(next_img, HH, (res.shape[1] + next_img.shape[1], res.shape[0] + next_img.shape[0]))\n",
    "    if verbose:\n",
    "        show_img(img_changed)\n",
    "    res = stitch_images(res, img_changed)\n",
    "    # 去黑边\n",
    "    res = remove_black_pad(res)\n",
    "    # 加padding，防止界外截断\n",
    "    res = cv2.copyMakeBorder(res, padd, padd, padd, padd, cv2.BORDER_CONSTANT, 0)\n",
    "    if verbose:\n",
    "        show_img(res)\n",
    "    return res"
   ]
  },
  {
   "cell_type": "code",
   "execution_count": 20,
   "metadata": {},
   "outputs": [],
   "source": [
    "# 拼接图像队列，有固定视角\n",
    "def imglist_stitch(imglist):\n",
    "    img_count = len(imglist)\n",
    "#     view_point = int(img_count/2)\n",
    "    view_point = 0\n",
    "    res = imglist[view_point].copy()\n",
    "    \n",
    "    for cur_img_idx in range(img_count):\n",
    "        print(\"%d/%d\" % (cur_img_idx + 1, img_count))\n",
    "        if cur_img_idx!=view_point:\n",
    "            cur_img = imglist[cur_img_idx]\n",
    "            res = two_img_stitch(res, cur_img)\n",
    "            \n",
    "    res = remove_black_pad(res)    \n",
    "    return res"
   ]
  },
  {
   "cell_type": "code",
   "execution_count": 21,
   "metadata": {},
   "outputs": [],
   "source": [
    "# 拼接图像队列，以类似于haffman树的方式拼接\n",
    "# 视角尽量往中间靠\n",
    "def imglist_stitch_haff(imglist):\n",
    "    \n",
    "    img_count = len(imglist)\n",
    "    mid_idx = (img_count/2.0)\n",
    "    \n",
    "    while True:\n",
    "        if(img_count<=1):\n",
    "            break\n",
    "            \n",
    "        new_stitch_imglist = []\n",
    "        \n",
    "        for cur_img_idx in range(0, img_count - 1, 2):\n",
    "            print(\"%d/%d\" % (cur_img_idx + 1, img_count))\n",
    "            res = imglist[cur_img_idx].copy()\n",
    "            next_img = imglist[cur_img_idx + 1].copy()\n",
    "            # 以靠近中间视角的图像作为不动图，另一张图进行仿射变换\n",
    "            if cur_img_idx < mid_idx:\n",
    "                res, next_img = next_img, res\n",
    "            res = two_img_stitch(res, next_img)\n",
    "            new_stitch_imglist.append(res)\n",
    "\n",
    "        # 单数图剩最后一张\n",
    "        if(img_count % 2 == 1):\n",
    "            print(\"%d/%d\" % (img_count - 1, img_count))\n",
    "            res = imglist[img_count - 1 - 1].copy()\n",
    "            next_img = imglist[img_count - 1].copy()\n",
    "            res = two_img_stitch(res, next_img)\n",
    "            new_stitch_imglist.append(res)\n",
    "            \n",
    "        imglist = new_stitch_imglist.copy()\n",
    "        img_count = len(imglist)\n",
    "        mid_idx = int(img_count/2)\n",
    "            \n",
    "    res = remove_black_pad(imglist[0]) \n",
    "    \n",
    "    return res"
   ]
  },
  {
   "cell_type": "code",
   "execution_count": 22,
   "metadata": {},
   "outputs": [],
   "source": [
    "# 中文路径图像读取\n",
    "def cv2_imread(filePath):\n",
    "    cv2_img=cv2.imdecode(np.fromfile(filePath,dtype=np.uint8),-1)\n",
    "    return cv2_img"
   ]
  },
  {
   "cell_type": "code",
   "execution_count": 23,
   "metadata": {},
   "outputs": [],
   "source": [
    "# 中文路径图像写入\n",
    "def cv2_imwrite(filePath, img):\n",
    "    cv2.imencode('.jpeg', img)[1].tofile(filePath)"
   ]
  },
  {
   "cell_type": "code",
   "execution_count": 29,
   "metadata": {},
   "outputs": [
    {
     "name": "stdout",
     "output_type": "stream",
     "text": [
      "1/2\n"
     ]
    }
   ],
   "source": [
    "if __name__ == '__main__':\n",
    "\n",
    "    file_path = \"./图像拼接数据/旋转_缩放/1/\"\n",
    "#     file_path = \"./data/\"\n",
    "    filename_list = glob.glob(file_path + \"*.jpg\")\n",
    "    # 如果需要查看详细过程的话，建议缩小一定的图片比例\n",
    "    verbose = False\n",
    "    padd = 0\n",
    "    # 图片缩放比例\n",
    "    # 如果进行图像缩放，有可能会使得图像拼接失败\n",
    "    img_scale = 1\n",
    "    img_list = []\n",
    "    for filename in filename_list:\n",
    "#         img = cv2.imread(filename)\n",
    "        img = cv2_imread(filename)\n",
    "        x, y, _ = img.shape\n",
    "        img = cv2.resize(img, (y // img_scale, x // img_scale))\n",
    "        padd = max(padd,max(x // img_scale,y // img_scale))\n",
    "        img = cv2.copyMakeBorder(img, padd, padd, padd, padd, cv2.BORDER_CONSTANT, 0)\n",
    "        img_list.append(img)\n",
    "    \n",
    "    if(len(img_list) == 0):\n",
    "        print(\"当前文件夹内没有图像！\")\n",
    "        sys.exit()\n",
    "    \n",
    "    combine = imglist_stitch_haff(img_list.copy())\n",
    "#     cv2.imwrite(file_cudapath + \"final_huff.jpeg\", combine)\n",
    "    cv2_imwrite(file_path + \"final_huff.jpeg\", combine)\n",
    "    show_img(combine)    "
   ]
  },
  {
   "cell_type": "code",
   "execution_count": null,
   "metadata": {},
   "outputs": [],
   "source": []
  },
  {
   "cell_type": "code",
   "execution_count": null,
   "metadata": {},
   "outputs": [],
   "source": []
  }
 ],
 "metadata": {
  "kernelspec": {
   "display_name": "Python 3",
   "language": "python",
   "name": "python3"
  },
  "language_info": {
   "codemirror_mode": {
    "name": "ipython",
    "version": 3
   },
   "file_extension": ".py",
   "mimetype": "text/x-python",
   "name": "python",
   "nbconvert_exporter": "python",
   "pygments_lexer": "ipython3",
   "version": "3.8.5"
  }
 },
 "nbformat": 4,
 "nbformat_minor": 4
}
